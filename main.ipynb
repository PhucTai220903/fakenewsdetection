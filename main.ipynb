{
 "cells": [
  {
   "cell_type": "code",
   "execution_count": 2,
   "metadata": {
    "ExecuteTime": {
     "end_time": "2023-12-27T03:04:06.706477100Z",
     "start_time": "2023-12-27T03:04:05.120904Z"
    }
   },
   "outputs": [],
   "source": [
    "import numpy as np\n",
    "import pandas as pd\n",
    "import re #biểu thức chính quy\n",
    "import nltk\n",
    "from sklearn.feature_extraction.text import TfidfVectorizer\n",
    "from sklearn.model_selection import train_test_split\n",
    "from sklearn.metrics import accuracy_score\n",
    "\n",
    "from underthesea import chunk\n",
    "from underthesea import text_normalize\n",
    "import swifter\n",
    "\n",
    "from sklearn.svm import SVC\n",
    "from sklearn.model_selection import GridSearchCV"
   ]
  },
  {
   "cell_type": "markdown",
   "metadata": {},
   "source": [
    "Đọc dữ liệu"
   ]
  },
  {
   "cell_type": "code",
   "execution_count": 3,
   "metadata": {
    "ExecuteTime": {
     "end_time": "2023-12-27T03:04:06.751550200Z",
     "start_time": "2023-12-27T03:04:06.704471800Z"
    }
   },
   "outputs": [],
   "source": [
    "real_data = pd.read_csv('data/RealNewsfrom_NewsData_io_UPDATED.csv', encoding='utf-8')\n",
    "fake_data = pd.read_csv('data/FakeNews.csv', encoding='utf-8')"
   ]
  },
  {
   "cell_type": "markdown",
   "metadata": {},
   "source": [
    "Xác định và chuẩn bị dữ liệu"
   ]
  },
  {
   "cell_type": "code",
   "execution_count": 4,
   "metadata": {
    "ExecuteTime": {
     "end_time": "2023-12-27T03:04:06.752553100Z",
     "start_time": "2023-12-27T03:04:06.745641100Z"
    }
   },
   "outputs": [],
   "source": [
    "real_data['label'] = 0 #real\n",
    "fake_data['label'] = 1 #fake\n",
    "\n",
    "# Kết hợp hai DataFrame thành một DataFrame lớn\n",
    "data = pd.concat([real_data, fake_data], ignore_index=True)\n",
    "data = data.fillna('')"
   ]
  },
  {
   "cell_type": "markdown",
   "metadata": {},
   "source": [
    "Gộp các trường title, content, creator lại thành 1 trường text (1 cột trong dataframe)"
   ]
  },
  {
   "cell_type": "code",
   "execution_count": 5,
   "metadata": {
    "ExecuteTime": {
     "end_time": "2023-12-27T03:04:06.792169200Z",
     "start_time": "2023-12-27T03:04:06.766657900Z"
    }
   },
   "outputs": [],
   "source": [
    "data['text'] = data['title']+ ' ' + data['content'] + ' ' + data['creator']"
   ]
  },
  {
   "cell_type": "markdown",
   "metadata": {},
   "source": [
    "Mở tệp dữ liệu temp_data_noClean.csv và kiểm tra"
   ]
  },
  {
   "cell_type": "code",
   "execution_count": 6,
   "metadata": {
    "ExecuteTime": {
     "end_time": "2023-12-27T03:04:06.843958900Z",
     "start_time": "2023-12-27T03:04:06.776112500Z"
    }
   },
   "outputs": [
    {
     "name": "stdout",
     "output_type": "stream",
     "text": [
      "0       Ông Tucker Carlson đưa ra lời cảnh báo tới ông...\n",
      "1       Đức điều động binh sĩ tới Lithuania trong đợt ...\n",
      "2       Thừa nhận mới nhất của ĐCSTQ về tình hình dịch...\n",
      "3       Nghe tiếng khóc của đứa trẻ sơ sinh, biết trướ...\n",
      "4       Con trai Trương Tấn Sang bị đẩy ra khỏi TP.HCM...\n",
      "                              ...                        \n",
      "1638     Ở Việt Nam bị cấm tuyệt đối không được kết hô...\n",
      "1639     Người Dân trên toàn trái đất đi sơ tán vì sắp...\n",
      "1640     Tất cả những tin tức trên Facebookn đều là gi...\n",
      "1641     Đưa tin thất thiệt mang nhiều hệ quả rất xấu ...\n",
      "1642              Đa cấp là ngành thiết yếu của Việt Nam \n",
      "Name: text, Length: 1643, dtype: object\n"
     ]
    }
   ],
   "source": [
    "data_check = pd.read_csv('data/temp_data_noClean.csv', encoding='utf-8')\n",
    "print(data['text'])"
   ]
  },
  {
   "cell_type": "markdown",
   "metadata": {},
   "source": [
    "Tối ưu dữ liệu nhập vào tránh phải chuẩn hóa các bài báo cũ:\n",
    "- Bước 1: Ghép (merge) hai DataFrame data và data_check dựa trên cột 'text' với kiểu ghép là 'outer' (ghép toàn bộ).\n",
    "- Bước 2: Lọc những hàng chỉ xuất hiện trong data mà không xuất hiện trong data_check.\n",
    "- Bước 3: Kiểm tra missing_rows_data_in_datacheck có giá trị được truyền vào hay không:\n",
    "    + Nếu không phát hiện không có giá trị nào được truyền vào thì trả về 1 dataframe rỗng chứa duy nhất các trường mặc định của data\n",
    "    + Nếu có giá trị được truyền vào missing_rows_data_in_datacheck thức hiện các mục:\n",
    "In ra result_value để kiểm tra"
   ]
  },
  {
   "cell_type": "code",
   "execution_count": 7,
   "metadata": {
    "ExecuteTime": {
     "end_time": "2023-12-27T03:04:06.861985200Z",
     "start_time": "2023-12-27T03:04:06.842959200Z"
    }
   },
   "outputs": [
    {
     "name": "stdout",
     "output_type": "stream",
     "text": [
      "                                                  text  label\n",
      "882  Cưới xong vài ngày mẹ chồng mới trao cho cả tú...      0\n",
      "883  Việt Nam đón 12,6 triệu lượt du khách quốc tế,...      0\n",
      "884  Apple Music chọn top ca khúc Kpop hay nhất 202...      0\n",
      "885  Tuyển Hàn Quốc triệu tập 'đội hình mạnh nhất l...      0\n",
      "886  Haaland nhận giải thưởng \"hiếm có\" mà Ronaldo ...      0\n",
      "887  TP.HCM thưởng Tết bình quân hơn 12,3 triệu đồn...      0\n",
      "888  Triệt phá nhóm sản xuất dầu nhớt giả quy mô lớ...      0\n",
      "889  NATO lên tiếng khi Ba Lan nghi tên lửa Nga đi ...      0\n",
      "890  Bố trí, sắp xếp ổn định dân di cư tự do ở Tây ...      0\n",
      "891  Hỗ trợ phát triển sản xuất, giúp người dân vùn...      0\n",
      "892  Kết quả tennis 29/12: Sội động giải đấu quần v...      0\n",
      "893  Pep Guardiola xác nhận, khả năng ra sân của 5 ...      0\n",
      "894  Bộ 3 tân binh gây ấn tượng trong lần đầu lên t...      0\n",
      "895  Nhận định, dự đoán Al Tai vs Al Ittihad, 22h00...      0\n",
      "896  Nhận định, dự đoán AC Milan vs Sassuolo, 00h00...      0\n",
      "897  Những ‘chảo lửa’ vẫn luôn cháy tại V-League 20...      0\n",
      "898  Nhận định, dự đoán Wolves vs Everton, 22h00 ng...      0\n",
      "899  Nhận định, dự đoán Crystal Palace vs Brentford...      0\n",
      "900  Lịch thi đấu bóng đá hôm nay 30/12: Sôi động N...      0\n",
      "901  Nhận định Man City vs Sheffield (22h00, 30/12)...      0\n"
     ]
    }
   ],
   "source": [
    "\n",
    "merged_data_datacheck = pd.merge(data, data_check, on='text', how='outer', indicator=True) # \n",
    "\n",
    "# Lọc các hàng chỉ xuất hiện trong data\n",
    "missing_rows_data_in_datacheck = merged_data_datacheck[merged_data_datacheck['_merge'] == 'left_only']\n",
    "\n",
    "# Kiểm tra xem missing_rows_data_in_datacheck có tồn tại hay không\n",
    "if missing_rows_data_in_datacheck.empty:\n",
    "    result_value = pd.read_csv('data/temp.csv')\n",
    "else:\n",
    "    # Nếu có, thực hiện các bước tiếp theo\n",
    "    data_check = data.copy()                                        #-> copy toàn bộ dữ liệu từ dataframe của data để update data_check (thêm những bài báo mới)\n",
    "    data_check.to_csv('data/temp_data_noClean.csv', index=False)    #-> đẩy data_check thành 1 file csv để thay thế file cũ (chứa những bài báo cũ lần đã cập nhật)\n",
    "    temp = missing_rows_data_in_datacheck.copy()                    #-> copy những bài báo data có mà data_check không có vào biến temp\n",
    "    temp.rename(columns={'label_x': 'label'}, inplace=True)         #-> thay đổi tên trường trong dataframe temp cho phù hợp với dữ liệu đúng\n",
    "    selected_columns = ['text', 'label']                            #-> tạo một biến mang 2 trường là text và label\n",
    "    temp_selected = temp[selected_columns]                          #-> tạo 1 dataframe temp_selected chỉ mang 2 trường là text và label của temp\n",
    "    result_value = temp_selected                                    #-> trả về giá trị cuối là result_value\n",
    "\n",
    "# In kết quả hoặc sử dụng result_value theo nhu cầu\n",
    "print(result_value)\n"
   ]
  },
  {
   "cell_type": "markdown",
   "metadata": {},
   "source": [
    "Chuẩn hóa, Phân tích từ"
   ]
  },
  {
   "cell_type": "code",
   "execution_count": 8,
   "metadata": {
    "ExecuteTime": {
     "end_time": "2023-12-27T03:04:06.880267Z",
     "start_time": "2023-12-27T03:04:06.863990200Z"
    }
   },
   "outputs": [
    {
     "data": {
      "application/vnd.jupyter.widget-view+json": {
       "model_id": "ce7bc412ce4648ac80152ad2a6d69009",
       "version_major": 2,
       "version_minor": 0
      },
      "text/plain": [
       "Pandas Apply:   0%|          | 0/20 [00:00<?, ?it/s]"
      ]
     },
     "metadata": {},
     "output_type": "display_data"
    }
   ],
   "source": [
    "def word(text):\n",
    "    text = text.lower()\n",
    "    text = re.sub(r'[^\\w\\s]', '', text)\n",
    "    chunks = chunk(text)\n",
    "    filtered_chunks = [chunk[0] for chunk in chunks if chunk[2] != 'O']\n",
    "    result_sentence = ' '.join(filtered_chunks)\n",
    "    return result_sentence\n",
    "\n",
    "result_value.loc[:, 'text'] = result_value['text'].swifter.apply(word).copy()"
   ]
  },
  {
   "cell_type": "code",
   "execution_count": 9,
   "metadata": {
    "ExecuteTime": {
     "end_time": "2023-12-27T03:04:06.937583400Z",
     "start_time": "2023-12-27T03:04:06.870275400Z"
    }
   },
   "outputs": [],
   "source": [
    "data_have_clean = pd.read_csv('data/temp_data_noClean.csv', encoding='utf-8')"
   ]
  },
  {
   "cell_type": "code",
   "execution_count": 10,
   "metadata": {
    "ExecuteTime": {
     "end_time": "2023-12-27T03:04:06.950634700Z",
     "start_time": "2023-12-27T03:04:06.935512700Z"
    }
   },
   "outputs": [
    {
     "name": "stdout",
     "output_type": "stream",
     "text": [
      "0       Ông Tucker Carlson đưa ra lời cảnh báo tới ông...\n",
      "1       Đức điều động binh sĩ tới Lithuania trong đợt ...\n",
      "2       Thừa nhận mới nhất của ĐCSTQ về tình hình dịch...\n",
      "3       Nghe tiếng khóc của đứa trẻ sơ sinh, biết trướ...\n",
      "4       Con trai Trương Tấn Sang bị đẩy ra khỏi TP.HCM...\n",
      "                              ...                        \n",
      "1658    những chảo lửa cháy tại vleague 202324 số lượn...\n",
      "1659    nhận định dự đoán wolves vs everton 22 h00 ngà...\n",
      "1660    nhận định dự đoán crystal palace vs brentford ...\n",
      "1661    lịch thi đấu bóng đá hôm nay 3012 sôi động ngo...\n",
      "1662    nhận định man city vs sheffield 22 h00 3012 ng...\n",
      "Name: text, Length: 1663, dtype: object\n"
     ]
    }
   ],
   "source": [
    "data = pd.concat([data_have_clean, result_value[['text', 'label']]], ignore_index=True)\n",
    "data = data.fillna('')\n",
    "print(data['text'])"
   ]
  },
  {
   "cell_type": "code",
   "execution_count": 11,
   "metadata": {
    "ExecuteTime": {
     "end_time": "2023-12-27T03:04:06.972985900Z",
     "start_time": "2023-12-27T03:04:06.942637100Z"
    }
   },
   "outputs": [
    {
     "data": {
      "text/plain": [
       "article_id     0\n",
       "title          0\n",
       "link           0\n",
       "creator        0\n",
       "description    0\n",
       "content        0\n",
       "source_id      0\n",
       "category       0\n",
       "label          0\n",
       "text           0\n",
       "dtype: int64"
      ]
     },
     "execution_count": 11,
     "metadata": {},
     "output_type": "execute_result"
    }
   ],
   "source": [
    "data.isnull().sum()"
   ]
  },
  {
   "cell_type": "code",
   "execution_count": 12,
   "metadata": {
    "ExecuteTime": {
     "end_time": "2023-12-27T03:04:06.974980700Z",
     "start_time": "2023-12-27T03:04:06.955206400Z"
    }
   },
   "outputs": [],
   "source": [
    "X_train, X_test, y_train, y_test = train_test_split(\n",
    "    data['text'],\n",
    "    data['label'],\n",
    "    test_size=0.2,\n",
    "    random_state=42\n",
    "    )"
   ]
  },
  {
   "cell_type": "code",
   "execution_count": 13,
   "metadata": {
    "ExecuteTime": {
     "end_time": "2023-12-27T03:04:07.185075Z",
     "start_time": "2023-12-27T03:04:06.960925400Z"
    }
   },
   "outputs": [],
   "source": [
    "vectorized = TfidfVectorizer()\n",
    "param_grid = {'kernel': ['linear', 'rbf'], 'C': [0.1, 1, 10], 'gamma': ['scale', 'auto']}\n",
    "X_train_tfidf = vectorized.fit_transform(X_train)\n",
    "X_test_tfidf = vectorized.transform(X_test)"
   ]
  },
  {
   "cell_type": "code",
   "execution_count": 14,
   "metadata": {
    "ExecuteTime": {
     "end_time": "2023-12-27T03:04:19.364363100Z",
     "start_time": "2023-12-27T03:04:07.190784200Z"
    }
   },
   "outputs": [
    {
     "data": {
      "text/html": [
       "<style>#sk-container-id-1 {color: black;background-color: white;}#sk-container-id-1 pre{padding: 0;}#sk-container-id-1 div.sk-toggleable {background-color: white;}#sk-container-id-1 label.sk-toggleable__label {cursor: pointer;display: block;width: 100%;margin-bottom: 0;padding: 0.3em;box-sizing: border-box;text-align: center;}#sk-container-id-1 label.sk-toggleable__label-arrow:before {content: \"▸\";float: left;margin-right: 0.25em;color: #696969;}#sk-container-id-1 label.sk-toggleable__label-arrow:hover:before {color: black;}#sk-container-id-1 div.sk-estimator:hover label.sk-toggleable__label-arrow:before {color: black;}#sk-container-id-1 div.sk-toggleable__content {max-height: 0;max-width: 0;overflow: hidden;text-align: left;background-color: #f0f8ff;}#sk-container-id-1 div.sk-toggleable__content pre {margin: 0.2em;color: black;border-radius: 0.25em;background-color: #f0f8ff;}#sk-container-id-1 input.sk-toggleable__control:checked~div.sk-toggleable__content {max-height: 200px;max-width: 100%;overflow: auto;}#sk-container-id-1 input.sk-toggleable__control:checked~label.sk-toggleable__label-arrow:before {content: \"▾\";}#sk-container-id-1 div.sk-estimator input.sk-toggleable__control:checked~label.sk-toggleable__label {background-color: #d4ebff;}#sk-container-id-1 div.sk-label input.sk-toggleable__control:checked~label.sk-toggleable__label {background-color: #d4ebff;}#sk-container-id-1 input.sk-hidden--visually {border: 0;clip: rect(1px 1px 1px 1px);clip: rect(1px, 1px, 1px, 1px);height: 1px;margin: -1px;overflow: hidden;padding: 0;position: absolute;width: 1px;}#sk-container-id-1 div.sk-estimator {font-family: monospace;background-color: #f0f8ff;border: 1px dotted black;border-radius: 0.25em;box-sizing: border-box;margin-bottom: 0.5em;}#sk-container-id-1 div.sk-estimator:hover {background-color: #d4ebff;}#sk-container-id-1 div.sk-parallel-item::after {content: \"\";width: 100%;border-bottom: 1px solid gray;flex-grow: 1;}#sk-container-id-1 div.sk-label:hover label.sk-toggleable__label {background-color: #d4ebff;}#sk-container-id-1 div.sk-serial::before {content: \"\";position: absolute;border-left: 1px solid gray;box-sizing: border-box;top: 0;bottom: 0;left: 50%;z-index: 0;}#sk-container-id-1 div.sk-serial {display: flex;flex-direction: column;align-items: center;background-color: white;padding-right: 0.2em;padding-left: 0.2em;position: relative;}#sk-container-id-1 div.sk-item {position: relative;z-index: 1;}#sk-container-id-1 div.sk-parallel {display: flex;align-items: stretch;justify-content: center;background-color: white;position: relative;}#sk-container-id-1 div.sk-item::before, #sk-container-id-1 div.sk-parallel-item::before {content: \"\";position: absolute;border-left: 1px solid gray;box-sizing: border-box;top: 0;bottom: 0;left: 50%;z-index: -1;}#sk-container-id-1 div.sk-parallel-item {display: flex;flex-direction: column;z-index: 1;position: relative;background-color: white;}#sk-container-id-1 div.sk-parallel-item:first-child::after {align-self: flex-end;width: 50%;}#sk-container-id-1 div.sk-parallel-item:last-child::after {align-self: flex-start;width: 50%;}#sk-container-id-1 div.sk-parallel-item:only-child::after {width: 0;}#sk-container-id-1 div.sk-dashed-wrapped {border: 1px dashed gray;margin: 0 0.4em 0.5em 0.4em;box-sizing: border-box;padding-bottom: 0.4em;background-color: white;}#sk-container-id-1 div.sk-label label {font-family: monospace;font-weight: bold;display: inline-block;line-height: 1.2em;}#sk-container-id-1 div.sk-label-container {text-align: center;}#sk-container-id-1 div.sk-container {/* jupyter's `normalize.less` sets `[hidden] { display: none; }` but bootstrap.min.css set `[hidden] { display: none !important; }` so we also need the `!important` here to be able to override the default hidden behavior on the sphinx rendered scikit-learn.org. See: https://github.com/scikit-learn/scikit-learn/issues/21755 */display: inline-block !important;position: relative;}#sk-container-id-1 div.sk-text-repr-fallback {display: none;}</style><div id=\"sk-container-id-1\" class=\"sk-top-container\"><div class=\"sk-text-repr-fallback\"><pre>GridSearchCV(cv=5, estimator=SVC(), n_jobs=-1,\n",
       "             param_grid={&#x27;C&#x27;: [0.1, 1, 10], &#x27;gamma&#x27;: [&#x27;scale&#x27;, &#x27;auto&#x27;],\n",
       "                         &#x27;kernel&#x27;: [&#x27;linear&#x27;, &#x27;rbf&#x27;]})</pre><b>In a Jupyter environment, please rerun this cell to show the HTML representation or trust the notebook. <br />On GitHub, the HTML representation is unable to render, please try loading this page with nbviewer.org.</b></div><div class=\"sk-container\" hidden><div class=\"sk-item sk-dashed-wrapped\"><div class=\"sk-label-container\"><div class=\"sk-label sk-toggleable\"><input class=\"sk-toggleable__control sk-hidden--visually\" id=\"sk-estimator-id-1\" type=\"checkbox\" ><label for=\"sk-estimator-id-1\" class=\"sk-toggleable__label sk-toggleable__label-arrow\">GridSearchCV</label><div class=\"sk-toggleable__content\"><pre>GridSearchCV(cv=5, estimator=SVC(), n_jobs=-1,\n",
       "             param_grid={&#x27;C&#x27;: [0.1, 1, 10], &#x27;gamma&#x27;: [&#x27;scale&#x27;, &#x27;auto&#x27;],\n",
       "                         &#x27;kernel&#x27;: [&#x27;linear&#x27;, &#x27;rbf&#x27;]})</pre></div></div></div><div class=\"sk-parallel\"><div class=\"sk-parallel-item\"><div class=\"sk-item\"><div class=\"sk-label-container\"><div class=\"sk-label sk-toggleable\"><input class=\"sk-toggleable__control sk-hidden--visually\" id=\"sk-estimator-id-2\" type=\"checkbox\" ><label for=\"sk-estimator-id-2\" class=\"sk-toggleable__label sk-toggleable__label-arrow\">estimator: SVC</label><div class=\"sk-toggleable__content\"><pre>SVC()</pre></div></div></div><div class=\"sk-serial\"><div class=\"sk-item\"><div class=\"sk-estimator sk-toggleable\"><input class=\"sk-toggleable__control sk-hidden--visually\" id=\"sk-estimator-id-3\" type=\"checkbox\" ><label for=\"sk-estimator-id-3\" class=\"sk-toggleable__label sk-toggleable__label-arrow\">SVC</label><div class=\"sk-toggleable__content\"><pre>SVC()</pre></div></div></div></div></div></div></div></div></div></div>"
      ],
      "text/plain": [
       "GridSearchCV(cv=5, estimator=SVC(), n_jobs=-1,\n",
       "             param_grid={'C': [0.1, 1, 10], 'gamma': ['scale', 'auto'],\n",
       "                         'kernel': ['linear', 'rbf']})"
      ]
     },
     "execution_count": 14,
     "metadata": {},
     "output_type": "execute_result"
    }
   ],
   "source": [
    "svm_model = SVC()\n",
    "grid_search = GridSearchCV(svm_model, param_grid, cv=5, n_jobs=-1)\n",
    "grid_search.fit(X_train_tfidf, y_train)"
   ]
  },
  {
   "cell_type": "code",
   "execution_count": 15,
   "metadata": {
    "ExecuteTime": {
     "end_time": "2023-12-27T03:04:19.365362700Z",
     "start_time": "2023-12-27T03:04:19.362855400Z"
    }
   },
   "outputs": [
    {
     "name": "stdout",
     "output_type": "stream",
     "text": [
      "Best hyperparameters: {'C': 10, 'gamma': 'scale', 'kernel': 'rbf'}\n"
     ]
    }
   ],
   "source": [
    "print('Best hyperparameters:', grid_search.best_params_)\n"
   ]
  },
  {
   "cell_type": "code",
   "execution_count": 16,
   "metadata": {
    "ExecuteTime": {
     "end_time": "2023-12-27T03:04:19.586070600Z",
     "start_time": "2023-12-27T03:04:19.365362700Z"
    }
   },
   "outputs": [],
   "source": [
    "best_model = grid_search.best_estimator_\n",
    "y_pred = best_model.predict(X_test_tfidf)\n"
   ]
  },
  {
   "cell_type": "code",
   "execution_count": 17,
   "metadata": {},
   "outputs": [],
   "source": [
    "data = data.loc[y_test.index]\n",
    "data.loc[y_test.values != y_pred, 'label'] = 2\n"
   ]
  },
  {
   "cell_type": "code",
   "execution_count": 18,
   "metadata": {
    "ExecuteTime": {
     "end_time": "2023-12-27T03:04:19.598130400Z",
     "start_time": "2023-12-27T03:04:19.587071Z"
    }
   },
   "outputs": [
    {
     "data": {
      "text/plain": [
       "array([1, 0, 1, 0, 0, 0, 1, 1, 1, 0, 1, 0, 0, 0, 1, 1, 0, 0, 0, 1, 0, 0,\n",
       "       1, 0, 1, 1, 0, 0, 0, 0, 0, 0, 0, 0, 1, 0, 1, 0, 1, 1, 0, 0, 0, 1,\n",
       "       1, 0, 1, 0, 0, 1, 0, 1, 0, 1, 1, 0, 0, 0, 0, 0, 0, 1, 1, 0, 0, 0,\n",
       "       1, 0, 0, 1, 1, 1, 0, 0, 0, 1, 1, 0, 1, 0, 0, 0, 0, 1, 1, 0, 0, 0,\n",
       "       1, 0, 0, 1, 1, 1, 0, 1, 0, 0, 1, 0, 0, 0, 0, 0, 1, 1, 1, 0, 1, 1,\n",
       "       1, 0, 1, 1, 0, 1, 0, 1, 0, 1, 0, 0, 1, 0, 1, 1, 0, 0, 1, 1, 1, 1,\n",
       "       1, 0, 0, 0, 0, 0, 1, 0, 0, 1, 0, 0, 1, 0, 0, 1, 0, 0, 0, 0, 0, 0,\n",
       "       1, 0, 1, 1, 0, 0, 1, 0, 0, 0, 1, 1, 0, 0, 0, 0, 0, 0, 0, 0, 1, 1,\n",
       "       0, 0, 1, 1, 1, 1, 1, 0, 0, 1, 1, 1, 0, 1, 0, 0, 1, 0, 1, 1, 1, 0,\n",
       "       1, 1, 1, 1, 1, 1, 0, 1, 1, 0, 0, 0, 0, 1, 1, 1, 1, 0, 1, 0, 1, 1,\n",
       "       0, 0, 0, 0, 1, 0, 0, 1, 1, 1, 1, 1, 0, 0, 0, 1, 1, 0, 0, 0, 0, 1,\n",
       "       0, 1, 0, 0, 0, 1, 0, 0, 0, 0, 1, 1, 0, 1, 0, 1, 1, 0, 1, 0, 1, 0,\n",
       "       0, 0, 1, 0, 0, 0, 0, 0, 0, 1, 0, 1, 0, 0, 1, 0, 0, 1, 1, 0, 1, 1,\n",
       "       0, 1, 1, 0, 0, 1, 0, 1, 0, 1, 1, 1, 0, 1, 0, 0, 1, 1, 0, 0, 0, 0,\n",
       "       0, 0, 0, 0, 0, 0, 0, 1, 1, 0, 0, 0, 1, 1, 1, 0, 0, 1, 0, 0, 1, 1,\n",
       "       0, 0, 0], dtype=int64)"
      ]
     },
     "execution_count": 18,
     "metadata": {},
     "output_type": "execute_result"
    }
   ],
   "source": [
    "y_pred"
   ]
  },
  {
   "cell_type": "code",
   "execution_count": 19,
   "metadata": {
    "ExecuteTime": {
     "end_time": "2023-12-27T03:04:19.600130500Z",
     "start_time": "2023-12-27T03:04:19.590767500Z"
    }
   },
   "outputs": [],
   "source": [
    "import pickle\n",
    "with open('temp/vectorized.pkl', 'wb') as f:\n",
    "    pickle.dump(vectorized, f)  \n",
    "with open('temp/svm_model.pkl', 'wb') as f:\n",
    "    pickle.dump(best_model, f)\n",
    "with open('temp/word_clean.pkl', 'wb') as f:\n",
    "    pickle.dump(word, f)"
   ]
  },
  {
   "cell_type": "code",
   "execution_count": 20,
   "metadata": {
    "ExecuteTime": {
     "end_time": "2023-12-27T03:04:19.604674Z",
     "start_time": "2023-12-27T03:04:19.599129800Z"
    }
   },
   "outputs": [
    {
     "name": "stdout",
     "output_type": "stream",
     "text": [
      "Độ chính xác của mô hình SVM: 0.9519519519519519\n"
     ]
    }
   ],
   "source": [
    "accuracy = accuracy_score(y_test, y_pred)\n",
    "print(f'Độ chính xác của mô hình SVM: {accuracy}')"
   ]
  },
  {
   "cell_type": "code",
   "execution_count": 21,
   "metadata": {
    "ExecuteTime": {
     "end_time": "2023-12-27T03:04:19.654385900Z",
     "start_time": "2023-12-27T03:04:19.609017100Z"
    }
   },
   "outputs": [
    {
     "name": "stdout",
     "output_type": "stream",
     "text": [
      "333 333\n"
     ]
    }
   ],
   "source": [
    "print(len(y_test), len(y_pred))"
   ]
  },
  {
   "cell_type": "code",
   "execution_count": 22,
   "metadata": {},
   "outputs": [
    {
     "name": "stdout",
     "output_type": "stream",
     "text": [
      "Số hàng trong X_train: 1330\n",
      "Số phần tử trong y_train: 1330\n",
      "Số hàng trong X_test: 333\n",
      "Số phần tử trong y_test: 333\n"
     ]
    }
   ],
   "source": [
    "print(f\"Số hàng trong X_train: {len(X_train)}\")\n",
    "print(f\"Số phần tử trong y_train: {len(y_train)}\")\n",
    "print(f\"Số hàng trong X_test: {len(X_test)}\")\n",
    "print(f\"Số phần tử trong y_test: {len(y_test)}\")"
   ]
  },
  {
   "cell_type": "code",
   "execution_count": 23,
   "metadata": {
    "ExecuteTime": {
     "end_time": "2023-12-27T03:04:55.480508600Z",
     "start_time": "2023-12-27T03:04:54.704994900Z"
    }
   },
   "outputs": [
    {
     "name": "stdout",
     "output_type": "stream",
     "text": [
      "Confusion Matrix:\n",
      "[[183   9]\n",
      " [  7 134]]\n",
      "\n",
      "Classification Report:\n",
      "              precision    recall  f1-score   support\n",
      "\n",
      "           0       0.96      0.95      0.96       192\n",
      "           1       0.94      0.95      0.94       141\n",
      "\n",
      "    accuracy                           0.95       333\n",
      "   macro avg       0.95      0.95      0.95       333\n",
      "weighted avg       0.95      0.95      0.95       333\n",
      "\n",
      "\n",
      "Số lượng tin thật được dự đoán đúng: 134\n",
      "Số lượng tin giả được dự đoán đúng: 183\n"
     ]
    }
   ],
   "source": [
    "from sklearn.metrics import confusion_matrix, classification_report\n",
    "\n",
    "# Dự đoán trên tập kiểm tra\n",
    "y_pred = best_model.predict(X_test_tfidf)\n",
    "\n",
    "# Tính ma trận nhầm lẫn\n",
    "conf_matrix = confusion_matrix(y_test, y_pred)\n",
    "\n",
    "# In ma trận nhầm lẫn\n",
    "print(\"Confusion Matrix:\")\n",
    "print(conf_matrix)\n",
    "\n",
    "# In báo cáo đánh giá\n",
    "print(\"\\nClassification Report:\")\n",
    "print(classification_report(y_test, y_pred))\n",
    "\n",
    "# Số lượng tin thật và tin giả được dự đoán đúng\n",
    "true_real_news = conf_matrix[1, 1]\n",
    "true_fake_news = conf_matrix[0, 0]\n",
    "\n",
    "print(f\"\\nSố lượng tin thật được dự đoán đúng: {true_real_news}\")\n",
    "print(f\"Số lượng tin giả được dự đoán đúng: {true_fake_news}\")\n"
   ]
  },
  {
   "cell_type": "code",
   "execution_count": 24,
   "metadata": {},
   "outputs": [
    {
     "name": "stdout",
     "output_type": "stream",
     "text": [
      "Số lượng bài báo chưa thể phân biệt được: 16\n",
      "Số lượng bài báo đã phân biệt được: 317\n",
      "\n",
      "Danh sách bài báo chưa thể phân biệt được cùng với nội dung:\n",
      "\n",
      "Index: 2, Thực tế: 0, Dự đoán: 1\n",
      "Nội dung bài báo:\n",
      "Nên học Công nghệ thông tin hay Khoa học máy tính? Em cũng dành thời gian đọc tài liệu trên mạng nhưng thấy thông tin mâu thuẫn nhau. Nơi thì bảo học Công nghệ thông tin, có trang lại nói cần học Khoa học máy tính. Vậy em nên chọn ngành nào để sau này có thể làm vị trí kiểm thử? Em rất mong các anh, chị đang làm về kiểm thử phần mềm cho em lời khuyên, chia sẻ quá trình mọi người đến với ngành này. Hà \n",
      "\n",
      "\n",
      "Index: 29, Thực tế: 1, Dự đoán: 0\n",
      "Nội dung bài báo:\n",
      " Theo thống kê Báo The Guardian, tỷ lệ tin giả trên Facebook đang tăng lên mức mất kiểm soát. Nhiều nước phát triển và các doanh nghiệp đã phải chịu thất thoát hàng trăm triệu USD do ảnh hưởng của tin giả. Vì vậy, nhiều người dùng mất lòng tin vào Facebook. Tính trong khoảng tháng 1 đến tháng 4 năm 2020, Facebook đã mất ít nhất 300,000 người dùng. Có lẽ đây sẽ là động lực đến đội ngũ Facebook khống chế tin giả tốt hơn. \n",
      "\n",
      "\n",
      "Index: 94, Thực tế: 1, Dự đoán: 0\n",
      "Nội dung bài báo:\n",
      " Một đất nước nhung nhúc giòi bọ.\n",
      "\n",
      "TƯỚNG\n",
      "\n",
      "Danh sách 20 tướng lĩnh thời bình bị kỷ luật, bị bắt trong thời gian gần đây .\n",
      "\n",
      "(Cập nhật sau kỳ họp Ủy ban Kiểm tra Trung ương)\n",
      "\n",
      "1. Trung tướng Bùi Văn Thành (Thứ trưởng Bộ Công an).\n",
      "\n",
      "2. Thượng tướng Trần Việt Tân (cựu Thứ trưởng Bộ Công an)\n",
      "\n",
      "3. Trung tướng Lê Văn Minh (Tổng cục trưởng Tổng cục Hậu cần, Kỹ thuật (Tổng cục IV – Bộ Công an).\n",
      "\n",
      "4. Trung tướng Bùi Xuân Sơn (nguyên Phó Tổng cục trưởng Tổng cục Hậu cần , Kỹ thuật – Bộ Công an).\n",
      "\n",
      "5. Trung tướng Ksor Nham (Phó Tổng cục trưởng Tổng cục Hậu cần, Kỹ thuật – Bộ Công an).\n",
      "\n",
      "6. Trung tướng Vũ Thuật (nguyên Phó Tổng cục trưởng Hậu cần, Kỹ thuật – Bộ Công an ).\n",
      "\n",
      "7. Trung tướng Nguyễn Văn Chuyên (Phó Tổng cục trưởng Tổng cục Hậu cần, Kỹ thuật – Bộ Công an)\n",
      "\n",
      "8. Trung tướng Phan Hữu Tuấn (Phó Tổng cục trưởng Tổng cục Tình báo – Tổng cục V – Bộ Công an).\n",
      "\n",
      "9. Trung tướng Trần Quốc Cường, Ủy viên Trung ương Đảng, Phó bí thư Tỉnh ủy Đắk Lắk, nguyên Bí thư Đảng ủy, Cục trưởng Cục Chính trị – Hậu cần (B41), Tổng Cục tình báo, Bộ Công an (giai đoạn 2009 – 2012).\n",
      "\n",
      "10. Trung tướng Phan Văn Vĩnh (cựu Tổng Cục trưởng Cục Cảnh sát).\n",
      "\n",
      "11. Thiếu tướng Nguyễn Thanh Hóa (Cục trưởng Cục Cảnh sát Công nghệ cao – C50, Bộ C.A)\n",
      "\n",
      "12. Thượng tướng Phương Minh Hòa (nguyên Ủy viên Trung ương Đảng, nguyên Phó chủ nhiệm Tổng cục Chính trị Quân đội nhân dân Việt Nam, nguyên Phó bí thư Đảng ủy, nguyên Tư lệnh Quân chủng Phòng không Không quân – Bộ Quốc phòng).\n",
      "\n",
      "13. Trung tướng Nguyễn Văn Thanh (nguyên Bí thư Đảng ủy, nguyên Chính ủy Quân chủng Phòng không – Không quân – Bộ Quốc phòng).\n",
      "\n",
      "14. Trung tướng Nguyễn Công Sơn – nguyên Ủy viên Ban Thường vụ Đảng ủy, Phó tổng cục trưởng, Bộ Công an.\n",
      "\n",
      "15. Trung tướng Nguyễn Văn Ba – nguyên Ủy viên Ban Thường vụ Đảng ủy, Phó tổng cục trưởng, Bộ Công an.\n",
      "\n",
      "16. Thiếu tướng Lê Đình Nhường – Phó Chủ nhiệm Ủy ban Quốc phòng và An ninh của Quốc hội, nguyên Đảng ủy viên, Bí thư Đảng ủy, Chánh Văn phòng cơ quan Cảnh sát điều tra (C44).\n",
      "\n",
      "17. Thiếu tướng Nguyễn Huy Mạ – nguyên Bí thư Đảng ủy, Cục trưởng Cục Hồ sơ nghiệp vụ cảnh sát (C53)\n",
      "\n",
      "18. Thiếu tướng Nguyễn Đức Thịnh, nguyên Đảng ủy viên, Bí thư Đảng ủy, Cục trưởng Cục Cảnh sát kinh tế (C46).\n",
      "\n",
      "19. Thiếu tướng quân đội Đặng Ngọc Nghĩa, Ủy viên Thường trực Ủy ban Quốc phòng và An ninh của Quốc hội.\n",
      "\n",
      "20. Đô đốc Nguyễn Văn Hiến, Tư lệnh hải quân, nguyên Thứ trưởng Bộ Quốc phòng \n",
      "\n",
      "\n",
      "Index: 179, Thực tế: 0, Dự đoán: 1\n",
      "Nội dung bài báo:\n",
      "Apple lặng lẽ thay đổi chính sách, yêu cầu phải có lệnh khám xét thì mới gửi một số dữ liệu khách hàng nhất định cho cơ quan chấp pháp  ['Stephen Katte']\n",
      "\n",
      "\n",
      "Index: 183, Thực tế: 1, Dự đoán: 0\n",
      "Nội dung bài báo:\n",
      " ❎THÔNG BÁO GẤP ❗️ ❎ Để giúp cho cộng đồng người Việt có thêm những phương pháp đặc biệt, nhằm mục đích phòng chống bệnh tật, nhất là để an toàn vượt qua được đại dịch Virus Covid-19 lần này. Mình đã quyết định làm một chương trình Thôi miên trị liệu từ xa, chương trình: “ĐÁNH THỨC VỊ THẦN Y BẢN NĂNG”, để tăng cường sức đề kháng và thậm chí, chữa lành rất nhiều những chứng bệnh nan y, đặc biệt, là cho những người mới có một số biểu hiện trầm cảm và những người đang bị các chứ<URL> bệnh đau mãn tính. ❎ Tổng thời gian chương trình, có thể lên tới khoảng từ 70 đến 80 phút. ❎ Chương trình trị liệu từ xa này, sẽ được tải lên trang Facebook cá nhân của mình, bắt đầu từ khoảng 09h00 sáng mai (13-02/2020). ❎ Khi các bạn tham gia chương trình trị liệu khởi động sức đề kháng, ở phần 1, phần giải toả những cảm giác lo lắng, sợ hãi và giải toả những áp lực tâm lý, đề nghị các bạn hãy ngồi trên ghế, hoặc trên giường, đặt máy tính, hoặc Smartphone trước mặt (không cầm trên tay) và thực hành theo. ❎ Phần 2, là phần thôi miên trị liệu. Để cho phần trị liệu được thực sự phát huy tốt tác dụng, đề nghị các bạn hãy nằm, hoặc ngồi trên những chiếc ghế mà các bạn có thể ngả người về phía sau cho thoải mái được. ❎ Chương trình này tuyệt đối không liên quan đến lĩnh vực tôn giáo, vì vậy, tất cả các bạn, dù theo tôn giáo nào cũng đều có thể tham gia được, nếu các bạn thực sự muốn. ❎ (Hãy share cho cộng đồng cùng biết khi bạn đọc tin này. Tôi khẳng định, đây sẽ là một chương trình trị liệu từ tâm thức vô cùng đặc biệt mà mọi người có thể có được). Chúc các bạn luôn có thật nhiều niềm vui ❗️ \n",
      "\n",
      "\n",
      "Index: 187, Thực tế: 0, Dự đoán: 1\n",
      "Nội dung bài báo:\n",
      "Microsoft bị tố \"cậy quyền\", liên tục làm phiền để người dùng Edge chuyển sang Bing  \n",
      "\n",
      "\n",
      "Index: 196, Thực tế: 0, Dự đoán: 1\n",
      "Nội dung bài báo:\n",
      "Vệ tinh viễn thám, UAV tham gia cứu hộ động đất Trung Quốc Vệ tinh viễn thám, UAV tham gia cứu hộ động đất Trung Quốc Video: CCTV \n",
      "\n",
      "\n",
      "Index: 202, Thực tế: 0, Dự đoán: 1\n",
      "Nội dung bài báo:\n",
      "Ông Lưu Bình Nhưỡng bị khởi tố thêm tội danh vì nhận hàng trăm ngàn USD Ông Lưu Bình Nhưỡng bị khởi tố thêm tội danh vì nhận hàng trăm ngàn USD Ông Lưu Bình Nhưỡng bị Cơ quan điều tra Công an tỉnh Thái Bình khởi tố thêm tội danh lợi dụng chức vụ, quyền hạn gây ảnh hưởng đối với người khác để trục lợi. \n",
      "\n",
      "\n",
      "Index: 270, Thực tế: 1, Dự đoán: 0\n",
      "Nội dung bài báo:\n",
      " BỐ GIÀ MAFIA KINH TẾ JOHNATHAN HẠNH NGUYỄN - SÂN SAU CỦA QUAN CHỨC CẤP CAO - TRỐN THUẾ, RỬA TIỀN VÀ CHIẾM ĐOẠT HÀNG NGÀN TỶ\n",
      "\n",
      "Dưới đây là các thông tin vạch trần bộ mặt thật của bố già Mafia Kinh tế Jonathan Hạnh Nguyễn trốn thuế hàng chục tỷ đồng, và rửa tiền, chiếm đoạt các dự án hàng ngàn tỷ thông qua các tập đoàn sân sau cho Trương Tấn Sang và các quan chức cấp cao rồi chuyển ra nước ngoài.\n",
      "\n",
      "Nhắc đến Jonathan Hạnh Nguyễn, dư luận thường nhớ đến danh xưng “ông vua hàng hiệu Việt Nam”, hay “bố chồng Tăng Thanh Hà” . Tuy nhiên, ít người biết đến bố già mafia sinh năm 1951 này còn là kẻ thâu tóm hàng loạt nhà ga sân bay, các trung tâm thương mại để chiếm đoạt các lô đất vàng tại Việt Nam. Jonathan cũng là kẻ trốn thuế hàng đầu, rửa tiền thông qua các doanh nghiệp gia đình và nhờ vào mối quan hệ với gia đình Trương Tấn Sang, (các tập phim sau sẽ đề cập chi tiết).\n",
      "\n",
      "Trước hết, chúng tôi sẽ nói về chiêu trò trốn thuế của Công ty Thời Trang và Mỹ phẩm Duy Anh, là Công ty con thuộc Tập đoàn Liên Thái Bình Dương IPPG, do bố già Jonathan Hạnh Nguyễn làm chủ, và do Lê Hồng Thủy Tiên, vợ Jonathan đại diện pháp luật.\n",
      "\n",
      "Được thành lập từ năm 2005, Duy Anh được giới thiệu là công ty chuyên bán các mặt hàng xa xỉ phẩm nhưng ruột là hàng Tàu ở các trung tâm thương mại vương giả Tràng Tiền Plaza và Rex Arcade. Nhưng thực chất là công ty được sinh ra để thực hiện việc trốn thuế và rửa tiền cho bố già Jonathan Hạnh Nguyễn cùng các thành viên trong gia đình của y.\n",
      "\n",
      "Với doanh thu hàng ngàn tỷ đồng mỗi năm, điều đáng ngạc nhiên là công ty Duy Anh này có tỷ lệ lợi nhuận thấp khủng khiếp. Theo báo cáo tài chính trong năm 2017, công ty này có doanh thu gần 1.000 tỷ đồng, nhưng khai báo lợi nhuận trước thuế chỉ đạt chưa tới 14 tỷ đồng, tỷ lệ lợi nhuận này thậm chí còn thấp hơn nhiều chuỗi cửa hàng thời trang bán ở các tuyến đường ở quận 1, quận 5, TP Hồ Chí Minh. Có thể nói, đây chính là thủ đoạn ma mãnh trong việc trốn thuế của bố già mafia Jonathan Hạnh Nguyễn.\n",
      "\n",
      "Theo biên bản thanh tra ngày 14/08/2019 của Cục Thuế TP Hồ Chí Minh, đoàn thanh tra đã xác định Công ty Duy Anh, có hành vi cố ý kê khai GTGT và Thuế Thu nhập Doanh nghiệp mập mờ, kê khai sai. Bằng thủ đoạn chuyển giá, Công ty Duy Anh thực hiện trốn hàng chục tỷ đồng tiền thuế từ năm 2014 đến nay. Đặc biệt là trong việc giao dịch mập mờ với tập đoàn Liên Thái Bình Dương – IPPG (tập đoàn mẹ, chúng tôi sẽ đề cập chi tiết ở các tập phim thú vị tiếp theo)\n",
      "\n",
      "Thực hiện chỉ đạo của bố già Jonathan Hạnh Nguyễn, Công ty Duy Anh đã 5 lần 7 lượt, cãi chầy cối rằng, mình không vi phạm về việc làm ăn với tập đoàn Liên Thái Bình Dương - IPPG mà chỉ là “hợp tác, góp vốn cùng làm ăn”. Nhưng ai cũng biết IPPG là tập đoàn mẹ của công ty Duy Anh. Nên cần phải khẳng định đây là chiêu trò chuyển giá quen thuộc, hòng trốn thuế và rửa tiền giữa công ty mẹ - công ty con. Bằng việc định sẵn mức giá mua, giá giá bán sản phẩm, hàng hóa, cũng như định sẵn mức lợi nhuận, lỗ - lãi để lách luật tại Việt Nam hòng trốn hàng ngàn tỷ đồng tiền thuế.\n",
      "\n",
      "Trước các hành vi trốn thuế của công ty Duy Anh, ngày 24/08/2018, Cục thuế TP Hồ Chí Minh đã ban hành quyết định số 5356/QĐ-CT về việc xử phạt vi phạm hành chính về thuế của doanh nghiệp này với số tiền là 6.499.300.193 đồng. Tuy nhiên, đến nay doanh nghiệp này vẫn lì lợm, chầy cối, không chấp hành pháp luật vì có Trương Tấn Sang chống lưng.\n",
      "\n",
      "Đáng nói là, ngoài việc trốn hàng chục tỷ tiền thuế, Duy Anh còn tung hàng ngàn tỷ để quăng vào hàng loạt các dự án của Tập đoàn Xuất nhập khẩu Liên Thái Bình Dương (IPPG). Điển hình trong đó là việc thâu tóm, chiếm cổ phần lớn trong Công ty Cổ phần Dịch vụ hàng không Sân bay Tân Sơn Nhất SASCO (quản lý nhà ga sân bay Tân Sơn Nhất), Nhà Ga sân bay Cam Ranh và 120 cửa hàng miễn thuế tại các sân bay lớn trên cả nước, (sẽ đề cập chi tiết ở các bài tiếp theo).\n",
      "\n",
      "Câu hỏi đặt ra là, tiền đó lấy ở đâu ra nếu không phải từ các chiêu trò chuyển giá để trốn thuế, và móc ngoặc với nhóm lợi ích đến từ Tổng công ty cảng hàng không Việt Nam ACV để tham nhũng và rửa tiền. Duy Anh chỉ mới là 1 công ty trong tập đoàn, vậy với doanh thu hàng chục ngàn tỷ đồng mỗi năm của Tập đoàn Liên Thái Bình Dương, vậy thì con số trốn thuế cũng như rửa tiền của bố già Jonathan Hạnh Nguyễn từ năm 2000 đến nay phải khủng khiếp như thế nào?\n",
      "\n",
      "Vào tháng 4/2017, Johnathan Hạnh Nguyễn vung tiền tài trợ hàng chục tỷ đồng để ra mắt cuốn sách “Vị thế Việt Nam” nói về các chuyến công du quốc tế của ông Trương Tấn Sang lúc còn làm Chủ tịch nước, đây là cách mà Johnatan Hạnh Nguyễn \"làm thân\", móc nối với gia đình Trương Tấn Sang hòng làm trùm mafia kinh tế Việt Nam.\n",
      "\n",
      "Tiền thuế của Nhà nước cứ thế bị chiêu trò ma mãnh của Bố già Mafia Jonathan Hạnh Nguyễn làm cho thất thu, trong khi đủ các thứ thuế điện, thuế nước, thuế xăng dầu cứ tăng, đè hết lên đầu nhân dân.\n",
      "\n",
      "Jonathan Hạnh Nguyễn kinh doanh trên đất Việt, cướp bao nhiêu đất vàng của người dân Việt, lấy tiền và xương máu của người dân Việt, nhưng không hề có một chút trách nhiệm với Việt Nam. Còn nhớ, trong năm 2015, trên trang web của Hiệp hội nhà báo điều tra quốc tế (ICIJ) trong vụ lộ lọt hồ sơ Panama gây chấn động một thời, đã chỉ đích danh bố già Johnathan Hanh Nguyen, Chủ tịch tập đoàn Liên Thái Bình Dương là kẻ trốn thuế, rửa tiền. Bằng cách trả tiền cho các công ty ma, Johnathan Hanh Nguyen đã chuyển phần lớn tài sản của mình ra nước ngoài hòng trốn hàng ngàn tỷ đồng tiền thuế. Vụ việc rùm beng trên báo chí, ngay sau khi vụ việc bị lộ ra, Jonathan đã nhanh chóng chi tiền để xóa bỏ vụ việc, đồng thời lên báo ba hoa như mình là kẻ luôn kẻ tuân thủ pháp luật Việt Nam.\n",
      "\n",
      "Cây kim trong bọc cũng phải có ngày lòi ra, dẫu cho có cho gian manh tới đâu , bố già Johnathan Hạnh Nguyễn cũng đến lúc phải lòi cái đuôi cáo của mình.\n",
      "Ở Việt Nam này, có nhiều cách để người ta trở thành tỷ phú, nhưng trong đó   có những kẻ là tỷ phú kiếm lợi nhuận bằng cách tước đoạt tài nguyên, hoặc xương máu của nhân dân, sau đó lên báo tô vẽ mình như 1 kẻ đạo đức và đầy trách nhiệm. Đó là cách mà Jonathan Hạnh Nguyễn trở nên giàu có, kiểm soát thật chặt truyền thông và biến mình thành sân sau cho một số quan chức. \n",
      "\n",
      "\n",
      "Index: 271, Thực tế: 1, Dự đoán: 0\n",
      "Nội dung bài báo:\n",
      " Nóng: Gia Lâm điện giật 20 người chết tại công trình. TT tiếp tục up \n",
      "\n",
      "\n",
      "Index: 278, Thực tế: 0, Dự đoán: 1\n",
      "Nội dung bài báo:\n",
      "Chủ tịch Vạn Thịnh Phát 'rửa tiền' thông qua đầu tư bất động sản, chuyển tiền ra nước ngoài Chủ tịch Vạn Thịnh Phát 'rửa tiền' thông qua đầu tư bất động sản, chuyển tiền ra nước ngoài Lãnh đạo C03, Bộ Công an cho biết kết quả điều tra ban đầu xác định số tiền chủ tịch Vạn Thịnh Phát Trương Mỹ Lan tham ô hơn 304.000 tỉ đã sử dụng đầu tư nhiều dự án bất động sản, chuyển tiền ra nước ngoài nên phạm vào tội \"rửa tiền\". \n",
      "\n",
      "\n",
      "Index: 288, Thực tế: 0, Dự đoán: 1\n",
      "Nội dung bài báo:\n",
      "Cải thiện IELTS hay SAT để giành học bổng du học Mỹ? Em học lớp 12 và muốn du học Mỹ vào năm tới. Điểm trung bình GPA của em lớp 10 là 8,5; lớp 11 được 8,8 và năm nay cũng khoảng 8,8. Em đã có IELTS 6.5 và mới nhận điểm SAT 1.060/1.600. Mọi người cho em hỏi bây giờ em nên cải thiện điểm IELTS hay SAT để có học bổng cao? Em cảm ơn mọi người. Nguyen Nam \n",
      "\n",
      "\n",
      "Index: 308, Thực tế: 1, Dự đoán: 0\n",
      "Nội dung bài báo:\n",
      " Ngay cả khi vi-rút xâm nhập vào miệng bạn ... nước uống hoặc các chất lỏng khác sẽ quét chúng xuống qua thực quản và vào dạ dày. Khi đã ở trong bụng ... ACID dạ dày của bạn sẽ tiêu diệt tất cả virus \n",
      "\n",
      "\n",
      "Index: 312, Thực tế: 1, Dự đoán: 0\n",
      "Nội dung bài báo:\n",
      " Từ đầu tháng 4 đến nay , nạn lô đề trên cả nước đã được các địa phương dẹp bỏ. Nạn cá độ bóng đá cũng được các địa phương xoá hoàn toàn, có thể chắc chắn đảm bảo không có cá độ cho đến khi các giải bóng đá trên thế giới khởi tranh trở lại! \n",
      "\n",
      "\n",
      "Index: 320, Thực tế: 0, Dự đoán: 1\n",
      "Nội dung bài báo:\n",
      "Hạnh kiểm khá có xin học bổng Australia được không? Do có sai lầm nên em đã bị hạ xuống hạnh kiểm khá vào năm lớp 11. Điểm trung bình các môn cả ba năm THPT của em từ 8,5 đến 9. Em định thi IELTS đạt 6.5 và tham gia hoạt động ngoại khóa của trường, dự định sang Australia học. Liệu hạnh kiểm như vậy có ảnh hưởng gì đến học bổng cũng như việc xin học ở Australia không? Em mong mọi người tư vấn và cho lời khuyên. Dao Ba Khai \n",
      "\n",
      "\n",
      "Index: 325, Thực tế: 0, Dự đoán: 1\n",
      "Nội dung bài báo:\n",
      "\"Phép màu\" từ Huawei đang giúp các hãng xe vô danh \"chiến\" ngang tay Tesla, BYD  \n",
      "\n"
     ]
    }
   ],
   "source": [
    "# Giả sử 'content' là tên của cột chứa nội dung bài báo trong DataFrame của bạn\n",
    "# có bao nhiêu bài báo chưa phân biệt được\n",
    "print(f'Số lượng bài báo chưa thể phân biệt được: {len(data[data[\"label\"] == 2])}')\n",
    "#Số lượng bài báo đã phân biệt được\n",
    "print(f'Số lượng bài báo đã phân biệt được: {len(data[data[\"label\"] != 2])}')\n",
    "\n",
    "print('\\nDanh sách bài báo chưa thể phân biệt được cùng với nội dung:')\n",
    "for i in range(len(y_test)):\n",
    "    if y_test.values[i] != y_pred[i]:\n",
    "        index = i\n",
    "        content_of_article = data['text'].iloc[index]\n",
    "        actual_label = y_test.values[index]\n",
    "        predicted_label = y_pred[index]\n",
    "\n",
    "        print(f'\\nIndex: {index}, Thực tế: {actual_label}, Dự đoán: {predicted_label}')\n",
    "        print(f'Nội dung bài báo:\\n{content_of_article}\\n')\n"
   ]
  }
 ],
 "metadata": {
  "kernelspec": {
   "display_name": "Python 3",
   "language": "python",
   "name": "python3"
  },
  "language_info": {
   "codemirror_mode": {
    "name": "ipython",
    "version": 3
   },
   "file_extension": ".py",
   "mimetype": "text/x-python",
   "name": "python",
   "nbconvert_exporter": "python",
   "pygments_lexer": "ipython3",
   "version": "3.11.0"
  }
 },
 "nbformat": 4,
 "nbformat_minor": 2
}
