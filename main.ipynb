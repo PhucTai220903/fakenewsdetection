{
 "cells": [
  {
   "cell_type": "code",
   "execution_count": 1,
   "metadata": {
    "ExecuteTime": {
     "end_time": "2023-12-27T03:04:06.706477100Z",
     "start_time": "2023-12-27T03:04:05.120904Z"
    }
   },
   "outputs": [],
   "source": [
    "import numpy as np\n",
    "import pandas as pd\n",
    "import re #biểu thức chính quy\n",
    "import nltk\n",
    "from sklearn.feature_extraction.text import TfidfVectorizer\n",
    "from sklearn.model_selection import train_test_split\n",
    "from sklearn.metrics import accuracy_score\n",
    "\n",
    "from underthesea import chunk\n",
    "from underthesea import text_normalize\n",
    "import swifter\n",
    "\n",
    "from sklearn.svm import SVC\n",
    "from sklearn.model_selection import GridSearchCV"
   ]
  },
  {
   "cell_type": "markdown",
   "metadata": {},
   "source": [
    "Đọc dữ liệu"
   ]
  },
  {
   "cell_type": "code",
   "execution_count": 2,
   "metadata": {
    "ExecuteTime": {
     "end_time": "2023-12-27T03:04:06.751550200Z",
     "start_time": "2023-12-27T03:04:06.704471800Z"
    }
   },
   "outputs": [],
   "source": [
    "real_data = pd.read_csv('data/RealNewsfrom_NewsData_io_UPDATED.csv', encoding='utf-8')\n",
    "fake_data = pd.read_csv('data/FakeNews.csv', encoding='utf-8')"
   ]
  },
  {
   "cell_type": "markdown",
   "metadata": {},
   "source": [
    "Xác định và chuẩn bị dữ liệu"
   ]
  },
  {
   "cell_type": "code",
   "execution_count": 3,
   "metadata": {
    "ExecuteTime": {
     "end_time": "2023-12-27T03:04:06.752553100Z",
     "start_time": "2023-12-27T03:04:06.745641100Z"
    }
   },
   "outputs": [],
   "source": [
    "real_data['label'] = 0 #real\n",
    "fake_data['label'] = 1 #fake\n",
    "\n",
    "# Kết hợp hai DataFrame thành một DataFrame lớn\n",
    "data = pd.concat([real_data, fake_data], ignore_index=True)\n",
    "data = data.fillna('')"
   ]
  },
  {
   "cell_type": "markdown",
   "metadata": {},
   "source": [
    "Gộp các trường title, content, creator lại thành 1 trường text (1 cột trong dataframe)"
   ]
  },
  {
   "cell_type": "code",
   "execution_count": 4,
   "metadata": {
    "ExecuteTime": {
     "end_time": "2023-12-27T03:04:06.792169200Z",
     "start_time": "2023-12-27T03:04:06.766657900Z"
    }
   },
   "outputs": [],
   "source": [
    "data['text'] = data['title']+ ' ' + data['content'] + ' ' + data['creator']"
   ]
  },
  {
   "cell_type": "markdown",
   "metadata": {},
   "source": [
    "Mở tệp dữ liệu temp_data_noClean.csv và kiểm tra"
   ]
  },
  {
   "cell_type": "code",
   "execution_count": 5,
   "metadata": {
    "ExecuteTime": {
     "end_time": "2023-12-27T03:04:06.843958900Z",
     "start_time": "2023-12-27T03:04:06.776112500Z"
    }
   },
   "outputs": [
    {
     "name": "stdout",
     "output_type": "stream",
     "text": [
      "0       Ông Tucker Carlson đưa ra lời cảnh báo tới ông...\n",
      "1       Đức điều động binh sĩ tới Lithuania trong đợt ...\n",
      "2       Thừa nhận mới nhất của ĐCSTQ về tình hình dịch...\n",
      "3       Nghe tiếng khóc của đứa trẻ sơ sinh, biết trướ...\n",
      "4       Con trai Trương Tấn Sang bị đẩy ra khỏi TP.HCM...\n",
      "                              ...                        \n",
      "1720     Ở Việt Nam bị cấm tuyệt đối không được kết hô...\n",
      "1721     Người Dân trên toàn trái đất đi sơ tán vì sắp...\n",
      "1722     Tất cả những tin tức trên Facebookn đều là gi...\n",
      "1723     Đưa tin thất thiệt mang nhiều hệ quả rất xấu ...\n",
      "1724              Đa cấp là ngành thiết yếu của Việt Nam \n",
      "Name: text, Length: 1725, dtype: object\n"
     ]
    }
   ],
   "source": [
    "data_check = pd.read_csv('data/temp_data_noClean.csv', encoding='utf-8')\n",
    "print(data['text'])"
   ]
  },
  {
   "cell_type": "markdown",
   "metadata": {},
   "source": [
    "Tối ưu dữ liệu nhập vào tránh phải chuẩn hóa các bài báo cũ:\n",
    "- Bước 1: Ghép (merge) hai DataFrame data và data_check dựa trên cột 'text' với kiểu ghép là 'outer' (ghép toàn bộ).\n",
    "- Bước 2: Lọc những hàng chỉ xuất hiện trong data mà không xuất hiện trong data_check.\n",
    "- Bước 3: Kiểm tra missing_rows_data_in_datacheck có giá trị được truyền vào hay không:\n",
    "    + Nếu không phát hiện không có giá trị nào được truyền vào thì trả về 1 dataframe rỗng chứa duy nhất các trường mặc định của data\n",
    "    + Nếu có giá trị được truyền vào missing_rows_data_in_datacheck thức hiện các mục:\n",
    "In ra result_value để kiểm tra"
   ]
  },
  {
   "cell_type": "code",
   "execution_count": 6,
   "metadata": {
    "ExecuteTime": {
     "end_time": "2023-12-27T03:04:06.861985200Z",
     "start_time": "2023-12-27T03:04:06.842959200Z"
    }
   },
   "outputs": [
    {
     "name": "stdout",
     "output_type": "stream",
     "text": [
      "                                                  text  label\n",
      "911  Thành phố Belgorod của Nga bị tấn công, 5 ngườ...      0\n",
      "912  Cảnh sát Đà Nẵng dùng xe đặc chủng chở em bé b...      0\n",
      "913  Thủ tướng yêu cầu cung ứng đủ xăng dầu trong m...      0\n",
      "914  Tại sao Hoàng đế không bắt thái y phải \"tịnh t...      0\n",
      "915  Đăng đàn chỉ trích công chúng để tưởng nhớ Lee...      0\n",
      "..                                                 ...    ...\n",
      "979  Cựu bí thư Tỉnh uỷ Thanh Hóa Trịnh Văn Chiến b...      0\n",
      "980  Cựu chi cục trưởng Kiểm lâm Quảng Trị bị khởi ...      0\n",
      "981  Ông Diệp Dũng bị tuyên phạt 10 năm tù Tối 29/1...      0\n",
      "982  Giám đốc vướng lao lý trong vụ hở điện làm chế...      0\n",
      "983  Giám đốc Trung tâm dạy nghề lái xe Sài Gòn bị ...      0\n",
      "\n",
      "[73 rows x 2 columns]\n"
     ]
    }
   ],
   "source": [
    "\n",
    "merged_data_datacheck = pd.merge(data, data_check, on='text', how='outer', indicator=True) # \n",
    "\n",
    "# Lọc các hàng chỉ xuất hiện trong data\n",
    "missing_rows_data_in_datacheck = merged_data_datacheck[merged_data_datacheck['_merge'] == 'left_only']\n",
    "\n",
    "# Kiểm tra xem missing_rows_data_in_datacheck có tồn tại hay không\n",
    "if missing_rows_data_in_datacheck.empty:\n",
    "    result_value = pd.read_csv('data/temp.csv')\n",
    "else:\n",
    "    # Nếu có, thực hiện các bước tiếp theo\n",
    "    data_check = data.copy()                                        #-> copy toàn bộ dữ liệu từ dataframe của data để update data_check (thêm những bài báo mới)\n",
    "    data_check.to_csv('data/temp_data_noClean.csv', index=False)    #-> đẩy data_check thành 1 file csv để thay thế file cũ (chứa những bài báo cũ lần đã cập nhật)\n",
    "    temp = missing_rows_data_in_datacheck.copy()                    #-> copy những bài báo data có mà data_check không có vào biến temp\n",
    "    temp.rename(columns={'label_x': 'label'}, inplace=True)         #-> thay đổi tên trường trong dataframe temp cho phù hợp với dữ liệu đúng\n",
    "    selected_columns = ['text', 'label']                            #-> tạo một biến mang 2 trường là text và label\n",
    "    temp_selected = temp[selected_columns]                          #-> tạo 1 dataframe temp_selected chỉ mang 2 trường là text và label của temp\n",
    "    result_value = temp_selected                                    #-> trả về giá trị cuối là result_value\n",
    "\n",
    "# In kết quả hoặc sử dụng result_value theo nhu cầu\n",
    "print(result_value)\n"
   ]
  },
  {
   "cell_type": "markdown",
   "metadata": {},
   "source": [
    "Chuẩn hóa, Phân tích từ"
   ]
  },
  {
   "cell_type": "code",
   "execution_count": 7,
   "metadata": {
    "ExecuteTime": {
     "end_time": "2023-12-27T03:04:06.880267Z",
     "start_time": "2023-12-27T03:04:06.863990200Z"
    }
   },
   "outputs": [
    {
     "data": {
      "application/vnd.jupyter.widget-view+json": {
       "model_id": "d00d19b109dc48d981d60140eeed971d",
       "version_major": 2,
       "version_minor": 0
      },
      "text/plain": [
       "Pandas Apply:   0%|          | 0/73 [00:00<?, ?it/s]"
      ]
     },
     "metadata": {},
     "output_type": "display_data"
    }
   ],
   "source": [
    "def word(text):\n",
    "    text = text.lower()\n",
    "    text = re.sub(r'[^\\w\\s]', '', text)\n",
    "    chunks = chunk(text)\n",
    "    filtered_chunks = [chunk[0] for chunk in chunks if chunk[2] != 'O']\n",
    "    result_sentence = ' '.join(filtered_chunks)\n",
    "    return result_sentence\n",
    "\n",
    "result_value.loc[:, 'text'] = result_value['text'].swifter.apply(word).copy()"
   ]
  },
  {
   "cell_type": "code",
   "execution_count": 8,
   "metadata": {
    "ExecuteTime": {
     "end_time": "2023-12-27T03:04:06.937583400Z",
     "start_time": "2023-12-27T03:04:06.870275400Z"
    }
   },
   "outputs": [],
   "source": [
    "data_have_clean = pd.read_csv('data/temp_data_noClean.csv', encoding='utf-8')"
   ]
  },
  {
   "cell_type": "code",
   "execution_count": 9,
   "metadata": {
    "ExecuteTime": {
     "end_time": "2023-12-27T03:04:06.950634700Z",
     "start_time": "2023-12-27T03:04:06.935512700Z"
    }
   },
   "outputs": [
    {
     "name": "stdout",
     "output_type": "stream",
     "text": [
      "0       Ông Tucker Carlson đưa ra lời cảnh báo tới ông...\n",
      "1       Đức điều động binh sĩ tới Lithuania trong đợt ...\n",
      "2       Thừa nhận mới nhất của ĐCSTQ về tình hình dịch...\n",
      "3       Nghe tiếng khóc của đứa trẻ sơ sinh, biết trướ...\n",
      "4       Con trai Trương Tấn Sang bị đẩy ra khỏi TP.HCM...\n",
      "                              ...                        \n",
      "1793    cựu bí thư tỉnh ủy thanh hóa trịnh văn chiến b...\n",
      "1794    cựu chi cục trưởng kiểm lâm quảng trị bị khởi ...\n",
      "1795    ông diệp dũng bị tuyên phạt 10 năm tù tối 2912...\n",
      "1796    giám đốc vướng lao lý trong vụ điện làm chết b...\n",
      "1797    giám đốc trung tâm dạy nghề lái xe sài gòn bị ...\n",
      "Name: text, Length: 1798, dtype: object\n"
     ]
    }
   ],
   "source": [
    "data = pd.concat([data_have_clean, result_value[['text', 'label']]], ignore_index=True)\n",
    "data = data.fillna('')\n",
    "print(data['text'])"
   ]
  },
  {
   "cell_type": "code",
   "execution_count": 10,
   "metadata": {
    "ExecuteTime": {
     "end_time": "2023-12-27T03:04:06.972985900Z",
     "start_time": "2023-12-27T03:04:06.942637100Z"
    }
   },
   "outputs": [
    {
     "data": {
      "text/plain": [
       "article_id     0\n",
       "title          0\n",
       "link           0\n",
       "creator        0\n",
       "description    0\n",
       "content        0\n",
       "source_id      0\n",
       "category       0\n",
       "label          0\n",
       "text           0\n",
       "dtype: int64"
      ]
     },
     "execution_count": 10,
     "metadata": {},
     "output_type": "execute_result"
    }
   ],
   "source": [
    "data.isnull().sum()"
   ]
  },
  {
   "cell_type": "code",
   "execution_count": 11,
   "metadata": {
    "ExecuteTime": {
     "end_time": "2023-12-27T03:04:06.974980700Z",
     "start_time": "2023-12-27T03:04:06.955206400Z"
    }
   },
   "outputs": [],
   "source": [
    "X_train, X_test, y_train, y_test = train_test_split(\n",
    "    data['text'],\n",
    "    data['label'],\n",
    "    test_size=0.2,\n",
    "    random_state=42\n",
    "    )"
   ]
  },
  {
   "cell_type": "code",
   "execution_count": 12,
   "metadata": {
    "ExecuteTime": {
     "end_time": "2023-12-27T03:04:07.185075Z",
     "start_time": "2023-12-27T03:04:06.960925400Z"
    }
   },
   "outputs": [],
   "source": [
    "vectorized = TfidfVectorizer()\n",
    "param_grid = {'kernel': ['linear', 'rbf'], 'C': [0.1, 1, 10], 'gamma': ['scale', 'auto']}\n",
    "X_train_tfidf = vectorized.fit_transform(X_train)\n",
    "X_test_tfidf = vectorized.transform(X_test)"
   ]
  },
  {
   "cell_type": "code",
   "execution_count": 13,
   "metadata": {
    "ExecuteTime": {
     "end_time": "2023-12-27T03:04:19.364363100Z",
     "start_time": "2023-12-27T03:04:07.190784200Z"
    }
   },
   "outputs": [
    {
     "data": {
      "text/html": [
       "<style>#sk-container-id-1 {color: black;background-color: white;}#sk-container-id-1 pre{padding: 0;}#sk-container-id-1 div.sk-toggleable {background-color: white;}#sk-container-id-1 label.sk-toggleable__label {cursor: pointer;display: block;width: 100%;margin-bottom: 0;padding: 0.3em;box-sizing: border-box;text-align: center;}#sk-container-id-1 label.sk-toggleable__label-arrow:before {content: \"▸\";float: left;margin-right: 0.25em;color: #696969;}#sk-container-id-1 label.sk-toggleable__label-arrow:hover:before {color: black;}#sk-container-id-1 div.sk-estimator:hover label.sk-toggleable__label-arrow:before {color: black;}#sk-container-id-1 div.sk-toggleable__content {max-height: 0;max-width: 0;overflow: hidden;text-align: left;background-color: #f0f8ff;}#sk-container-id-1 div.sk-toggleable__content pre {margin: 0.2em;color: black;border-radius: 0.25em;background-color: #f0f8ff;}#sk-container-id-1 input.sk-toggleable__control:checked~div.sk-toggleable__content {max-height: 200px;max-width: 100%;overflow: auto;}#sk-container-id-1 input.sk-toggleable__control:checked~label.sk-toggleable__label-arrow:before {content: \"▾\";}#sk-container-id-1 div.sk-estimator input.sk-toggleable__control:checked~label.sk-toggleable__label {background-color: #d4ebff;}#sk-container-id-1 div.sk-label input.sk-toggleable__control:checked~label.sk-toggleable__label {background-color: #d4ebff;}#sk-container-id-1 input.sk-hidden--visually {border: 0;clip: rect(1px 1px 1px 1px);clip: rect(1px, 1px, 1px, 1px);height: 1px;margin: -1px;overflow: hidden;padding: 0;position: absolute;width: 1px;}#sk-container-id-1 div.sk-estimator {font-family: monospace;background-color: #f0f8ff;border: 1px dotted black;border-radius: 0.25em;box-sizing: border-box;margin-bottom: 0.5em;}#sk-container-id-1 div.sk-estimator:hover {background-color: #d4ebff;}#sk-container-id-1 div.sk-parallel-item::after {content: \"\";width: 100%;border-bottom: 1px solid gray;flex-grow: 1;}#sk-container-id-1 div.sk-label:hover label.sk-toggleable__label {background-color: #d4ebff;}#sk-container-id-1 div.sk-serial::before {content: \"\";position: absolute;border-left: 1px solid gray;box-sizing: border-box;top: 0;bottom: 0;left: 50%;z-index: 0;}#sk-container-id-1 div.sk-serial {display: flex;flex-direction: column;align-items: center;background-color: white;padding-right: 0.2em;padding-left: 0.2em;position: relative;}#sk-container-id-1 div.sk-item {position: relative;z-index: 1;}#sk-container-id-1 div.sk-parallel {display: flex;align-items: stretch;justify-content: center;background-color: white;position: relative;}#sk-container-id-1 div.sk-item::before, #sk-container-id-1 div.sk-parallel-item::before {content: \"\";position: absolute;border-left: 1px solid gray;box-sizing: border-box;top: 0;bottom: 0;left: 50%;z-index: -1;}#sk-container-id-1 div.sk-parallel-item {display: flex;flex-direction: column;z-index: 1;position: relative;background-color: white;}#sk-container-id-1 div.sk-parallel-item:first-child::after {align-self: flex-end;width: 50%;}#sk-container-id-1 div.sk-parallel-item:last-child::after {align-self: flex-start;width: 50%;}#sk-container-id-1 div.sk-parallel-item:only-child::after {width: 0;}#sk-container-id-1 div.sk-dashed-wrapped {border: 1px dashed gray;margin: 0 0.4em 0.5em 0.4em;box-sizing: border-box;padding-bottom: 0.4em;background-color: white;}#sk-container-id-1 div.sk-label label {font-family: monospace;font-weight: bold;display: inline-block;line-height: 1.2em;}#sk-container-id-1 div.sk-label-container {text-align: center;}#sk-container-id-1 div.sk-container {/* jupyter's `normalize.less` sets `[hidden] { display: none; }` but bootstrap.min.css set `[hidden] { display: none !important; }` so we also need the `!important` here to be able to override the default hidden behavior on the sphinx rendered scikit-learn.org. See: https://github.com/scikit-learn/scikit-learn/issues/21755 */display: inline-block !important;position: relative;}#sk-container-id-1 div.sk-text-repr-fallback {display: none;}</style><div id=\"sk-container-id-1\" class=\"sk-top-container\"><div class=\"sk-text-repr-fallback\"><pre>GridSearchCV(cv=5, estimator=SVC(), n_jobs=-1,\n",
       "             param_grid={&#x27;C&#x27;: [0.1, 1, 10], &#x27;gamma&#x27;: [&#x27;scale&#x27;, &#x27;auto&#x27;],\n",
       "                         &#x27;kernel&#x27;: [&#x27;linear&#x27;, &#x27;rbf&#x27;]})</pre><b>In a Jupyter environment, please rerun this cell to show the HTML representation or trust the notebook. <br />On GitHub, the HTML representation is unable to render, please try loading this page with nbviewer.org.</b></div><div class=\"sk-container\" hidden><div class=\"sk-item sk-dashed-wrapped\"><div class=\"sk-label-container\"><div class=\"sk-label sk-toggleable\"><input class=\"sk-toggleable__control sk-hidden--visually\" id=\"sk-estimator-id-1\" type=\"checkbox\" ><label for=\"sk-estimator-id-1\" class=\"sk-toggleable__label sk-toggleable__label-arrow\">GridSearchCV</label><div class=\"sk-toggleable__content\"><pre>GridSearchCV(cv=5, estimator=SVC(), n_jobs=-1,\n",
       "             param_grid={&#x27;C&#x27;: [0.1, 1, 10], &#x27;gamma&#x27;: [&#x27;scale&#x27;, &#x27;auto&#x27;],\n",
       "                         &#x27;kernel&#x27;: [&#x27;linear&#x27;, &#x27;rbf&#x27;]})</pre></div></div></div><div class=\"sk-parallel\"><div class=\"sk-parallel-item\"><div class=\"sk-item\"><div class=\"sk-label-container\"><div class=\"sk-label sk-toggleable\"><input class=\"sk-toggleable__control sk-hidden--visually\" id=\"sk-estimator-id-2\" type=\"checkbox\" ><label for=\"sk-estimator-id-2\" class=\"sk-toggleable__label sk-toggleable__label-arrow\">estimator: SVC</label><div class=\"sk-toggleable__content\"><pre>SVC()</pre></div></div></div><div class=\"sk-serial\"><div class=\"sk-item\"><div class=\"sk-estimator sk-toggleable\"><input class=\"sk-toggleable__control sk-hidden--visually\" id=\"sk-estimator-id-3\" type=\"checkbox\" ><label for=\"sk-estimator-id-3\" class=\"sk-toggleable__label sk-toggleable__label-arrow\">SVC</label><div class=\"sk-toggleable__content\"><pre>SVC()</pre></div></div></div></div></div></div></div></div></div></div>"
      ],
      "text/plain": [
       "GridSearchCV(cv=5, estimator=SVC(), n_jobs=-1,\n",
       "             param_grid={'C': [0.1, 1, 10], 'gamma': ['scale', 'auto'],\n",
       "                         'kernel': ['linear', 'rbf']})"
      ]
     },
     "execution_count": 13,
     "metadata": {},
     "output_type": "execute_result"
    }
   ],
   "source": [
    "svm_model = SVC()\n",
    "grid_search = GridSearchCV(svm_model, param_grid, cv=5, n_jobs=-1)\n",
    "grid_search.fit(X_train_tfidf, y_train)"
   ]
  },
  {
   "cell_type": "code",
   "execution_count": 14,
   "metadata": {
    "ExecuteTime": {
     "end_time": "2023-12-27T03:04:19.365362700Z",
     "start_time": "2023-12-27T03:04:19.362855400Z"
    }
   },
   "outputs": [
    {
     "name": "stdout",
     "output_type": "stream",
     "text": [
      "Best hyperparameters: {'C': 10, 'gamma': 'scale', 'kernel': 'linear'}\n"
     ]
    }
   ],
   "source": [
    "print('Best hyperparameters:', grid_search.best_params_)\n"
   ]
  },
  {
   "cell_type": "code",
   "execution_count": 15,
   "metadata": {
    "ExecuteTime": {
     "end_time": "2023-12-27T03:04:19.586070600Z",
     "start_time": "2023-12-27T03:04:19.365362700Z"
    }
   },
   "outputs": [],
   "source": [
    "best_model = grid_search.best_estimator_\n",
    "y_pred = best_model.predict(X_test_tfidf)\n"
   ]
  },
  {
   "cell_type": "code",
   "execution_count": 16,
   "metadata": {},
   "outputs": [],
   "source": [
    "data = data.loc[y_test.index]\n",
    "data.loc[y_test.values != y_pred, 'label'] = 2\n"
   ]
  },
  {
   "cell_type": "code",
   "execution_count": 17,
   "metadata": {
    "ExecuteTime": {
     "end_time": "2023-12-27T03:04:19.598130400Z",
     "start_time": "2023-12-27T03:04:19.587071Z"
    }
   },
   "outputs": [
    {
     "data": {
      "text/plain": [
       "array([1, 1, 1, 1, 1, 0, 0, 1, 1, 1, 0, 0, 0, 1, 1, 0, 0, 0, 0, 1, 0, 1,\n",
       "       0, 1, 0, 0, 0, 1, 0, 1, 0, 0, 1, 0, 1, 0, 1, 1, 1, 0, 1, 0, 0, 0,\n",
       "       0, 0, 0, 0, 1, 1, 0, 1, 0, 0, 0, 0, 0, 1, 0, 0, 1, 1, 1, 0, 0, 1,\n",
       "       1, 1, 0, 0, 0, 0, 1, 1, 1, 1, 1, 0, 0, 1, 0, 0, 1, 0, 0, 0, 1, 0,\n",
       "       0, 0, 1, 0, 0, 0, 1, 0, 0, 0, 0, 0, 0, 1, 0, 1, 0, 0, 0, 0, 0, 0,\n",
       "       0, 0, 0, 0, 0, 1, 0, 1, 0, 1, 0, 0, 1, 0, 1, 1, 0, 1, 0, 0, 1, 1,\n",
       "       1, 0, 1, 0, 0, 0, 1, 1, 0, 1, 0, 1, 0, 0, 0, 1, 0, 0, 0, 0, 0, 0,\n",
       "       0, 0, 0, 0, 0, 0, 1, 0, 1, 0, 1, 1, 0, 0, 0, 0, 0, 0, 1, 0, 1, 0,\n",
       "       0, 0, 1, 1, 1, 0, 0, 0, 1, 0, 1, 0, 0, 1, 1, 1, 0, 1, 1, 0, 1, 0,\n",
       "       1, 0, 0, 1, 1, 0, 0, 0, 1, 0, 1, 0, 0, 1, 0, 0, 0, 1, 1, 0, 1, 1,\n",
       "       0, 0, 0, 0, 1, 1, 0, 1, 0, 0, 0, 1, 0, 1, 1, 0, 0, 1, 1, 1, 0, 1,\n",
       "       1, 0, 0, 0, 0, 0, 1, 1, 1, 1, 1, 1, 0, 1, 0, 1, 0, 0, 0, 0, 0, 0,\n",
       "       1, 1, 1, 0, 0, 0, 0, 1, 1, 1, 1, 0, 0, 1, 1, 0, 0, 0, 1, 0, 0, 0,\n",
       "       0, 1, 1, 1, 0, 0, 0, 0, 1, 1, 0, 0, 0, 1, 0, 1, 1, 1, 0, 0, 0, 1,\n",
       "       1, 1, 0, 1, 1, 0, 1, 1, 0, 0, 1, 0, 0, 0, 0, 0, 0, 1, 0, 0, 1, 0,\n",
       "       1, 1, 0, 0, 0, 1, 0, 1, 0, 1, 0, 1, 1, 0, 0, 1, 0, 0, 0, 0, 0, 0,\n",
       "       0, 0, 1, 0, 1, 1, 0, 1], dtype=int64)"
      ]
     },
     "execution_count": 17,
     "metadata": {},
     "output_type": "execute_result"
    }
   ],
   "source": [
    "y_pred"
   ]
  },
  {
   "cell_type": "code",
   "execution_count": 18,
   "metadata": {
    "ExecuteTime": {
     "end_time": "2023-12-27T03:04:19.600130500Z",
     "start_time": "2023-12-27T03:04:19.590767500Z"
    }
   },
   "outputs": [],
   "source": [
    "import pickle\n",
    "with open('temp/vectorized.pkl', 'wb') as f:\n",
    "    pickle.dump(vectorized, f)  \n",
    "with open('temp/svm_model.pkl', 'wb') as f:\n",
    "    pickle.dump(best_model, f)\n",
    "with open('temp/word_clean.pkl', 'wb') as f:\n",
    "    pickle.dump(word, f)"
   ]
  },
  {
   "cell_type": "code",
   "execution_count": 19,
   "metadata": {
    "ExecuteTime": {
     "end_time": "2023-12-27T03:04:19.604674Z",
     "start_time": "2023-12-27T03:04:19.599129800Z"
    }
   },
   "outputs": [
    {
     "name": "stdout",
     "output_type": "stream",
     "text": [
      "Độ chính xác của mô hình SVM: 0.9555555555555556\n"
     ]
    }
   ],
   "source": [
    "accuracy = accuracy_score(y_test, y_pred)\n",
    "print(f'Độ chính xác của mô hình SVM: {accuracy}')"
   ]
  },
  {
   "cell_type": "code",
   "execution_count": 20,
   "metadata": {
    "ExecuteTime": {
     "end_time": "2023-12-27T03:04:19.654385900Z",
     "start_time": "2023-12-27T03:04:19.609017100Z"
    }
   },
   "outputs": [
    {
     "name": "stdout",
     "output_type": "stream",
     "text": [
      "360 360\n"
     ]
    }
   ],
   "source": [
    "print(len(y_test), len(y_pred))"
   ]
  },
  {
   "cell_type": "code",
   "execution_count": 21,
   "metadata": {},
   "outputs": [
    {
     "name": "stdout",
     "output_type": "stream",
     "text": [
      "Số hàng trong X_train: 1438\n",
      "Số phần tử trong y_train: 1438\n",
      "Số hàng trong X_test: 360\n",
      "Số phần tử trong y_test: 360\n"
     ]
    }
   ],
   "source": [
    "print(f\"Số hàng trong X_train: {len(X_train)}\")\n",
    "print(f\"Số phần tử trong y_train: {len(y_train)}\")\n",
    "print(f\"Số hàng trong X_test: {len(X_test)}\")\n",
    "print(f\"Số phần tử trong y_test: {len(y_test)}\")"
   ]
  },
  {
   "cell_type": "code",
   "execution_count": 22,
   "metadata": {
    "ExecuteTime": {
     "end_time": "2023-12-27T03:04:55.480508600Z",
     "start_time": "2023-12-27T03:04:54.704994900Z"
    }
   },
   "outputs": [
    {
     "name": "stdout",
     "output_type": "stream",
     "text": [
      "Confusion Matrix:\n",
      "[[205   7]\n",
      " [  9 139]]\n",
      "\n",
      "Classification Report:\n",
      "              precision    recall  f1-score   support\n",
      "\n",
      "           0       0.96      0.97      0.96       212\n",
      "           1       0.95      0.94      0.95       148\n",
      "\n",
      "    accuracy                           0.96       360\n",
      "   macro avg       0.95      0.95      0.95       360\n",
      "weighted avg       0.96      0.96      0.96       360\n",
      "\n",
      "\n",
      "Số lượng tin thật được dự đoán đúng: 139\n",
      "Số lượng tin giả được dự đoán đúng: 205\n"
     ]
    }
   ],
   "source": [
    "from sklearn.metrics import confusion_matrix, classification_report\n",
    "\n",
    "# Dự đoán trên tập kiểm tra\n",
    "y_pred = best_model.predict(X_test_tfidf)\n",
    "\n",
    "# Tính ma trận nhầm lẫn\n",
    "conf_matrix = confusion_matrix(y_test, y_pred)\n",
    "\n",
    "# In ma trận nhầm lẫn\n",
    "print(\"Confusion Matrix:\")\n",
    "print(conf_matrix)\n",
    "\n",
    "# In báo cáo đánh giá\n",
    "print(\"\\nClassification Report:\")\n",
    "print(classification_report(y_test, y_pred))\n",
    "\n",
    "# Số lượng tin thật và tin giả được dự đoán đúng\n",
    "true_real_news = conf_matrix[1, 1]\n",
    "true_fake_news = conf_matrix[0, 0]\n",
    "\n",
    "print(f\"\\nSố lượng tin thật được dự đoán đúng: {true_real_news}\")\n",
    "print(f\"Số lượng tin giả được dự đoán đúng: {true_fake_news}\")\n"
   ]
  },
  {
   "cell_type": "code",
   "execution_count": 23,
   "metadata": {},
   "outputs": [
    {
     "name": "stdout",
     "output_type": "stream",
     "text": [
      "Số lượng bài báo chưa thể phân biệt được: 16\n",
      "Số lượng bài báo đã phân biệt được: 344\n",
      "\n",
      "Danh sách bài báo chưa thể phân biệt được cùng với nội dung:\n",
      "\n",
      "Index: 1, Thực tế: 0, Dự đoán: 1\n",
      "Nội dung bài báo:\n",
      "Nên học Công nghệ thông tin hay Khoa học máy tính? Em cũng dành thời gian đọc tài liệu trên mạng nhưng thấy thông tin mâu thuẫn nhau. Nơi thì bảo học Công nghệ thông tin, có trang lại nói cần học Khoa học máy tính. Vậy em nên chọn ngành nào để sau này có thể làm vị trí kiểm thử? Em rất mong các anh, chị đang làm về kiểm thử phần mềm cho em lời khuyên, chia sẻ quá trình mọi người đến với ngành này. Hà \n",
      "\n",
      "\n",
      "Index: 3, Thực tế: 0, Dự đoán: 1\n",
      "Nội dung bài báo:\n",
      "Viêm gan B 20 năm dễ hóa ung thư Thông tin được PGS Trịnh Thị Ngọc, Phó Chủ tịch Hội Gan mật Việt Nam, cho biết tại Hội nghị gan mật toàn quốc lần thứ 17 nhân Kỷ niệm 75 năm ngày Truyền thống Học viện Quân y, ngày 23/12. Viêm gan do virus có 4 loại, gồm virus viêm gan A, B, C và E. Viêm gan A và E gây nhiễm trùng tiêu hóa cấp, viêm gan virus B và C gây viêm gan mạn tính, dẫn đến xơ gan và ung thư gan. Trong đó, A, C và E có thể điều trị khỏi, viêm gan virus B chưa có thuốc điều trị, chỉ có thuốc ức chế. Việt Nam ghi nhận khoảng 20 triệu người nhiễm virus viêm gan B và C. Khoảng 80% bệnh nhân ung thư gan do tiến triển từ viêm gan virus B, khoảng 5% bệnh nhân ung thư gan do virus viêm gan C. Có rất nhiều nguyên nhân dẫn đến xơ gan và ung thư gan. Nguyên nhân do viêm gan B và C chiếm tỷ lệ cao nhất, đặc biệt ở các nước châu Á, châu Phi, trong đó có Việt Nam. \"Nhiễm viêm gan B khoảng 20-30 năm có nguy cơ xơ gan và ung thư gan, sớm hay muộn tùy theo có nhiễm viêm gan C, HIV, uống rượu bia... hay không\", PGS Ngọc nói. Tại Việt Nam, ung thư gan và tử vong do ung thư gan chiếm hàng đầu, vượt ung thư phổi, với trên 25.000 ca mắc mới và tử vong mỗi năm, dù hiện nay tỷ lệ nhiễm đã giảm số với trước. Đa số trường hợp phát hiện ở giai đoạn muộn. Một bệnh nhân ung thư gan do viêm gan B điều trị tại bệnh viện. Ảnh: Chi Lê Giáo sư Kwang-Hyub Han, nguyên chủ tịch Hội Gan mật Quốc tế, cho biết thống kê hàng năm thế giới có một triệu ca nhiễm viêm gan B và C mới, 1,1 triệu ca tử vong liên quan đến viêm gan virus. Tỷ lệ mắc viêm gan B vẫn cao ở châu Á. Tổ chức Y tế Thể giới cũng ghi nhận tỷ lệ người mắc viêm gan B, C chưa được chẩn đoán và điều trị trên toàn cầu còn cao. Các rào cản chính để quản lý ung thư gan liên quan đến viêm gan virus ở khu vực châu Á - Thái Bình Dương là thiếu nhận thức, khả năng tiếp cận và khả năng chi trả. Song, nhiều nước đã vượt qua các rào cản này, quản lý bệnh nhân viêm gan tốt. Như Hàn Quốc là một trong những nước thành công trong việc vượt qua các rào cản để quản lý ung thư gan trong vòng 40 năm bằng việc triển khai các chương trình kiểm soát ung thư và viêm gan virus hợp tác với các tổ chức y tế. Các chuyên gia khuyến cáo cần điều trị viêm gan B sớm, thậm chí ngay cả trong giai đoạn dung nạp miễn dịch. Ung thư gan liên quan đến viêm gan virrus có thể phòng ngừa được bằng vaccine (dự phòng cấp 1) và liệu pháp kháng virrus (dự phòng cấp 2). Hiện nay TAF vẫn là thuốc được khuyến cáo ưu tiên hàng đầu vì ít tác dụng không mong muốn. Ngoài ra TAF còn được sử dụng phòng lây truyền từ mẹ sang con và điều trị cho trẻ dưới 12 tuổi. Người dân được khuyến cáo thường xuyên kiểm tra sức khỏe, xét nghiệm sớm và điều trị sớm để phát hiện viêm gan B và C. Nếu chưa mắc bệnh, hãy tiêm vaccine và kiểm tra lượng kháng thể viêm gan sau tiêm. Nếu đã mắc bệnh, cần khám định kỳ 6 tháng một lần, tuân thủ đơn điều trị bằng thuốc kháng virus, tầm soát ung thư gan thường xuyên. Tại hội nghị, ngoài viêm gan còn có gần 70 báo cáo của hơn 30 cơ sở y tế trong và ngoài nước về nội ngoại khoa gan mật tụy như xơ gan, ung thư gan, nội soi gan mật tụy, phẫu thuật gan mật tụy, ghép gan,.... Đây là dịp các bác sĩ cập nhật những kiến thức mới để nâng cao chất lượng khám chữa bệnh. Lê Nga \n",
      "\n",
      "\n",
      "Index: 24, Thực tế: 1, Dự đoán: 0\n",
      "Nội dung bài báo:\n",
      " Không chỉ cho thuê mặt bằng làm dịch vụ thương mại tại nhiều điểm với diện tích khá lớn trái quy định, chủ đầu tư còn cho xây dựng và sử dụng công trình không đúng với quy hoạch, cũng như vi phạm trong lĩnh vực kê khai thuế gây thất thu cho nhà nước... tại dự án đầu tư xây dựng Công viên Trung tâm TP Vinh. Nhiều hành vi sai phạm này kéo dài nhưng vẫn chưa được cơ quan chức năng tỉnh Nghệ An xử lý nghiêm theo qui định của pháp luật.\n",
      " \n",
      "\n",
      "\n",
      "Index: 27, Thực tế: 0, Dự đoán: 1\n",
      "Nội dung bài báo:\n",
      "Bài tập thở đơn giản giúp giảm căng thẳng Theo các chuyên gia, thở là hoạt động mang tính vô thức. Tuy nhiên, việc tập trung điều chỉnh nhịp thở tùy từng hoàn cảnh có thể giúp giải phóng căng thẳng. \"Hô hấp là sự tương tác hoàn hảo giữa hoạt động có ý thức và hoạt động vô thức. Hít thở là cách tâm trí và cơ thể phối hợp với nhau nhằm điều chỉnh cảm xúc\", Angelo Gemignani, bác sĩ tâm thần kiêm giáo sư khoa học thần kinh tại Đại học Pisa, cho biết. Nghiên cứu trên tạp chí Cell Reports Medicine cho thấy tập thở 5 phút mỗi ngày trong vòng một tháng có thể cải thiện tâm trạng, giảm lo lắng. Lợi ích của nó lớn hơn thiền chánh niệm trong cùng khoảng thời gian. Lợi ích sức khỏe tâm thần của bài tập thở Trong nghiên cứu ngẫu nhiên với 108 người trưởng thành, các nhà khoa học đã so sánh ba bài tập thở khác nhau và thiền chánh niệm. Tình nguyện viên được yêu cầu thở một cách có ý thức, nhưng không cố gắng kiểm soát nhịp thở. Nhóm đầu tiên tập thở theo chu kỳ, tức là hít vào từ từ bằng mũi để mở rộng phổi, nín thở trong vài giây và thở ra bằng miệng. Nhóm thứ hai thực hiện bài thở hộp, tức là hít vào từ từ, nín thở, thở ra từ từ, tiếp tục nín thở và lặp lại trình tự này. Nhóm thứ ba thực hành thở tăng thông khí theo chu kỳ, tập trung vào việc hít vào hơn là thở ra. Quy trình thở ngược lại so với bài tập thở theo chu kỳ của nhóm đầu tiên. Tình nguyện viên hít một hơi thật sâu bằng mũi, thở ra một cách thụ động, sau đó để không khí thoát ra theo đường miệng. Cứ sau 30 chu kỳ, họ sẽ nín thở trong 15 giây. Một người phụ nữ tập thở tại nhà vào buổi sáng. Ảnh: Freepik Nhóm thứ 4 thực hiện thiền chánh niệm, tập trung vào nhận thức hơi thở và cơ thể, nhưng không kiểm soát hơi thở. Sau 28 ngày, người tham gia cả nhóm thiền chánh niệm và tập thở cho biết họ có nhiều cảm xúc tích cực hơn, ít nghĩ đến những chuyện tiêu cực, mức độ lo lắng giảm đi. Trong số các bài tập thở khác nhau, thở theo chu kỳ đặc biệt hiệu quả. Tình nguyện viên trong nhóm này thậm chí cảm thấy tích cực hơn nhóm thiền chánh niệm. Tập thở có lợi cho não bộ thế nào Khi cảm thấy lo lắng, con người có xu hướng thở nhanh hơn. Các bài tập thở cho phép người tập thở chậm một cách có ý thức. Nghiên cứu cho thấy điều này ảnh hưởng đến cả tâm trạng và sinh lý. Theo phân tích của giáo sư Gemignani và các đồng nghiệp, thở chậm có thể ảnh hưởng đến hệ thần kinh tự trị - hệ thống điều chỉnh các hoạt động sinh lý quan trọng như nhịp tim, huyết áp và hơi thở. Thở chậm khiến não bộ chuyển từ trạng thái tự vệ sang nghỉ ngơi, khiến tâm lý trở nên thoải mái hơn. Trong nghiên cứu mới, nhóm thực hiện thở chậm theo chu kỳ đã giảm nhịp hô hấp, tần suất thở so với những người thiền chánh niệm. Nhịp thở càng chậm, cảm xúc tích cực càng tăng lên. Điều này cho thấy bài tập có lợi cho tâm trạng của họ. Thục Linh (Theo Washington Post ) \n",
      "\n",
      "\n",
      "Index: 28, Thực tế: 1, Dự đoán: 0\n",
      "Nội dung bài báo:\n",
      " Ngày 8 và 9/8 thí sinh lớp 12 mới thi tốt nghiệp THPT. Thế nhưng tại thời điểm này, một số trường đại học đã gửi giấy báo trúng tuyển cho thí sinh. \n",
      "\n",
      "\n",
      "Index: 68, Thực tế: 1, Dự đoán: 0\n",
      "Nội dung bài báo:\n",
      " ĐỒNG NAI! KHẨN THIẾT KÊU CỨU!\n",
      "* Tìm 5 Năm Đằng Đẵng Mới Gặp Được Con.\n",
      "\n",
      "* Nhưng Hơn Nửa Năm cơ quan THA Đồng Nai Vẫn Chưa Giao Con Cho Tôi, Hậu Quả Quyền Trẻ Em Bị Xâm Hại.\n",
      "\n",
      "* Dù đủ điều kiện THA. Hội Bảo vệ quyền trẻ em Việt Nam đã 2 lần đề nghị và nhiều cơ quan phối hợp thực hiện. Nhưng đến nay Chi cục THADS huyện Trảng Bom (Đồng Nai) vẫn chưa tổ chức thi hành Bản án.\n",
      "- Nhiều dấu hiệu Chấp hành viên cố ý không tổ chức thi hành án và dung túng: Thậm chí con trai tôi đồng ý theo tôi nhưng Chấp hành viên lại lập Biên bản không giao con cho tôi.\n",
      "- Vì sao Chi cục trưởng THADS huyện Trảng Bom (Trần Thanh Hợp) thiếu trách nhiệm quản lý, chỉ đạo thi hành án; giải quyết khiếu nại không đúng quy định?\n",
      "\n",
      "* Vì cản trở của \"người phụ nữ\" mà tôi vẫn chưa tiếp xúc được với  con mình.\n",
      "* Trường Tiểu học Đức Trí (huyện Trảng Bom) cản trở cha con tôi nhứ thế nào?\n",
      "\n",
      "Người đăng: Lê Thị Lặc – bà nội của Lộc. \n",
      "\n",
      "\n",
      "Index: 73, Thực tế: 0, Dự đoán: 1\n",
      "Nội dung bài báo:\n",
      "Ông Lưu Bình Nhưỡng bị khởi tố thêm tội danh vì nhận hàng trăm ngàn USD Ông Lưu Bình Nhưỡng bị khởi tố thêm tội danh vì nhận hàng trăm ngàn USD Ông Lưu Bình Nhưỡng bị Cơ quan điều tra Công an tỉnh Thái Bình khởi tố thêm tội danh lợi dụng chức vụ, quyền hạn gây ảnh hưởng đối với người khác để trục lợi. \n",
      "\n",
      "\n",
      "Index: 119, Thực tế: 0, Dự đoán: 1\n",
      "Nội dung bài báo:\n",
      "Apple lặng lẽ thay đổi chính sách, yêu cầu phải có lệnh khám xét thì mới gửi một số dữ liệu khách hàng nhất định cho cơ quan chấp pháp  ['Stephen Katte']\n",
      "\n",
      "\n",
      "Index: 127, Thực tế: 0, Dự đoán: 1\n",
      "Nội dung bài báo:\n",
      "\"Phép màu\" từ Huawei đang giúp các hãng xe vô danh \"chiến\" ngang tay Tesla, BYD  \n",
      "\n",
      "\n",
      "Index: 213, Thực tế: 1, Dự đoán: 0\n",
      "Nội dung bài báo:\n",
      " BBC cho biết bệnh nhân chưa được công bố danh tính, gọi là “bệnh nhân số 0” là một người đàn ông nghỉ hưu, khoảng hơn 70 tuổi, phải nằm liệt giường do bị đột quỵ và mắc chứng mất trí nhớ. Bà Wu Wenjuan, một đồng tác giả của nghiên cứu trên The Lancet nói rằng: “Ông ta [bệnh nhân số 0] sinh sống cách chợ hải sản 4 đến 5 trạm dừng [giao thông công cộng].” “Và vì ông ta bị ốm bệnh, nên ông về cơ bản không thể đi ra khỏi nhà,” bà Wu nói với BBC. \n",
      "\n",
      "\n",
      "Index: 228, Thực tế: 1, Dự đoán: 0\n",
      "Nội dung bài báo:\n",
      " TIN SHOCK: BẮT TẠM GIAM THIẾU UỶ CÔNG AN HÌNH SỰ TỈNH THÁI NGUYÊN, ĐỂ ĐIỀU TRA KẺ CHỦ MƯU TRONG VỤ ÁN BẮT CÓC VÀ SÁT HẠI NỮ SINH GIAO GÀ GÂY CHẤN ĐỘNG ĐIỆN BIÊN CHIỀU 30 TẾT ...?\n",
      "\n",
      "Như mọi người đã biết công an điều tra sau một thời gian đấu tranh khai thác đã lôi ra ánh sáng\n",
      "kẻ chủ mưu và đồng loã thứ 9 & 10 trong trong vụ sát hại nữ sinh giao gà. \n",
      "\n",
      "\n",
      "Index: 258, Thực tế: 1, Dự đoán: 0\n",
      "Nội dung bài báo:\n",
      " Là người đứng đầu  cơ quan lãnh đạo, cơ quan tư pháp tại tỉnh thay vì công tâm xử lý đơn thư của người dân, chính những người này lại dùng vị trí chức vụ của mình để thay đổi kết quả các phiên tòa.\n",
      "\n",
      "Ồ, vậy là không thể hay có thể 🤔 \n",
      "\n",
      "\n",
      "Index: 263, Thực tế: 1, Dự đoán: 0\n",
      "Nội dung bài báo:\n",
      " EVN giảm giá điện 10% cho các hộ gia đình dùng dưới 300 kWh/tháng làm mình liên tưởng đến việc\n",
      "\n",
      "Rạp chiếu thông báo: Giảm giá vẻ xem phim 18+ cho khách hàng cao 1m3 trở xuống \n",
      "\n",
      "\n",
      "Index: 297, Thực tế: 1, Dự đoán: 0\n",
      "Nội dung bài báo:\n",
      " TIẾNG SÚNG ĐĂK NÔNG: VÌ SAO ĐẶNG VĂN HIẾN SẼ ĐƯỢC XÓA ÁN?\n",
      "\n",
      "\n",
      "Tóm tắt sự việc: Anh Đặng Văn Hiến ở Đăk Nông có cha ông vào Nam, khai hoang một miếng đất làm rẫy. Tỉnh muốn đem miếng rẫy đó giao cho thuê đất  cho công ty Long Sơn.  Vào ngày công ty Long Sơn đưa quân đến để lấy cái rẫy, anh Hiến cầm súng mini bắn chết 3 người. Tòa án sơ thẩm và phúc thẩm các cấp tuyên anh án tử hình.\n",
      "\n",
      "Vì thấy chưa có báo đài nào phân tích vụ án Đặng Văn Hiến một cách tỉ mỉ, cho nên chúng tôi phải làm bài phân tích này. Vì sao Đặng Văn Hiến sẽ được xóa án?\n",
      "\n",
      "Thứ nhất, việc giết một người không phải dễ dàng. Nó cần chữ ký của chủ tịch nước. Do đó, nhiều người đã nhận án tử hình, cuối cùng lại được thả ra. Chúng tôi có gặp Cường Trắng, đàn em thứ hai sau vụ Năm Cam, giang hồ Sài Gòn gọi là anh hai. Cường Trắng kể về sự tha bổng của mình. Giết nhiều người như Cường Trắng còn được tha bổng, thì lỡ bắn súng vào một người như Đặng Văn Hiến không lẽ gì lại xử tử thật?\n",
      "\n",
      "Bây giờ, Cường Trắng đang dạy học cho lũ trẻ vô gia cư trong làng đại học.\n",
      "\n",
      "Trước đó, công ty Long Sơn cho người chém móp đầu một người hàng xóm của anh Hiến. Sau nhiều ngày chúng vẫn bình an vô sự, thôn xã nào cũng có dân phòng, bảo vệ khu phố, công an phường, xã đội thanh niên, phụ nữ, phụ lão... sao lại im mồm dù đã ăn thuế của dân. Đừng nói là chúng tôi không biết. Khi giới chức địa phương biết và vẫn làm ngơ, Đặng Văn Hiến đã chọn cách thi hành công lý tự phát, do hoàn cảnh đưa đẩy. Tòa không thể xử anh như xử tên sát nhân.\n",
      "\n",
      "Nếu muốn giết Đặng Văn Hiến, phải giết thêm các con trai của anh ta nữa. Vì chỉ cần một đứa con của anh ta còn sống, sau này tòa án Đăk Nông sẽ khó bảo toàn tính mạng.\n",
      "\n",
      "Ai muốn mượn tay tòa án để giết Đặng Văn Hiến nhất? Thưa, đó là công ty Long Sơn. Tên tuổi, danh tính của giám đốc công ty này, và những người thực sự đứng sau nó, chưa được tung ra trên báo chí.\n",
      "\n",
      "Đất Tây Nguyên là của người Thượng. Đến Ngô Đình Nhu cũng không dám dùng súng đạn với người Thượng, vì người Thượng là chủ,  người Kinh chỉ là khách. Trần Đại Quang xua quân đi giết hàng nghìn người Thượng, nhờ đó sau này được lên chức bộ trưởng bộ công an. Như chúng ta đều biết, trên đời này không có tai nạn nào là ngẫu nhiên, kết quả Trần Đại Quang chết bất đắc kỳ tử, một cái chết cực kỳ thảm thương.\n",
      "\n",
      "Ai muốn tha tội cho Đặng Văn Hiến nhất?\n",
      "\n",
      "Có phải là tòa án tối cao? Hoàn toàn không, tòa án này không được tự do lựa chọn.\n",
      "\n",
      "Người muốn tha tội cho Đặng Văn Hiến nhất là những người đã bỏ phiếu để giao đất của anh Đặng Văn Hiến cho công ty Long Sơn. Ở Việt Nam, để lấy một miếng đất trong xã đem bán không hề đơn giản. Nó cần chữ ký, phiếu bầu của địa chính xã, chủ tịch xã, hội phụ nữ, hội nông dân, đoàn thanh niên... Bác tôi (Tôn Hảo) bị địa chính xã cùng đồng bạn bỏ phiếu lấy đất. Bác tôi đi kiện. Hai vợ chồng người địa chính xã Vượng Lộc huyện Can Lộc tỉnh Hà Tĩnh   đến nhà bác tôi lúc 12 h đêm, quỳ xuống xin bác bỏ quá cho. Bác tôi, truyền thống Cơ-đốc, nhận đền bù rồi đi chứ không khởi kiện quan chức này.\n",
      "\n",
      "Mọi thứ trên đời đi qua đều để lại dấu vết. Dấu vết của những người lãnh đạo các ban ngành bỏ phiếu lấy đất của Hiến (giai cấp nông dân) giao cho Long Sơn (giai cấp thương gia) vẫn còn và có thể phục dựng. Đây là những kẻ tạo ra hoàn cảnh dẫn tới vụ giết người. Những người lãnh đạo các ban ngành này, như chúng tôi đã phân tích, rất sợ bị trả thù. Nếu Đặng Văn Hiến chết thì bọn này cũng không được yên thân. Vì vậy, hơn ai hết, họ cần anh Đặng Văn Hiến phải sống.\n",
      "\n",
      "Vì vậy, vụ án Đặng Văn Hiến cũng như vụ bác sĩ Hoàng Công Lương, thỉnh thoảng đem ra khuấy lên để phân tán sự chú ý của công luận.\n",
      "\n",
      "Đặng Văn Hiến có đáng phải chết không? Dù không có giấy tờ gì- nhưng ai cũng biết là anh Hiến sử dụng miếng đất đó là hợp pháp. Không cần trình độ đại học, chỉ cần biết đọc và biết viết cũng biết giết anh Hiến là đúng hay sai. Không thấy sinh viên trường công an, bộ đội, y dược, bách khoa, báo chí nào lên tiếng về vụ này. Vì vậy, sinh viên văn Khoa và triết khoa có nghĩa vụ  phải lên tiếng.  Chúng tôi đi học đại học, tiền học phí của tôi được trợ giá từ tiền thuế do anh Hiến đóng nộp, và đã ăn của người ta thì phải làm cho tốt vào, nên chúng tôi viết bài bảo vệ anh Hiến, cứu chủ nhân của mình khỏi án tử hình vô lý. Như đã nói, công ty Long Sơn ép cho tòa án phải lấy mạng anh Hiến, và cũng như phân tích, điều này không phải cứ muốn là được. Trong tòa án cũng có những người tốt.\n",
      "\n",
      "Tội của anh Hiến là phòng vệ quá giới hạn. Theo như chúng tôi được biết, người nhà của nạn nhân bị Hiến bắn chết đã lên tiếng xin cho Hiến thoát án tử hình. Các bên thống nhất không báo thù. Đây là một lợi thế vô cùng lớn cho anh Hiến, có tác dụng phủ quyết mọi quyết định trước đó của tòa. Khi người nhà của những người bị giết bởi tiếng súng xin tha cho người nổ súng, thì không có lý gì lại tử hình anh ta.\n",
      "\n",
      "Vì vậy, chúng tôi tin rằng, Đặng Văn Hiến sẽ được xóa án. Hiến đã đi tù 5 năm (2<PHONE>-2<PHONE>-2020) và thời gian đó coi như anh đã trả giá đủ cho hành động của mình. \n",
      "\n",
      "\n",
      "Index: 312, Thực tế: 0, Dự đoán: 1\n",
      "Nội dung bài báo:\n",
      "Vệ tinh viễn thám, UAV tham gia cứu hộ động đất Trung Quốc Vệ tinh viễn thám, UAV tham gia cứu hộ động đất Trung Quốc Video: CCTV \n",
      "\n",
      "\n",
      "Index: 317, Thực tế: 1, Dự đoán: 0\n",
      "Nội dung bài báo:\n",
      " Năm nay toàn bộ giáo dân đảo bé Lý sơn thu hoạch được 49kg tỏi Cô Đơn Lý Sơn, Mỵ không dùng tỏi đảo Lớn nữa vì cả đảo đã nhiễm thuốc trừ sâu, nguồn nước giếng bơm lên tưới giờ cũng toàn thuốc trừ sâu. Nên sản lượng tỏi sạch chỉ có từng này. Mỵ sẽ để 9kg biếu gia đình và bạn thân. Còn lại Mỵ đóng gói 300gr chia cho mỗi người đã đăng ký theo thứ tự. \n",
      "\n"
     ]
    }
   ],
   "source": [
    "# Giả sử 'content' là tên của cột chứa nội dung bài báo trong DataFrame của bạn\n",
    "# có bao nhiêu bài báo chưa phân biệt được\n",
    "print(f'Số lượng bài báo chưa thể phân biệt được: {len(data[data[\"label\"] == 2])}')\n",
    "#Số lượng bài báo đã phân biệt được\n",
    "print(f'Số lượng bài báo đã phân biệt được: {len(data[data[\"label\"] != 2])}')\n",
    "\n",
    "print('\\nDanh sách bài báo chưa thể phân biệt được cùng với nội dung:')\n",
    "for i in range(len(y_test)):\n",
    "    if y_test.values[i] != y_pred[i]:\n",
    "        index = i\n",
    "        content_of_article = data['text'].iloc[index]\n",
    "        actual_label = y_test.values[index]\n",
    "        predicted_label = y_pred[index]\n",
    "\n",
    "        print(f'\\nIndex: {index}, Thực tế: {actual_label}, Dự đoán: {predicted_label}')\n",
    "        print(f'Nội dung bài báo:\\n{content_of_article}\\n')\n"
   ]
  }
 ],
 "metadata": {
  "kernelspec": {
   "display_name": "Python 3",
   "language": "python",
   "name": "python3"
  },
  "language_info": {
   "codemirror_mode": {
    "name": "ipython",
    "version": 3
   },
   "file_extension": ".py",
   "mimetype": "text/x-python",
   "name": "python",
   "nbconvert_exporter": "python",
   "pygments_lexer": "ipython3",
   "version": "3.11.0"
  }
 },
 "nbformat": 4,
 "nbformat_minor": 2
}
