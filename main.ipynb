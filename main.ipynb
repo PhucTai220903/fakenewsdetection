{
 "cells": [
  {
   "cell_type": "code",
   "execution_count": 61,
   "metadata": {
    "ExecuteTime": {
     "end_time": "2023-12-27T03:04:06.706477100Z",
     "start_time": "2023-12-27T03:04:05.120904Z"
    }
   },
   "outputs": [],
   "source": [
    "import numpy as np\n",
    "import pandas as pd\n",
    "import re #biểu thức chính quy\n",
    "import nltk\n",
    "from sklearn.feature_extraction.text import TfidfVectorizer\n",
    "from sklearn.model_selection import train_test_split\n",
    "from sklearn.metrics import accuracy_score\n",
    "\n",
    "from underthesea import chunk\n",
    "from underthesea import text_normalize\n",
    "import swifter\n",
    "\n",
    "from sklearn.svm import SVC\n",
    "from sklearn.model_selection import GridSearchCV"
   ]
  },
  {
   "cell_type": "markdown",
   "metadata": {},
   "source": [
    "Đọc dữ liệu"
   ]
  },
  {
   "cell_type": "code",
   "execution_count": 62,
   "metadata": {
    "ExecuteTime": {
     "end_time": "2023-12-27T03:04:06.751550200Z",
     "start_time": "2023-12-27T03:04:06.704471800Z"
    }
   },
   "outputs": [],
   "source": [
    "real_data = pd.read_csv('data/RealNewsfrom_NewsData_io_UPDATED.csv', encoding='utf-8')\n",
    "fake_data = pd.read_csv('data/FakeNews.csv', encoding='utf-8')"
   ]
  },
  {
   "cell_type": "markdown",
   "metadata": {},
   "source": [
    "Xác định và chuẩn bị dữ liệu"
   ]
  },
  {
   "cell_type": "code",
   "execution_count": 63,
   "metadata": {
    "ExecuteTime": {
     "end_time": "2023-12-27T03:04:06.752553100Z",
     "start_time": "2023-12-27T03:04:06.745641100Z"
    }
   },
   "outputs": [],
   "source": [
    "real_data['label'] = 0 #real\n",
    "fake_data['label'] = 1 #fake\n",
    "\n",
    "# Kết hợp hai DataFrame thành một DataFrame lớn\n",
    "data = pd.concat([real_data, fake_data], ignore_index=True)\n",
    "data = data.fillna('')"
   ]
  },
  {
   "cell_type": "markdown",
   "metadata": {},
   "source": [
    "Gộp các trường title, content, creator lại thành 1 trường text (1 cột trong dataframe)"
   ]
  },
  {
   "cell_type": "code",
   "execution_count": 64,
   "metadata": {
    "ExecuteTime": {
     "end_time": "2023-12-27T03:04:06.792169200Z",
     "start_time": "2023-12-27T03:04:06.766657900Z"
    }
   },
   "outputs": [],
   "source": [
    "data['text'] = data['title']+ ' ' + data['content'] + ' ' + data['creator']"
   ]
  },
  {
   "cell_type": "markdown",
   "metadata": {},
   "source": [
    "Mở tệp dữ liệu temp_data_noClean.csv và kiểm tra"
   ]
  },
  {
   "cell_type": "code",
   "execution_count": 65,
   "metadata": {
    "ExecuteTime": {
     "end_time": "2023-12-27T03:04:06.843958900Z",
     "start_time": "2023-12-27T03:04:06.776112500Z"
    }
   },
   "outputs": [
    {
     "name": "stdout",
     "output_type": "stream",
     "text": [
      "0       Ông Tucker Carlson đưa ra lời cảnh báo tới ông...\n",
      "1       Đức điều động binh sĩ tới Lithuania trong đợt ...\n",
      "2       Thừa nhận mới nhất của ĐCSTQ về tình hình dịch...\n",
      "3       Nghe tiếng khóc của đứa trẻ sơ sinh, biết trướ...\n",
      "4       Con trai Trương Tấn Sang bị đẩy ra khỏi TP.HCM...\n",
      "                              ...                        \n",
      "1787     Ở Việt Nam bị cấm tuyệt đối không được kết hô...\n",
      "1788     Người Dân trên toàn trái đất đi sơ tán vì sắp...\n",
      "1789     Tất cả những tin tức trên Facebookn đều là gi...\n",
      "1790     Đưa tin thất thiệt mang nhiều hệ quả rất xấu ...\n",
      "1791              Đa cấp là ngành thiết yếu của Việt Nam \n",
      "Name: text, Length: 1792, dtype: object\n"
     ]
    }
   ],
   "source": [
    "data_check = pd.read_csv('data/temp_data_noClean.csv', encoding='utf-8')\n",
    "print(data['text'])"
   ]
  },
  {
   "cell_type": "markdown",
   "metadata": {},
   "source": [
    "Tối ưu dữ liệu nhập vào tránh phải chuẩn hóa các bài báo cũ:\n",
    "- Bước 1: Ghép (merge) hai DataFrame data và data_check dựa trên cột 'text' với kiểu ghép là 'outer' (ghép toàn bộ).\n",
    "- Bước 2: Lọc những hàng chỉ xuất hiện trong data mà không xuất hiện trong data_check.\n",
    "- Bước 3: Kiểm tra missing_rows_data_in_datacheck có giá trị được truyền vào hay không:\n",
    "    + Nếu không phát hiện không có giá trị nào được truyền vào thì trả về 1 dataframe rỗng chứa duy nhất các trường mặc định của data\n",
    "    + Nếu có giá trị được truyền vào missing_rows_data_in_datacheck thức hiện các mục:\n",
    "In ra result_value để kiểm tra"
   ]
  },
  {
   "cell_type": "code",
   "execution_count": 66,
   "metadata": {
    "ExecuteTime": {
     "end_time": "2023-12-27T03:04:06.861985200Z",
     "start_time": "2023-12-27T03:04:06.842959200Z"
    }
   },
   "outputs": [
    {
     "name": "stdout",
     "output_type": "stream",
     "text": [
      "                                                   text  label\n",
      "984   Truy tìm đối tượng bỏ trốn sau khi gây ra tai ...      0\n",
      "985   Chùa Ba Vàng gỡ thông tin, hình ảnh liên quan ...      0\n",
      "986   Ảnh cưới full HD của Quang Hải - Chu Thanh Huy...      0\n",
      "987   Dự tiệc cuối năm, nhiều lái xe ở TP.HCM vi phạ...      0\n",
      "988   Thu Phương, Anh Tú hăng say tổng duyệt Chung k...      0\n",
      "...                                                 ...    ...\n",
      "1046  Hiện trạng khu đất 'vàng' 20.000 m2 ở Nha Tran...      0\n",
      "1047  Bị chữa răng suốt 6 giờ, bệnh nhân kiện nha sĩ...      0\n",
      "1048  Bi kịch gia đình sau câu thách thức của người ...      0\n",
      "1049  Lập 280 công ty để bán hóa đơn VAT hơn 25.000 ...      0\n",
      "1050  Chủ nhà hàng ở Sài Gòn tuyển 200 nhân viên phụ...      0\n",
      "\n",
      "[67 rows x 2 columns]\n"
     ]
    }
   ],
   "source": [
    "\n",
    "merged_data_datacheck = pd.merge(data, data_check, on='text', how='outer', indicator=True) # \n",
    "\n",
    "# Lọc các hàng chỉ xuất hiện trong data\n",
    "missing_rows_data_in_datacheck = merged_data_datacheck[merged_data_datacheck['_merge'] == 'left_only']\n",
    "\n",
    "# Kiểm tra xem missing_rows_data_in_datacheck có tồn tại hay không\n",
    "if missing_rows_data_in_datacheck.empty:\n",
    "    result_value = pd.read_csv('data/temp.csv')\n",
    "else:\n",
    "    # Nếu có, thực hiện các bước tiếp theo\n",
    "    data_check = data.copy()                                        #-> copy toàn bộ dữ liệu từ dataframe của data để update data_check (thêm những bài báo mới)\n",
    "    data_check.to_csv('data/temp_data_noClean.csv', index=False)    #-> đẩy data_check thành 1 file csv để thay thế file cũ (chứa những bài báo cũ lần đã cập nhật)\n",
    "    temp = missing_rows_data_in_datacheck.copy()                    #-> copy những bài báo data có mà data_check không có vào biến temp\n",
    "    temp.rename(columns={'label_x': 'label'}, inplace=True)         #-> thay đổi tên trường trong dataframe temp cho phù hợp với dữ liệu đúng\n",
    "    selected_columns = ['text', 'label']                            #-> tạo một biến mang 2 trường là text và label\n",
    "    temp_selected = temp[selected_columns]                          #-> tạo 1 dataframe temp_selected chỉ mang 2 trường là text và label của temp\n",
    "    result_value = temp_selected                                    #-> trả về giá trị cuối là result_value\n",
    "\n",
    "# In kết quả hoặc sử dụng result_value theo nhu cầu\n",
    "print(result_value)\n"
   ]
  },
  {
   "cell_type": "markdown",
   "metadata": {},
   "source": [
    "Chuẩn hóa, Phân tích từ"
   ]
  },
  {
   "cell_type": "code",
   "execution_count": 67,
   "metadata": {
    "ExecuteTime": {
     "end_time": "2023-12-27T03:04:06.880267Z",
     "start_time": "2023-12-27T03:04:06.863990200Z"
    }
   },
   "outputs": [
    {
     "data": {
      "application/vnd.jupyter.widget-view+json": {
       "model_id": "159b2507eff9434b8992135a603bcf2d",
       "version_major": 2,
       "version_minor": 0
      },
      "text/plain": [
       "Pandas Apply:   0%|          | 0/67 [00:00<?, ?it/s]"
      ]
     },
     "metadata": {},
     "output_type": "display_data"
    }
   ],
   "source": [
    "def word(text):\n",
    "    text = text.lower()\n",
    "    text = re.sub(r'[^\\w\\s]', '', text)\n",
    "    chunks = chunk(text)\n",
    "    filtered_chunks = [chunk[0] for chunk in chunks if chunk[2] != 'O']\n",
    "    result_sentence = ' '.join(filtered_chunks)\n",
    "    return result_sentence\n",
    "\n",
    "result_value.loc[:, 'text'] = result_value['text'].swifter.apply(word).copy()"
   ]
  },
  {
   "cell_type": "code",
   "execution_count": 68,
   "metadata": {
    "ExecuteTime": {
     "end_time": "2023-12-27T03:04:06.937583400Z",
     "start_time": "2023-12-27T03:04:06.870275400Z"
    }
   },
   "outputs": [],
   "source": [
    "data_have_clean = pd.read_csv('data/temp_data_noClean.csv', encoding='utf-8')"
   ]
  },
  {
   "cell_type": "code",
   "execution_count": 69,
   "metadata": {
    "ExecuteTime": {
     "end_time": "2023-12-27T03:04:06.950634700Z",
     "start_time": "2023-12-27T03:04:06.935512700Z"
    }
   },
   "outputs": [
    {
     "name": "stdout",
     "output_type": "stream",
     "text": [
      "0       Ông Tucker Carlson đưa ra lời cảnh báo tới ông...\n",
      "1       Đức điều động binh sĩ tới Lithuania trong đợt ...\n",
      "2       Thừa nhận mới nhất của ĐCSTQ về tình hình dịch...\n",
      "3       Nghe tiếng khóc của đứa trẻ sơ sinh, biết trướ...\n",
      "4       Con trai Trương Tấn Sang bị đẩy ra khỏi TP.HCM...\n",
      "                              ...                        \n",
      "1854    hiện trạng khu đất vàng 20000 m2 ở nha trang đ...\n",
      "1855    bị chữa răng suốt 6 giờ bệnh nhân kiện nha sĩ ...\n",
      "1856    bi kịch gia đình sau câu thách thức của người ...\n",
      "1857    lập 280 công ty để bán hóa đơn vat hơn 25000 t...\n",
      "1858    chủ nhà hàng ở sài gòn tuyển 200 nhân viên phụ...\n",
      "Name: text, Length: 1859, dtype: object\n"
     ]
    }
   ],
   "source": [
    "data = pd.concat([data_have_clean, result_value[['text', 'label']]], ignore_index=True)\n",
    "data = data.fillna('')\n",
    "print(data['text'])"
   ]
  },
  {
   "cell_type": "code",
   "execution_count": 70,
   "metadata": {
    "ExecuteTime": {
     "end_time": "2023-12-27T03:04:06.972985900Z",
     "start_time": "2023-12-27T03:04:06.942637100Z"
    }
   },
   "outputs": [
    {
     "data": {
      "text/plain": [
       "article_id     0\n",
       "title          0\n",
       "link           0\n",
       "creator        0\n",
       "description    0\n",
       "content        0\n",
       "source_id      0\n",
       "category       0\n",
       "label          0\n",
       "text           0\n",
       "dtype: int64"
      ]
     },
     "execution_count": 70,
     "metadata": {},
     "output_type": "execute_result"
    }
   ],
   "source": [
    "data.isnull().sum()"
   ]
  },
  {
   "cell_type": "code",
   "execution_count": 71,
   "metadata": {
    "ExecuteTime": {
     "end_time": "2023-12-27T03:04:06.974980700Z",
     "start_time": "2023-12-27T03:04:06.955206400Z"
    }
   },
   "outputs": [],
   "source": [
    "X_train, X_test, y_train, y_test = train_test_split(\n",
    "    data['text'],\n",
    "    data['label'],\n",
    "    test_size=0.2,\n",
    "    random_state=42\n",
    "    )"
   ]
  },
  {
   "cell_type": "code",
   "execution_count": 72,
   "metadata": {
    "ExecuteTime": {
     "end_time": "2023-12-27T03:04:07.185075Z",
     "start_time": "2023-12-27T03:04:06.960925400Z"
    }
   },
   "outputs": [],
   "source": [
    "vectorized = TfidfVectorizer()\n",
    "param_grid = {'kernel': ['linear', 'rbf'], 'C': [0.1, 1, 10], 'gamma': ['scale', 'auto']}\n",
    "X_train_tfidf = vectorized.fit_transform(X_train)\n",
    "X_test_tfidf = vectorized.transform(X_test)"
   ]
  },
  {
   "cell_type": "code",
   "execution_count": 73,
   "metadata": {
    "ExecuteTime": {
     "end_time": "2023-12-27T03:04:19.364363100Z",
     "start_time": "2023-12-27T03:04:07.190784200Z"
    }
   },
   "outputs": [
    {
     "data": {
      "text/html": [
       "<style>#sk-container-id-3 {color: black;background-color: white;}#sk-container-id-3 pre{padding: 0;}#sk-container-id-3 div.sk-toggleable {background-color: white;}#sk-container-id-3 label.sk-toggleable__label {cursor: pointer;display: block;width: 100%;margin-bottom: 0;padding: 0.3em;box-sizing: border-box;text-align: center;}#sk-container-id-3 label.sk-toggleable__label-arrow:before {content: \"▸\";float: left;margin-right: 0.25em;color: #696969;}#sk-container-id-3 label.sk-toggleable__label-arrow:hover:before {color: black;}#sk-container-id-3 div.sk-estimator:hover label.sk-toggleable__label-arrow:before {color: black;}#sk-container-id-3 div.sk-toggleable__content {max-height: 0;max-width: 0;overflow: hidden;text-align: left;background-color: #f0f8ff;}#sk-container-id-3 div.sk-toggleable__content pre {margin: 0.2em;color: black;border-radius: 0.25em;background-color: #f0f8ff;}#sk-container-id-3 input.sk-toggleable__control:checked~div.sk-toggleable__content {max-height: 200px;max-width: 100%;overflow: auto;}#sk-container-id-3 input.sk-toggleable__control:checked~label.sk-toggleable__label-arrow:before {content: \"▾\";}#sk-container-id-3 div.sk-estimator input.sk-toggleable__control:checked~label.sk-toggleable__label {background-color: #d4ebff;}#sk-container-id-3 div.sk-label input.sk-toggleable__control:checked~label.sk-toggleable__label {background-color: #d4ebff;}#sk-container-id-3 input.sk-hidden--visually {border: 0;clip: rect(1px 1px 1px 1px);clip: rect(1px, 1px, 1px, 1px);height: 1px;margin: -1px;overflow: hidden;padding: 0;position: absolute;width: 1px;}#sk-container-id-3 div.sk-estimator {font-family: monospace;background-color: #f0f8ff;border: 1px dotted black;border-radius: 0.25em;box-sizing: border-box;margin-bottom: 0.5em;}#sk-container-id-3 div.sk-estimator:hover {background-color: #d4ebff;}#sk-container-id-3 div.sk-parallel-item::after {content: \"\";width: 100%;border-bottom: 1px solid gray;flex-grow: 1;}#sk-container-id-3 div.sk-label:hover label.sk-toggleable__label {background-color: #d4ebff;}#sk-container-id-3 div.sk-serial::before {content: \"\";position: absolute;border-left: 1px solid gray;box-sizing: border-box;top: 0;bottom: 0;left: 50%;z-index: 0;}#sk-container-id-3 div.sk-serial {display: flex;flex-direction: column;align-items: center;background-color: white;padding-right: 0.2em;padding-left: 0.2em;position: relative;}#sk-container-id-3 div.sk-item {position: relative;z-index: 1;}#sk-container-id-3 div.sk-parallel {display: flex;align-items: stretch;justify-content: center;background-color: white;position: relative;}#sk-container-id-3 div.sk-item::before, #sk-container-id-3 div.sk-parallel-item::before {content: \"\";position: absolute;border-left: 1px solid gray;box-sizing: border-box;top: 0;bottom: 0;left: 50%;z-index: -1;}#sk-container-id-3 div.sk-parallel-item {display: flex;flex-direction: column;z-index: 1;position: relative;background-color: white;}#sk-container-id-3 div.sk-parallel-item:first-child::after {align-self: flex-end;width: 50%;}#sk-container-id-3 div.sk-parallel-item:last-child::after {align-self: flex-start;width: 50%;}#sk-container-id-3 div.sk-parallel-item:only-child::after {width: 0;}#sk-container-id-3 div.sk-dashed-wrapped {border: 1px dashed gray;margin: 0 0.4em 0.5em 0.4em;box-sizing: border-box;padding-bottom: 0.4em;background-color: white;}#sk-container-id-3 div.sk-label label {font-family: monospace;font-weight: bold;display: inline-block;line-height: 1.2em;}#sk-container-id-3 div.sk-label-container {text-align: center;}#sk-container-id-3 div.sk-container {/* jupyter's `normalize.less` sets `[hidden] { display: none; }` but bootstrap.min.css set `[hidden] { display: none !important; }` so we also need the `!important` here to be able to override the default hidden behavior on the sphinx rendered scikit-learn.org. See: https://github.com/scikit-learn/scikit-learn/issues/21755 */display: inline-block !important;position: relative;}#sk-container-id-3 div.sk-text-repr-fallback {display: none;}</style><div id=\"sk-container-id-3\" class=\"sk-top-container\"><div class=\"sk-text-repr-fallback\"><pre>GridSearchCV(cv=5, estimator=SVC(), n_jobs=-1,\n",
       "             param_grid={&#x27;C&#x27;: [0.1, 1, 10], &#x27;gamma&#x27;: [&#x27;scale&#x27;, &#x27;auto&#x27;],\n",
       "                         &#x27;kernel&#x27;: [&#x27;linear&#x27;, &#x27;rbf&#x27;]})</pre><b>In a Jupyter environment, please rerun this cell to show the HTML representation or trust the notebook. <br />On GitHub, the HTML representation is unable to render, please try loading this page with nbviewer.org.</b></div><div class=\"sk-container\" hidden><div class=\"sk-item sk-dashed-wrapped\"><div class=\"sk-label-container\"><div class=\"sk-label sk-toggleable\"><input class=\"sk-toggleable__control sk-hidden--visually\" id=\"sk-estimator-id-7\" type=\"checkbox\" ><label for=\"sk-estimator-id-7\" class=\"sk-toggleable__label sk-toggleable__label-arrow\">GridSearchCV</label><div class=\"sk-toggleable__content\"><pre>GridSearchCV(cv=5, estimator=SVC(), n_jobs=-1,\n",
       "             param_grid={&#x27;C&#x27;: [0.1, 1, 10], &#x27;gamma&#x27;: [&#x27;scale&#x27;, &#x27;auto&#x27;],\n",
       "                         &#x27;kernel&#x27;: [&#x27;linear&#x27;, &#x27;rbf&#x27;]})</pre></div></div></div><div class=\"sk-parallel\"><div class=\"sk-parallel-item\"><div class=\"sk-item\"><div class=\"sk-label-container\"><div class=\"sk-label sk-toggleable\"><input class=\"sk-toggleable__control sk-hidden--visually\" id=\"sk-estimator-id-8\" type=\"checkbox\" ><label for=\"sk-estimator-id-8\" class=\"sk-toggleable__label sk-toggleable__label-arrow\">estimator: SVC</label><div class=\"sk-toggleable__content\"><pre>SVC()</pre></div></div></div><div class=\"sk-serial\"><div class=\"sk-item\"><div class=\"sk-estimator sk-toggleable\"><input class=\"sk-toggleable__control sk-hidden--visually\" id=\"sk-estimator-id-9\" type=\"checkbox\" ><label for=\"sk-estimator-id-9\" class=\"sk-toggleable__label sk-toggleable__label-arrow\">SVC</label><div class=\"sk-toggleable__content\"><pre>SVC()</pre></div></div></div></div></div></div></div></div></div></div>"
      ],
      "text/plain": [
       "GridSearchCV(cv=5, estimator=SVC(), n_jobs=-1,\n",
       "             param_grid={'C': [0.1, 1, 10], 'gamma': ['scale', 'auto'],\n",
       "                         'kernel': ['linear', 'rbf']})"
      ]
     },
     "execution_count": 73,
     "metadata": {},
     "output_type": "execute_result"
    }
   ],
   "source": [
    "svm_model = SVC()\n",
    "grid_search = GridSearchCV(svm_model, param_grid, cv=5, n_jobs=-1)\n",
    "grid_search.fit(X_train_tfidf, y_train)"
   ]
  },
  {
   "cell_type": "code",
   "execution_count": 74,
   "metadata": {
    "ExecuteTime": {
     "end_time": "2023-12-27T03:04:19.365362700Z",
     "start_time": "2023-12-27T03:04:19.362855400Z"
    }
   },
   "outputs": [
    {
     "name": "stdout",
     "output_type": "stream",
     "text": [
      "Best hyperparameters: {'C': 1, 'gamma': 'scale', 'kernel': 'linear'}\n"
     ]
    }
   ],
   "source": [
    "print('Best hyperparameters:', grid_search.best_params_)\n"
   ]
  },
  {
   "cell_type": "code",
   "execution_count": 75,
   "metadata": {
    "ExecuteTime": {
     "end_time": "2023-12-27T03:04:19.586070600Z",
     "start_time": "2023-12-27T03:04:19.365362700Z"
    }
   },
   "outputs": [],
   "source": [
    "best_model = grid_search.best_estimator_\n",
    "y_pred = best_model.predict(X_test_tfidf)\n"
   ]
  },
  {
   "cell_type": "code",
   "execution_count": 76,
   "metadata": {
    "ExecuteTime": {
     "end_time": "2023-12-27T03:04:19.598130400Z",
     "start_time": "2023-12-27T03:04:19.587071Z"
    }
   },
   "outputs": [
    {
     "data": {
      "text/plain": [
       "array([0, 0, 1, 1, 0, 1, 1, 1, 1, 1, 0, 1, 0, 1, 0, 1, 0, 0, 0, 0, 0, 0,\n",
       "       0, 0, 1, 1, 0, 0, 1, 1, 1, 0, 0, 1, 1, 0, 1, 0, 1, 0, 0, 0, 0, 0,\n",
       "       0, 0, 1, 1, 0, 0, 1, 0, 1, 0, 1, 0, 1, 1, 0, 0, 1, 0, 0, 0, 0, 0,\n",
       "       0, 0, 0, 1, 0, 0, 0, 0, 0, 0, 0, 0, 0, 0, 1, 0, 1, 1, 0, 1, 0, 0,\n",
       "       1, 0, 0, 0, 0, 0, 0, 0, 1, 1, 0, 0, 0, 1, 1, 1, 0, 1, 0, 1, 0, 1,\n",
       "       1, 0, 0, 1, 0, 1, 0, 1, 1, 1, 1, 1, 1, 0, 0, 0, 0, 0, 1, 0, 0, 0,\n",
       "       1, 1, 1, 0, 0, 1, 0, 1, 0, 0, 0, 0, 0, 1, 1, 1, 0, 0, 1, 1, 0, 0,\n",
       "       1, 1, 1, 0, 0, 1, 0, 0, 0, 0, 0, 0, 1, 1, 0, 0, 0, 0, 0, 1, 0, 0,\n",
       "       1, 0, 0, 0, 1, 0, 1, 0, 0, 0, 0, 0, 0, 0, 0, 0, 0, 0, 1, 1, 0, 0,\n",
       "       0, 0, 0, 1, 1, 1, 0, 0, 0, 0, 1, 0, 0, 1, 0, 0, 0, 0, 1, 0, 1, 0,\n",
       "       1, 0, 0, 0, 1, 0, 1, 0, 1, 0, 1, 1, 0, 1, 1, 0, 0, 0, 1, 0, 1, 0,\n",
       "       0, 1, 0, 0, 0, 1, 0, 1, 0, 1, 0, 0, 1, 1, 1, 1, 0, 1, 0, 0, 0, 0,\n",
       "       1, 0, 0, 0, 0, 0, 1, 1, 0, 0, 0, 1, 0, 0, 1, 1, 1, 0, 1, 0, 1, 0,\n",
       "       0, 1, 0, 0, 0, 0, 1, 1, 1, 0, 0, 1, 0, 1, 0, 1, 0, 1, 0, 1, 0, 0,\n",
       "       1, 0, 0, 1, 0, 1, 1, 1, 1, 0, 0, 1, 0, 1, 0, 0, 0, 0, 1, 0, 1, 0,\n",
       "       0, 0, 0, 0, 0, 0, 0, 0, 1, 0, 0, 1, 0, 0, 0, 1, 1, 0, 1, 1, 0, 0,\n",
       "       1, 1, 0, 0, 1, 0, 0, 1, 1, 1, 1, 1, 0, 1, 0, 0, 0, 0, 0, 0],\n",
       "      dtype=int64)"
      ]
     },
     "execution_count": 76,
     "metadata": {},
     "output_type": "execute_result"
    }
   ],
   "source": [
    "y_pred"
   ]
  },
  {
   "cell_type": "code",
   "execution_count": 77,
   "metadata": {
    "ExecuteTime": {
     "end_time": "2023-12-27T03:04:19.600130500Z",
     "start_time": "2023-12-27T03:04:19.590767500Z"
    }
   },
   "outputs": [],
   "source": [
    "import pickle\n",
    "with open('temp/vectorized.pkl', 'wb') as f:\n",
    "    pickle.dump(vectorized, f)  \n",
    "with open('temp/svm_model.pkl', 'wb') as f:\n",
    "    pickle.dump(best_model, f)\n",
    "with open('temp/word_clean.pkl', 'wb') as f:\n",
    "    pickle.dump(word, f)"
   ]
  },
  {
   "cell_type": "code",
   "execution_count": 79,
   "metadata": {
    "ExecuteTime": {
     "end_time": "2023-12-27T03:04:19.654385900Z",
     "start_time": "2023-12-27T03:04:19.609017100Z"
    }
   },
   "outputs": [
    {
     "name": "stdout",
     "output_type": "stream",
     "text": [
      "372 372\n"
     ]
    }
   ],
   "source": [
    "print(len(y_test), len(y_pred))"
   ]
  },
  {
   "cell_type": "code",
   "execution_count": 80,
   "metadata": {},
   "outputs": [
    {
     "name": "stdout",
     "output_type": "stream",
     "text": [
      "Số hàng trong X_train: 1487\n",
      "Số phần tử trong y_train: 1487\n",
      "Số hàng trong X_test: 372\n",
      "Số phần tử trong y_test: 372\n"
     ]
    }
   ],
   "source": [
    "print(f\"Số hàng trong X_train: {len(X_train)}\")\n",
    "print(f\"Số phần tử trong y_train: {len(y_train)}\")\n",
    "print(f\"Số hàng trong X_test: {len(X_test)}\")\n",
    "print(f\"Số phần tử trong y_test: {len(y_test)}\")"
   ]
  },
  {
   "cell_type": "code",
   "execution_count": 81,
   "metadata": {},
   "outputs": [
    {
     "name": "stdout",
     "output_type": "stream",
     "text": [
      "Độ Chính Xác: 0.9489247311827957\n",
      "ROC-AUC Score: 0.945384310013131\n",
      "-------------------------------------------------------------------------------------\n",
      "Classification Report:\n",
      "              precision    recall  f1-score   support\n",
      "\n",
      "           0       0.96      0.96      0.96       229\n",
      "           1       0.94      0.93      0.93       143\n",
      "\n",
      "    accuracy                           0.95       372\n",
      "   macro avg       0.95      0.95      0.95       372\n",
      "weighted avg       0.95      0.95      0.95       372\n",
      "\n",
      "-------------------------------------------------------------------------------------\n",
      "Confusion Matrix:\n",
      "[[220   9]\n",
      " [ 10 133]]\n"
     ]
    }
   ],
   "source": [
    "from sklearn.metrics import classification_report\n",
    "from sklearn.metrics import confusion_matrix\n",
    "from sklearn.metrics import roc_auc_score\n",
    "\n",
    "accuracy = accuracy_score(y_test, y_pred)\n",
    "print(f'Độ Chính Xác: {accuracy}')\n",
    "roc_auc = roc_auc_score(y_test, y_pred)\n",
    "print(f\"ROC-AUC Score: {roc_auc}\")\n",
    "\n",
    "print(\"-------------------------------------------------------------------------------------\")\n",
    "# Dự đoán trên tập kiểm tra\n",
    "y_pred = best_model.predict(X_test_tfidf)\n",
    "\n",
    "# Tính báo cáo đánh giá\n",
    "report = classification_report(y_test, y_pred)\n",
    "\n",
    "# In báo cáo đánh giá\n",
    "print(\"Classification Report:\")\n",
    "print(report)\n",
    "\n",
    "print(\"-------------------------------------------------------------------------------------\")\n",
    "\n",
    "# Dự đoán trên tập kiểm tra\n",
    "y_pred = best_model.predict(X_test_tfidf)\n",
    "\n",
    "# Tính ma trận nhầm lẫn\n",
    "conf_matrix = confusion_matrix(y_test, y_pred)\n",
    "\n",
    "# In ma trận nhầm lẫn\n",
    "print(\"Confusion Matrix:\")\n",
    "print(conf_matrix)\n"
   ]
  },
  {
   "cell_type": "code",
   "execution_count": null,
   "metadata": {},
   "outputs": [],
   "source": []
  }
 ],
 "metadata": {
  "kernelspec": {
   "display_name": "Python 3",
   "language": "python",
   "name": "python3"
  },
  "language_info": {
   "codemirror_mode": {
    "name": "ipython",
    "version": 3
   },
   "file_extension": ".py",
   "mimetype": "text/x-python",
   "name": "python",
   "nbconvert_exporter": "python",
   "pygments_lexer": "ipython3",
   "version": "3.11.0"
  }
 },
 "nbformat": 4,
 "nbformat_minor": 2
}
