{
 "cells": [
  {
   "cell_type": "code",
   "execution_count": 1,
   "metadata": {
    "ExecuteTime": {
     "end_time": "2023-12-27T03:04:06.706477100Z",
     "start_time": "2023-12-27T03:04:05.120904Z"
    }
   },
   "outputs": [],
   "source": [
    "import numpy as np\n",
    "import pandas as pd\n",
    "import re #biểu thức chính quy\n",
    "import nltk\n",
    "from sklearn.feature_extraction.text import TfidfVectorizer\n",
    "from sklearn.model_selection import train_test_split\n",
    "from sklearn.metrics import accuracy_score\n",
    "\n",
    "from underthesea import chunk\n",
    "from underthesea import text_normalize\n",
    "import swifter\n",
    "\n",
    "from sklearn.svm import SVC\n",
    "from sklearn.model_selection import GridSearchCV"
   ]
  },
  {
   "cell_type": "markdown",
   "metadata": {},
   "source": [
    "Đọc dữ liệu"
   ]
  },
  {
   "cell_type": "code",
   "execution_count": 2,
   "metadata": {
    "ExecuteTime": {
     "end_time": "2023-12-27T03:04:06.751550200Z",
     "start_time": "2023-12-27T03:04:06.704471800Z"
    }
   },
   "outputs": [],
   "source": [
    "real_data = pd.read_csv('data/RealNewsfrom_NewsData_io_UPDATED.csv', encoding='utf-8')\n",
    "fake_data = pd.read_csv('data/FakeNews.csv', encoding='utf-8')"
   ]
  },
  {
   "cell_type": "markdown",
   "metadata": {},
   "source": [
    "Xác định và chuẩn bị dữ liệu"
   ]
  },
  {
   "cell_type": "code",
   "execution_count": 3,
   "metadata": {
    "ExecuteTime": {
     "end_time": "2023-12-27T03:04:06.752553100Z",
     "start_time": "2023-12-27T03:04:06.745641100Z"
    }
   },
   "outputs": [],
   "source": [
    "real_data['label'] = 0 #real\n",
    "fake_data['label'] = 1 #fake\n",
    "\n",
    "# Kết hợp hai DataFrame thành một DataFrame lớn\n",
    "data = pd.concat([real_data, fake_data], ignore_index=True)\n",
    "data = data.fillna('')"
   ]
  },
  {
   "cell_type": "markdown",
   "metadata": {},
   "source": [
    "Gộp các trường title, content, creator lại thành 1 trường text (1 cột trong dataframe)"
   ]
  },
  {
   "cell_type": "code",
   "execution_count": 4,
   "metadata": {
    "ExecuteTime": {
     "end_time": "2023-12-27T03:04:06.792169200Z",
     "start_time": "2023-12-27T03:04:06.766657900Z"
    }
   },
   "outputs": [],
   "source": [
    "data['text'] = data['title']+ ' ' + data['content'] + ' ' + data['creator']"
   ]
  },
  {
   "cell_type": "markdown",
   "metadata": {},
   "source": [
    "Mở tệp dữ liệu temp_data_noClean.csv và kiểm tra"
   ]
  },
  {
   "cell_type": "code",
   "execution_count": 5,
   "metadata": {
    "ExecuteTime": {
     "end_time": "2023-12-27T03:04:06.843958900Z",
     "start_time": "2023-12-27T03:04:06.776112500Z"
    }
   },
   "outputs": [
    {
     "name": "stdout",
     "output_type": "stream",
     "text": [
      "0       Ông Tucker Carlson đưa ra lời cảnh báo tới ông...\n",
      "1       Đức điều động binh sĩ tới Lithuania trong đợt ...\n",
      "2       Thừa nhận mới nhất của ĐCSTQ về tình hình dịch...\n",
      "3       Nghe tiếng khóc của đứa trẻ sơ sinh, biết trướ...\n",
      "4       Con trai Trương Tấn Sang bị đẩy ra khỏi TP.HCM...\n",
      "                              ...                        \n",
      "1618     Ở Việt Nam bị cấm tuyệt đối không được kết hô...\n",
      "1619     Người Dân trên toàn trái đất đi sơ tán vì sắp...\n",
      "1620     Tất cả những tin tức trên Facebookn đều là gi...\n",
      "1621     Đưa tin thất thiệt mang nhiều hệ quả rất xấu ...\n",
      "1622              Đa cấp là ngành thiết yếu của Việt Nam \n",
      "Name: text, Length: 1623, dtype: object\n"
     ]
    }
   ],
   "source": [
    "data_check = pd.read_csv('data/temp_data_noClean.csv', encoding='utf-8')\n",
    "print(data['text'])"
   ]
  },
  {
   "cell_type": "markdown",
   "metadata": {},
   "source": [
    "Tối ưu dữ liệu nhập vào tránh phải chuẩn hóa các bài báo cũ:\n",
    "- Bước 1: Ghép (merge) hai DataFrame data và data_check dựa trên cột 'text' với kiểu ghép là 'outer' (ghép toàn bộ).\n",
    "- Bước 2: Lọc những hàng chỉ xuất hiện trong data mà không xuất hiện trong data_check.\n",
    "- Bước 3: Kiểm tra missing_rows_data_in_datacheck có giá trị được truyền vào hay không:\n",
    "    + Nếu không phát hiện không có giá trị nào được truyền vào thì trả về 1 dataframe rỗng chứa duy nhất các trường mặc định của data\n",
    "    + Nếu có giá trị được truyền vào missing_rows_data_in_datacheck thức hiện các mục:\n",
    "In ra result_value để kiểm tra"
   ]
  },
  {
   "cell_type": "code",
   "execution_count": 6,
   "metadata": {
    "ExecuteTime": {
     "end_time": "2023-12-27T03:04:06.861985200Z",
     "start_time": "2023-12-27T03:04:06.842959200Z"
    }
   },
   "outputs": [
    {
     "name": "stdout",
     "output_type": "stream",
     "text": [
      "                                                  text  label\n",
      "843  Người dân, du khách về Bà Rịa - Vũng Tàu xem c...      0\n",
      "844  Thu ngân sách TP.HCM năm 2023 mới đạt 95,07% T...      0\n",
      "845  Ô tô tồn kho từ 2022 miệt mài xả hàng, vừa bán...      0\n",
      "846  Vì sao Lưu Bang phải đút lót, gả con gái cho T...      0\n",
      "847  Khởi tố, khám nhà cựu Bí thư Tỉnh ủy Thanh Hóa...      0\n",
      "848  Ukraine bắn rụng 27 UAV và gần 90 tên lửa tron...      0\n",
      "849  Loại quả \"trái cây của người bệnh tiểu đường\" ...      0\n",
      "850  Cần Thơ: Bắt nguyên Phó Chủ tịch UBND huyện Vĩ...      0\n",
      "851  Ngân hàng Nhà nước tiết lộ kế hoạch can thiệp,...      0\n",
      "852  Đông y chữa tiểu tiện khó Bàng quang sở dĩ thả...      0\n",
      "853  Vô địch tại Việt Nam, đội bóng Thái Lan hành đ...      0\n",
      "854  Honda HR-V 2023 ‘full option’ giảm giá sốc trê...      0\n",
      "855  'Nỗi ác mộng' của Messi chính thức giải nghệ T...      0\n",
      "856  CHÍNH THỨC: Real Madrid gia hạn hợp đồng với C...      0\n",
      "857  Ronaldo lại 'gây bão' với bình luận về Haaland...      0\n",
      "858  Tiết lộ bất ngờ về hành trình Nguyễn Filip trở...      0\n",
      "859  Tin chuyển nhượng tối 29/12: Xong vụ Real Madr...      0\n",
      "860  Cầu thủ từng bị kỷ luật nói gì trong ngày tái ...      0\n",
      "861  Nhận định, dự đoán Nottingham Forest vs MU, 0h...      0\n",
      "862  Triệu hồi hàng trăm xe Mercedes-Benz tại Việt ...      0\n",
      "863  Người dùng lo ngại ChatGPT sẽ 'học hỏi' các th...      0\n",
      "864  Doanh số trên đà tăng gần 50% bỗng đứng khựng,...      0\n",
      "865  HOT: BLACKPINK sẽ đến Việt Nam trong năm 2024?...      0\n",
      "866  Không ngại cưới chỉ cần một lý do tập 29: Bà G...      0\n",
      "867  Phim Hoa ngữ mới gây sốt vì cùng lúc 'se duyên...      0\n",
      "868  Diễn biến mới vụ hồ sơ xét duyệt NSND của NSƯT...      0\n",
      "869  Rò rỉ đội hình công diễn 4, chị đẹp này thắng ...      0\n",
      "870  NÓNG: Toàn bộ thành viên BLACKPINK không tái k...      0\n",
      "871  Từng có diễn viên Việt từ chối đóng The Glory ...      0\n",
      "872  Cô ta khiến cha con Tào Tháo đều mê muội! Hai ...      0\n",
      "873  Đội bóng Thái Lan nhọc nhằn nâng Cúp bóng đá f...      0\n",
      "874  Hé mở bí mật trong ngôi chùa lưu giữ 8 sợi tóc...      0\n",
      "875  Chuyện \"Lơ ngơ\" chăm da - đến hot KOL cũng quê...      0\n",
      "876  Lộ lý do khiến sao bóng rổ nổi tiếng phải nghỉ...      0\n",
      "877  Tranh bích họa \"Việt Nam tươi đẹp\" mang diện m...      0\n",
      "878  5 bộ phim Hàn Quốc có rating cao nhất 2023 nhấ...      0\n",
      "879  Loạt nam thần tượng K-pop hàng đầu trong danh ...      0\n",
      "880  Phát hiện chồng chụp ảnh cưới với người phụ nữ...      0\n",
      "881  Cựu sao Al Nassr từng ghi bàn tốt hơn cả Ronal...      0\n"
     ]
    }
   ],
   "source": [
    "\n",
    "merged_data_datacheck = pd.merge(data, data_check, on='text', how='outer', indicator=True) # \n",
    "\n",
    "# Lọc các hàng chỉ xuất hiện trong data\n",
    "missing_rows_data_in_datacheck = merged_data_datacheck[merged_data_datacheck['_merge'] == 'left_only']\n",
    "\n",
    "# Kiểm tra xem missing_rows_data_in_datacheck có tồn tại hay không\n",
    "if missing_rows_data_in_datacheck.empty:\n",
    "    result_value = pd.read_csv('data/temp.csv')\n",
    "else:\n",
    "    # Nếu có, thực hiện các bước tiếp theo\n",
    "    data_check = data.copy()                                        #-> copy toàn bộ dữ liệu từ dataframe của data để update data_check (thêm những bài báo mới)\n",
    "    data_check.to_csv('data/temp_data_noClean.csv', index=False)    #-> đẩy data_check thành 1 file csv để thay thế file cũ (chứa những bài báo cũ lần đã cập nhật)\n",
    "    temp = missing_rows_data_in_datacheck.copy()                    #-> copy những bài báo data có mà data_check không có vào biến temp\n",
    "    temp.rename(columns={'label_x': 'label'}, inplace=True)         #-> thay đổi tên trường trong dataframe temp cho phù hợp với dữ liệu đúng\n",
    "    selected_columns = ['text', 'label']                            #-> tạo một biến mang 2 trường là text và label\n",
    "    temp_selected = temp[selected_columns]                          #-> tạo 1 dataframe temp_selected chỉ mang 2 trường là text và label của temp\n",
    "    result_value = temp_selected                                    #-> trả về giá trị cuối là result_value\n",
    "\n",
    "# In kết quả hoặc sử dụng result_value theo nhu cầu\n",
    "print(result_value)\n"
   ]
  },
  {
   "cell_type": "markdown",
   "metadata": {},
   "source": [
    "Chuẩn hóa, Phân tích từ"
   ]
  },
  {
   "cell_type": "code",
   "execution_count": 7,
   "metadata": {
    "ExecuteTime": {
     "end_time": "2023-12-27T03:04:06.880267Z",
     "start_time": "2023-12-27T03:04:06.863990200Z"
    }
   },
   "outputs": [
    {
     "data": {
      "application/vnd.jupyter.widget-view+json": {
       "model_id": "f70c5e87b10949ae9b3db36a4310c572",
       "version_major": 2,
       "version_minor": 0
      },
      "text/plain": [
       "Pandas Apply:   0%|          | 0/39 [00:00<?, ?it/s]"
      ]
     },
     "metadata": {},
     "output_type": "display_data"
    }
   ],
   "source": [
    "def word(text):\n",
    "    text = text.lower()\n",
    "    text = re.sub(r'[^\\w\\s]', '', text)\n",
    "    chunks = chunk(text)\n",
    "    filtered_chunks = [chunk[0] for chunk in chunks if chunk[2] != 'O']\n",
    "    result_sentence = ' '.join(filtered_chunks)\n",
    "    return result_sentence\n",
    "\n",
    "result_value.loc[:, 'text'] = result_value['text'].swifter.apply(word).copy()"
   ]
  },
  {
   "cell_type": "code",
   "execution_count": 8,
   "metadata": {
    "ExecuteTime": {
     "end_time": "2023-12-27T03:04:06.937583400Z",
     "start_time": "2023-12-27T03:04:06.870275400Z"
    }
   },
   "outputs": [],
   "source": [
    "data_have_clean = pd.read_csv('data/temp_data_noClean.csv', encoding='utf-8')"
   ]
  },
  {
   "cell_type": "code",
   "execution_count": 9,
   "metadata": {
    "ExecuteTime": {
     "end_time": "2023-12-27T03:04:06.950634700Z",
     "start_time": "2023-12-27T03:04:06.935512700Z"
    }
   },
   "outputs": [
    {
     "name": "stdout",
     "output_type": "stream",
     "text": [
      "0       Ông Tucker Carlson đưa ra lời cảnh báo tới ông...\n",
      "1       Đức điều động binh sĩ tới Lithuania trong đợt ...\n",
      "2       Thừa nhận mới nhất của ĐCSTQ về tình hình dịch...\n",
      "3       Nghe tiếng khóc của đứa trẻ sơ sinh, biết trướ...\n",
      "4       Con trai Trương Tấn Sang bị đẩy ra khỏi TP.HCM...\n",
      "                              ...                        \n",
      "1657    tranh bích họa việt nam tươi đẹp mang diện mạo...\n",
      "1658    5 bộ phim hàn quốc có rating cao 2023 phải xem...\n",
      "1659    loạt nam thần tượng kpop hàng đầu trong danh s...\n",
      "1660    phát hiện chồng chụp ảnh cưới với người phụ nữ...\n",
      "1661    cựu sao al nassr ghi bàn tốt hơn ronaldo được ...\n",
      "Name: text, Length: 1662, dtype: object\n"
     ]
    }
   ],
   "source": [
    "data = pd.concat([data_have_clean, result_value[['text', 'label']]], ignore_index=True)\n",
    "data = data.fillna('')\n",
    "print(data['text'])"
   ]
  },
  {
   "cell_type": "code",
   "execution_count": 10,
   "metadata": {
    "ExecuteTime": {
     "end_time": "2023-12-27T03:04:06.972985900Z",
     "start_time": "2023-12-27T03:04:06.942637100Z"
    }
   },
   "outputs": [
    {
     "data": {
      "text/plain": [
       "article_id     0\n",
       "title          0\n",
       "link           0\n",
       "creator        0\n",
       "description    0\n",
       "content        0\n",
       "source_id      0\n",
       "category       0\n",
       "label          0\n",
       "text           0\n",
       "dtype: int64"
      ]
     },
     "execution_count": 10,
     "metadata": {},
     "output_type": "execute_result"
    }
   ],
   "source": [
    "data.isnull().sum()"
   ]
  },
  {
   "cell_type": "code",
   "execution_count": 11,
   "metadata": {
    "ExecuteTime": {
     "end_time": "2023-12-27T03:04:06.974980700Z",
     "start_time": "2023-12-27T03:04:06.955206400Z"
    }
   },
   "outputs": [],
   "source": [
    "X_train, X_test, y_train, y_test = train_test_split(\n",
    "    data['text'],\n",
    "    data['label'],\n",
    "    test_size=0.2,\n",
    "    random_state=42\n",
    "    )"
   ]
  },
  {
   "cell_type": "code",
   "execution_count": 12,
   "metadata": {
    "ExecuteTime": {
     "end_time": "2023-12-27T03:04:07.185075Z",
     "start_time": "2023-12-27T03:04:06.960925400Z"
    }
   },
   "outputs": [],
   "source": [
    "vectorized = TfidfVectorizer()\n",
    "param_grid = {'kernel': ['linear', 'rbf'], 'C': [0.1, 1, 10], 'gamma': ['scale', 'auto']}\n",
    "X_train_tfidf = vectorized.fit_transform(X_train)\n",
    "X_test_tfidf = vectorized.transform(X_test)"
   ]
  },
  {
   "cell_type": "code",
   "execution_count": 13,
   "metadata": {
    "ExecuteTime": {
     "end_time": "2023-12-27T03:04:19.364363100Z",
     "start_time": "2023-12-27T03:04:07.190784200Z"
    }
   },
   "outputs": [
    {
     "data": {
      "text/html": [
       "<style>#sk-container-id-1 {color: black;background-color: white;}#sk-container-id-1 pre{padding: 0;}#sk-container-id-1 div.sk-toggleable {background-color: white;}#sk-container-id-1 label.sk-toggleable__label {cursor: pointer;display: block;width: 100%;margin-bottom: 0;padding: 0.3em;box-sizing: border-box;text-align: center;}#sk-container-id-1 label.sk-toggleable__label-arrow:before {content: \"▸\";float: left;margin-right: 0.25em;color: #696969;}#sk-container-id-1 label.sk-toggleable__label-arrow:hover:before {color: black;}#sk-container-id-1 div.sk-estimator:hover label.sk-toggleable__label-arrow:before {color: black;}#sk-container-id-1 div.sk-toggleable__content {max-height: 0;max-width: 0;overflow: hidden;text-align: left;background-color: #f0f8ff;}#sk-container-id-1 div.sk-toggleable__content pre {margin: 0.2em;color: black;border-radius: 0.25em;background-color: #f0f8ff;}#sk-container-id-1 input.sk-toggleable__control:checked~div.sk-toggleable__content {max-height: 200px;max-width: 100%;overflow: auto;}#sk-container-id-1 input.sk-toggleable__control:checked~label.sk-toggleable__label-arrow:before {content: \"▾\";}#sk-container-id-1 div.sk-estimator input.sk-toggleable__control:checked~label.sk-toggleable__label {background-color: #d4ebff;}#sk-container-id-1 div.sk-label input.sk-toggleable__control:checked~label.sk-toggleable__label {background-color: #d4ebff;}#sk-container-id-1 input.sk-hidden--visually {border: 0;clip: rect(1px 1px 1px 1px);clip: rect(1px, 1px, 1px, 1px);height: 1px;margin: -1px;overflow: hidden;padding: 0;position: absolute;width: 1px;}#sk-container-id-1 div.sk-estimator {font-family: monospace;background-color: #f0f8ff;border: 1px dotted black;border-radius: 0.25em;box-sizing: border-box;margin-bottom: 0.5em;}#sk-container-id-1 div.sk-estimator:hover {background-color: #d4ebff;}#sk-container-id-1 div.sk-parallel-item::after {content: \"\";width: 100%;border-bottom: 1px solid gray;flex-grow: 1;}#sk-container-id-1 div.sk-label:hover label.sk-toggleable__label {background-color: #d4ebff;}#sk-container-id-1 div.sk-serial::before {content: \"\";position: absolute;border-left: 1px solid gray;box-sizing: border-box;top: 0;bottom: 0;left: 50%;z-index: 0;}#sk-container-id-1 div.sk-serial {display: flex;flex-direction: column;align-items: center;background-color: white;padding-right: 0.2em;padding-left: 0.2em;position: relative;}#sk-container-id-1 div.sk-item {position: relative;z-index: 1;}#sk-container-id-1 div.sk-parallel {display: flex;align-items: stretch;justify-content: center;background-color: white;position: relative;}#sk-container-id-1 div.sk-item::before, #sk-container-id-1 div.sk-parallel-item::before {content: \"\";position: absolute;border-left: 1px solid gray;box-sizing: border-box;top: 0;bottom: 0;left: 50%;z-index: -1;}#sk-container-id-1 div.sk-parallel-item {display: flex;flex-direction: column;z-index: 1;position: relative;background-color: white;}#sk-container-id-1 div.sk-parallel-item:first-child::after {align-self: flex-end;width: 50%;}#sk-container-id-1 div.sk-parallel-item:last-child::after {align-self: flex-start;width: 50%;}#sk-container-id-1 div.sk-parallel-item:only-child::after {width: 0;}#sk-container-id-1 div.sk-dashed-wrapped {border: 1px dashed gray;margin: 0 0.4em 0.5em 0.4em;box-sizing: border-box;padding-bottom: 0.4em;background-color: white;}#sk-container-id-1 div.sk-label label {font-family: monospace;font-weight: bold;display: inline-block;line-height: 1.2em;}#sk-container-id-1 div.sk-label-container {text-align: center;}#sk-container-id-1 div.sk-container {/* jupyter's `normalize.less` sets `[hidden] { display: none; }` but bootstrap.min.css set `[hidden] { display: none !important; }` so we also need the `!important` here to be able to override the default hidden behavior on the sphinx rendered scikit-learn.org. See: https://github.com/scikit-learn/scikit-learn/issues/21755 */display: inline-block !important;position: relative;}#sk-container-id-1 div.sk-text-repr-fallback {display: none;}</style><div id=\"sk-container-id-1\" class=\"sk-top-container\"><div class=\"sk-text-repr-fallback\"><pre>GridSearchCV(cv=5, estimator=SVC(), n_jobs=-1,\n",
       "             param_grid={&#x27;C&#x27;: [0.1, 1, 10], &#x27;gamma&#x27;: [&#x27;scale&#x27;, &#x27;auto&#x27;],\n",
       "                         &#x27;kernel&#x27;: [&#x27;linear&#x27;, &#x27;rbf&#x27;]})</pre><b>In a Jupyter environment, please rerun this cell to show the HTML representation or trust the notebook. <br />On GitHub, the HTML representation is unable to render, please try loading this page with nbviewer.org.</b></div><div class=\"sk-container\" hidden><div class=\"sk-item sk-dashed-wrapped\"><div class=\"sk-label-container\"><div class=\"sk-label sk-toggleable\"><input class=\"sk-toggleable__control sk-hidden--visually\" id=\"sk-estimator-id-1\" type=\"checkbox\" ><label for=\"sk-estimator-id-1\" class=\"sk-toggleable__label sk-toggleable__label-arrow\">GridSearchCV</label><div class=\"sk-toggleable__content\"><pre>GridSearchCV(cv=5, estimator=SVC(), n_jobs=-1,\n",
       "             param_grid={&#x27;C&#x27;: [0.1, 1, 10], &#x27;gamma&#x27;: [&#x27;scale&#x27;, &#x27;auto&#x27;],\n",
       "                         &#x27;kernel&#x27;: [&#x27;linear&#x27;, &#x27;rbf&#x27;]})</pre></div></div></div><div class=\"sk-parallel\"><div class=\"sk-parallel-item\"><div class=\"sk-item\"><div class=\"sk-label-container\"><div class=\"sk-label sk-toggleable\"><input class=\"sk-toggleable__control sk-hidden--visually\" id=\"sk-estimator-id-2\" type=\"checkbox\" ><label for=\"sk-estimator-id-2\" class=\"sk-toggleable__label sk-toggleable__label-arrow\">estimator: SVC</label><div class=\"sk-toggleable__content\"><pre>SVC()</pre></div></div></div><div class=\"sk-serial\"><div class=\"sk-item\"><div class=\"sk-estimator sk-toggleable\"><input class=\"sk-toggleable__control sk-hidden--visually\" id=\"sk-estimator-id-3\" type=\"checkbox\" ><label for=\"sk-estimator-id-3\" class=\"sk-toggleable__label sk-toggleable__label-arrow\">SVC</label><div class=\"sk-toggleable__content\"><pre>SVC()</pre></div></div></div></div></div></div></div></div></div></div>"
      ],
      "text/plain": [
       "GridSearchCV(cv=5, estimator=SVC(), n_jobs=-1,\n",
       "             param_grid={'C': [0.1, 1, 10], 'gamma': ['scale', 'auto'],\n",
       "                         'kernel': ['linear', 'rbf']})"
      ]
     },
     "execution_count": 13,
     "metadata": {},
     "output_type": "execute_result"
    }
   ],
   "source": [
    "svm_model = SVC()\n",
    "grid_search = GridSearchCV(svm_model, param_grid, cv=5, n_jobs=-1)\n",
    "grid_search.fit(X_train_tfidf, y_train)"
   ]
  },
  {
   "cell_type": "code",
   "execution_count": 14,
   "metadata": {
    "ExecuteTime": {
     "end_time": "2023-12-27T03:04:19.365362700Z",
     "start_time": "2023-12-27T03:04:19.362855400Z"
    }
   },
   "outputs": [
    {
     "name": "stdout",
     "output_type": "stream",
     "text": [
      "Best hyperparameters: {'C': 1, 'gamma': 'scale', 'kernel': 'linear'}\n"
     ]
    }
   ],
   "source": [
    "print('Best hyperparameters:', grid_search.best_params_)\n"
   ]
  },
  {
   "cell_type": "code",
   "execution_count": 15,
   "metadata": {
    "ExecuteTime": {
     "end_time": "2023-12-27T03:04:19.586070600Z",
     "start_time": "2023-12-27T03:04:19.365362700Z"
    }
   },
   "outputs": [],
   "source": [
    "best_model = grid_search.best_estimator_\n",
    "y_pred = best_model.predict(X_test_tfidf)\n"
   ]
  },
  {
   "cell_type": "code",
   "execution_count": 16,
   "metadata": {},
   "outputs": [],
   "source": [
    "data = data.loc[y_test.index]\n",
    "data.loc[y_test.values != y_pred, 'label'] = 2\n"
   ]
  },
  {
   "cell_type": "code",
   "execution_count": 17,
   "metadata": {
    "ExecuteTime": {
     "end_time": "2023-12-27T03:04:19.598130400Z",
     "start_time": "2023-12-27T03:04:19.587071Z"
    }
   },
   "outputs": [
    {
     "data": {
      "text/plain": [
       "array([1, 0, 1, 1, 0, 0, 1, 1, 1, 1, 1, 1, 0, 1, 0, 1, 0, 0, 0, 1, 1, 0,\n",
       "       0, 0, 0, 1, 0, 0, 1, 0, 0, 0, 0, 0, 1, 1, 1, 0, 1, 0, 0, 0, 0, 0,\n",
       "       0, 1, 1, 0, 0, 1, 0, 1, 0, 1, 1, 1, 0, 0, 0, 0, 1, 1, 0, 0, 0, 0,\n",
       "       0, 1, 0, 1, 1, 1, 0, 1, 0, 1, 1, 0, 0, 0, 1, 0, 0, 1, 0, 0, 1, 1,\n",
       "       1, 0, 1, 1, 1, 1, 0, 1, 0, 1, 0, 1, 1, 0, 0, 0, 0, 0, 1, 0, 1, 1,\n",
       "       1, 0, 1, 1, 0, 0, 0, 1, 0, 0, 0, 0, 1, 1, 0, 1, 0, 1, 1, 1, 1, 0,\n",
       "       1, 0, 0, 0, 0, 0, 1, 0, 0, 0, 0, 0, 0, 0, 0, 1, 0, 0, 0, 0, 1, 0,\n",
       "       1, 0, 0, 1, 0, 0, 1, 0, 0, 0, 1, 1, 1, 0, 0, 0, 0, 1, 0, 0, 0, 0,\n",
       "       1, 0, 1, 1, 1, 1, 1, 1, 1, 1, 1, 1, 0, 0, 0, 0, 1, 0, 1, 0, 1, 0,\n",
       "       1, 0, 0, 1, 0, 1, 0, 1, 1, 0, 1, 0, 0, 1, 1, 0, 1, 0, 1, 0, 1, 1,\n",
       "       0, 0, 0, 0, 1, 1, 0, 1, 1, 1, 1, 1, 0, 0, 0, 1, 0, 0, 1, 1, 0, 1,\n",
       "       0, 1, 0, 0, 0, 1, 1, 0, 0, 0, 0, 1, 0, 1, 0, 1, 1, 0, 1, 0, 0, 0,\n",
       "       1, 0, 0, 0, 0, 0, 0, 1, 1, 0, 0, 0, 0, 0, 1, 0, 0, 1, 1, 0, 1, 1,\n",
       "       0, 1, 1, 0, 0, 1, 0, 0, 0, 0, 1, 1, 1, 1, 0, 1, 0, 1, 0, 0, 1, 1,\n",
       "       0, 0, 0, 1, 0, 1, 0, 1, 1, 0, 1, 0, 0, 1, 1, 0, 0, 1, 0, 0, 0, 1,\n",
       "       0, 0, 0], dtype=int64)"
      ]
     },
     "execution_count": 17,
     "metadata": {},
     "output_type": "execute_result"
    }
   ],
   "source": [
    "y_pred"
   ]
  },
  {
   "cell_type": "code",
   "execution_count": 18,
   "metadata": {
    "ExecuteTime": {
     "end_time": "2023-12-27T03:04:19.600130500Z",
     "start_time": "2023-12-27T03:04:19.590767500Z"
    }
   },
   "outputs": [],
   "source": [
    "import pickle\n",
    "with open('temp/vectorized.pkl', 'wb') as f:\n",
    "    pickle.dump(vectorized, f)  \n",
    "with open('temp/svm_model.pkl', 'wb') as f:\n",
    "    pickle.dump(best_model, f)\n",
    "with open('temp/word_clean.pkl', 'wb') as f:\n",
    "    pickle.dump(word, f)"
   ]
  },
  {
   "cell_type": "code",
   "execution_count": 19,
   "metadata": {
    "ExecuteTime": {
     "end_time": "2023-12-27T03:04:19.604674Z",
     "start_time": "2023-12-27T03:04:19.599129800Z"
    }
   },
   "outputs": [
    {
     "name": "stdout",
     "output_type": "stream",
     "text": [
      "Độ chính xác của mô hình SVM: 0.9369369369369369\n"
     ]
    }
   ],
   "source": [
    "accuracy = accuracy_score(y_test, y_pred)\n",
    "print(f'Độ chính xác của mô hình SVM: {accuracy}')"
   ]
  },
  {
   "cell_type": "code",
   "execution_count": 20,
   "metadata": {
    "ExecuteTime": {
     "end_time": "2023-12-27T03:04:19.654385900Z",
     "start_time": "2023-12-27T03:04:19.609017100Z"
    }
   },
   "outputs": [
    {
     "name": "stdout",
     "output_type": "stream",
     "text": [
      "333 333\n"
     ]
    }
   ],
   "source": [
    "print(len(y_test), len(y_pred))"
   ]
  },
  {
   "cell_type": "code",
   "execution_count": 21,
   "metadata": {},
   "outputs": [
    {
     "name": "stdout",
     "output_type": "stream",
     "text": [
      "Số hàng trong X_train: 1329\n",
      "Số phần tử trong y_train: 1329\n",
      "Số hàng trong X_test: 333\n",
      "Số phần tử trong y_test: 333\n"
     ]
    }
   ],
   "source": [
    "print(f\"Số hàng trong X_train: {len(X_train)}\")\n",
    "print(f\"Số phần tử trong y_train: {len(y_train)}\")\n",
    "print(f\"Số hàng trong X_test: {len(X_test)}\")\n",
    "print(f\"Số phần tử trong y_test: {len(y_test)}\")"
   ]
  },
  {
   "cell_type": "code",
   "execution_count": 22,
   "metadata": {
    "ExecuteTime": {
     "end_time": "2023-12-27T03:04:55.480508600Z",
     "start_time": "2023-12-27T03:04:54.704994900Z"
    }
   },
   "outputs": [
    {
     "name": "stdout",
     "output_type": "stream",
     "text": [
      "Confusion Matrix:\n",
      "[[176  10]\n",
      " [ 11 136]]\n",
      "\n",
      "Classification Report:\n",
      "              precision    recall  f1-score   support\n",
      "\n",
      "           0       0.94      0.95      0.94       186\n",
      "           1       0.93      0.93      0.93       147\n",
      "\n",
      "    accuracy                           0.94       333\n",
      "   macro avg       0.94      0.94      0.94       333\n",
      "weighted avg       0.94      0.94      0.94       333\n",
      "\n",
      "\n",
      "Số lượng tin thật được dự đoán đúng: 136\n",
      "Số lượng tin giả được dự đoán đúng: 176\n"
     ]
    }
   ],
   "source": [
    "from sklearn.metrics import confusion_matrix, classification_report\n",
    "\n",
    "# Dự đoán trên tập kiểm tra\n",
    "y_pred = best_model.predict(X_test_tfidf)\n",
    "\n",
    "# Tính ma trận nhầm lẫn\n",
    "conf_matrix = confusion_matrix(y_test, y_pred)\n",
    "\n",
    "# In ma trận nhầm lẫn\n",
    "print(\"Confusion Matrix:\")\n",
    "print(conf_matrix)\n",
    "\n",
    "# In báo cáo đánh giá\n",
    "print(\"\\nClassification Report:\")\n",
    "print(classification_report(y_test, y_pred))\n",
    "\n",
    "# Số lượng tin thật và tin giả được dự đoán đúng\n",
    "true_real_news = conf_matrix[1, 1]\n",
    "true_fake_news = conf_matrix[0, 0]\n",
    "\n",
    "print(f\"\\nSố lượng tin thật được dự đoán đúng: {true_real_news}\")\n",
    "print(f\"Số lượng tin giả được dự đoán đúng: {true_fake_news}\")\n"
   ]
  },
  {
   "cell_type": "code",
   "execution_count": 23,
   "metadata": {},
   "outputs": [
    {
     "name": "stdout",
     "output_type": "stream",
     "text": [
      "Số lượng bài báo chưa thể phân biệt được: 21\n",
      "Số lượng bài báo đã phân biệt được: 312\n",
      "\n",
      "Danh sách bài báo chưa thể phân biệt được cùng với nội dung:\n",
      "\n",
      "Index: 2, Thực tế: 0, Dự đoán: 1\n",
      "Nội dung bài báo:\n",
      "Nên học Công nghệ thông tin hay Khoa học máy tính? Em cũng dành thời gian đọc tài liệu trên mạng nhưng thấy thông tin mâu thuẫn nhau. Nơi thì bảo học Công nghệ thông tin, có trang lại nói cần học Khoa học máy tính. Vậy em nên chọn ngành nào để sau này có thể làm vị trí kiểm thử? Em rất mong các anh, chị đang làm về kiểm thử phần mềm cho em lời khuyên, chia sẻ quá trình mọi người đến với ngành này. Hà \n",
      "\n",
      "\n",
      "Index: 30, Thực tế: 1, Dự đoán: 0\n",
      "Nội dung bài báo:\n",
      " Khi ông Kim Jong-il, cha của ông Kim Jong-un, qua đời năm 2011, các quan chức tình báo nước ngoài không hay biết cho đến khi tin tức được công bố hai ngày sau đó trên truyền hình Triều Tiên.\n",
      "\n",
      "Có lẽ nào???\n",
      "\n",
      " \n",
      "\n",
      "\n",
      "Index: 39, Thực tế: 1, Dự đoán: 0\n",
      "Nội dung bài báo:\n",
      " Clip camera quay lại cảnh nữ nhân viên xe buýt bị đâ.m chế.t ở Củ Chi\n",
      " -----------\n",
      " Nạn nhân 51 tuổi, ở Bình Chánh. Còn hung thủ 57 tuổi, ở gần hiện trường ( Gò Nổi, An Nhơn Tây, Củ Chi)\n",
      " Sau khi gây án, ông này cũng tự tử nên hiện đang cấp cứu ở bệnh viện Củ Chi. \n",
      "\n",
      "\n",
      "Index: 87, Thực tế: 0, Dự đoán: 1\n",
      "Nội dung bài báo:\n",
      "Viêm gan B 20 năm dễ hóa ung thư Thông tin được PGS Trịnh Thị Ngọc, Phó Chủ tịch Hội Gan mật Việt Nam, cho biết tại Hội nghị gan mật toàn quốc lần thứ 17 nhân Kỷ niệm 75 năm ngày Truyền thống Học viện Quân y, ngày 23/12. Viêm gan do virus có 4 loại, gồm virus viêm gan A, B, C và E. Viêm gan A và E gây nhiễm trùng tiêu hóa cấp, viêm gan virus B và C gây viêm gan mạn tính, dẫn đến xơ gan và ung thư gan. Trong đó, A, C và E có thể điều trị khỏi, viêm gan virus B chưa có thuốc điều trị, chỉ có thuốc ức chế. Việt Nam ghi nhận khoảng 20 triệu người nhiễm virus viêm gan B và C. Khoảng 80% bệnh nhân ung thư gan do tiến triển từ viêm gan virus B, khoảng 5% bệnh nhân ung thư gan do virus viêm gan C. Có rất nhiều nguyên nhân dẫn đến xơ gan và ung thư gan. Nguyên nhân do viêm gan B và C chiếm tỷ lệ cao nhất, đặc biệt ở các nước châu Á, châu Phi, trong đó có Việt Nam. \"Nhiễm viêm gan B khoảng 20-30 năm có nguy cơ xơ gan và ung thư gan, sớm hay muộn tùy theo có nhiễm viêm gan C, HIV, uống rượu bia... hay không\", PGS Ngọc nói. Tại Việt Nam, ung thư gan và tử vong do ung thư gan chiếm hàng đầu, vượt ung thư phổi, với trên 25.000 ca mắc mới và tử vong mỗi năm, dù hiện nay tỷ lệ nhiễm đã giảm số với trước. Đa số trường hợp phát hiện ở giai đoạn muộn. Một bệnh nhân ung thư gan do viêm gan B điều trị tại bệnh viện. Ảnh: Chi Lê Giáo sư Kwang-Hyub Han, nguyên chủ tịch Hội Gan mật Quốc tế, cho biết thống kê hàng năm thế giới có một triệu ca nhiễm viêm gan B và C mới, 1,1 triệu ca tử vong liên quan đến viêm gan virus. Tỷ lệ mắc viêm gan B vẫn cao ở châu Á. Tổ chức Y tế Thể giới cũng ghi nhận tỷ lệ người mắc viêm gan B, C chưa được chẩn đoán và điều trị trên toàn cầu còn cao. Các rào cản chính để quản lý ung thư gan liên quan đến viêm gan virus ở khu vực châu Á - Thái Bình Dương là thiếu nhận thức, khả năng tiếp cận và khả năng chi trả. Song, nhiều nước đã vượt qua các rào cản này, quản lý bệnh nhân viêm gan tốt. Như Hàn Quốc là một trong những nước thành công trong việc vượt qua các rào cản để quản lý ung thư gan trong vòng 40 năm bằng việc triển khai các chương trình kiểm soát ung thư và viêm gan virus hợp tác với các tổ chức y tế. Các chuyên gia khuyến cáo cần điều trị viêm gan B sớm, thậm chí ngay cả trong giai đoạn dung nạp miễn dịch. Ung thư gan liên quan đến viêm gan virrus có thể phòng ngừa được bằng vaccine (dự phòng cấp 1) và liệu pháp kháng virrus (dự phòng cấp 2). Hiện nay TAF vẫn là thuốc được khuyến cáo ưu tiên hàng đầu vì ít tác dụng không mong muốn. Ngoài ra TAF còn được sử dụng phòng lây truyền từ mẹ sang con và điều trị cho trẻ dưới 12 tuổi. Người dân được khuyến cáo thường xuyên kiểm tra sức khỏe, xét nghiệm sớm và điều trị sớm để phát hiện viêm gan B và C. Nếu chưa mắc bệnh, hãy tiêm vaccine và kiểm tra lượng kháng thể viêm gan sau tiêm. Nếu đã mắc bệnh, cần khám định kỳ 6 tháng một lần, tuân thủ đơn điều trị bằng thuốc kháng virus, tầm soát ung thư gan thường xuyên. Tại hội nghị, ngoài viêm gan còn có gần 70 báo cáo của hơn 30 cơ sở y tế trong và ngoài nước về nội ngoại khoa gan mật tụy như xơ gan, ung thư gan, nội soi gan mật tụy, phẫu thuật gan mật tụy, ghép gan,.... Đây là dịp các bác sĩ cập nhật những kiến thức mới để nâng cao chất lượng khám chữa bệnh. Lê Nga \n",
      "\n",
      "\n",
      "Index: 94, Thực tế: 1, Dự đoán: 0\n",
      "Nội dung bài báo:\n",
      " THÔNG TIN TỪ C.A TỈNH GIA LAI\n",
      "Theo thông báo của Bộ Công an, qua kiểm tra các thiết bị điện tử do các nước ngoài trao tặng (cho lực lượng công an và ngoài ngành công an) đã phát hiện một số yếu tố gây mất an ninh, an toàn thông tin, đặc biệt là một số điện thoại di động có nguồn gốc từ Trung Quốc do Tập đoàn Hoa Vĩ (Huawei) sản xuất có nhiều modul, blackbox bị mã hóa đầu vào đầu ra không thể kiểm tra được. \n",
      "\n",
      "\n",
      "Index: 104, Thực tế: 1, Dự đoán: 0\n",
      "Nội dung bài báo:\n",
      " Nhà hàng kinh doanh ngang nhiên \"xẻ thịt\" công viên nước tuổi trẻ và những cuộc vui thâu đêm suốt sáng không bị ai quản lý.\n",
      " \n",
      "\n",
      "\n",
      "Index: 151, Thực tế: 1, Dự đoán: 0\n",
      "Nội dung bài báo:\n",
      " Thủ tướng Ba Lan đề xuất rằng ông sẽ sẵn sàng trả 2 tỷ đô la Mỹ chi phí quân sự mỗi năm cho Hoa Kỳ. Họ muốn các binh sĩ rút khỏi Đức sẽ qua đồn trú chỗ họ, bao ăn ở tốt. Mặc dù Mỹ đã có gửi quân đội ở lại Ba Lan, (đã có 5.500 binh sĩ đang đóng quân ở Ba Lan).\n",
      "\n",
      "Tháng 1/2020. Bộ trưởng Quốc phòng Ba Lan đã ký mua 32 máy bay chiến đấu F35 của Hoa Kỳ.\n",
      "\n",
      "Đức không muốn điều đó. Ba Lan chấp nhận tất cả theo dự luật. Tốt hơn là nên chuyển tất cả các quả bom hạt nhân chiến thuật được đặt ở Đức sang Ba Lan.\n",
      "\n",
      "\n",
      "*****************\n",
      "\n",
      "Tổng thống Trump đã ra lệnh rút 9.500 lính Mỹ khỏi Đức, và giảm quy mô quân đội Mỹ ở Đức từ 34.500 xuống còn 25.000.\n",
      "\n",
      "Hoa Kỳ dự định cảnh cáo Đức rằng họ không còn có thể quá gần với ĐCSTQ, nếu không Hoa Kỳ sẽ không còn tuân thủ các cam kết an ninh của mình đối với Đức. Nếu Đức tiếp tục ủng hộ Trung Quốc, dự kiến:\n",
      "\n",
      "1) EU sẽ chia rẽ và Hoa Kỳ sẽ xây dựng lại các đồng minh châu Âu của mình;\n",
      "\n",
      "2) Đức sẽ bị Liên minh Tự do Quốc tế dẫn đầu trong cuộc cạnh tranh quốc tế về bán dẫn và công nghệ cao trong tương lai. \n",
      "\n",
      "\n",
      "Index: 156, Thực tế: 1, Dự đoán: 0\n",
      "Nội dung bài báo:\n",
      " ❎THÔNG BÁO GẤP ❗️ ❎ Để giúp cho cộng đồng người Việt có thêm những phương pháp đặc biệt, nhằm mục đích phòng chống bệnh tật, nhất là để an toàn vượt qua được đại dịch Virus Covid-19 lần này. Mình đã quyết định làm một chương trình Thôi miên trị liệu từ xa, chương trình: “ĐÁNH THỨC VỊ THẦN Y BẢN NĂNG”, để tăng cường sức đề kháng và thậm chí, chữa lành rất nhiều những chứng bệnh nan y, đặc biệt, là cho những người mới có một số biểu hiện trầm cảm và những người đang bị các chứ<URL> bệnh đau mãn tính. ❎ Tổng thời gian chương trình, có thể lên tới khoảng từ 70 đến 80 phút. ❎ Chương trình trị liệu từ xa này, sẽ được tải lên trang Facebook cá nhân của mình, bắt đầu từ khoảng 09h00 sáng mai (13-02/2020). ❎ Khi các bạn tham gia chương trình trị liệu khởi động sức đề kháng, ở phần 1, phần giải toả những cảm giác lo lắng, sợ hãi và giải toả những áp lực tâm lý, đề nghị các bạn hãy ngồi trên ghế, hoặc trên giường, đặt máy tính, hoặc Smartphone trước mặt (không cầm trên tay) và thực hành theo. ❎ Phần 2, là phần thôi miên trị liệu. Để cho phần trị liệu được thực sự phát huy tốt tác dụng, đề nghị các bạn hãy nằm, hoặc ngồi trên những chiếc ghế mà các bạn có thể ngả người về phía sau cho thoải mái được. ❎ Chương trình này tuyệt đối không liên quan đến lĩnh vực tôn giáo, vì vậy, tất cả các bạn, dù theo tôn giáo nào cũng đều có thể tham gia được, nếu các bạn thực sự muốn. ❎ (Hãy share cho cộng đồng cùng biết khi bạn đọc tin này. Tôi khẳng định, đây sẽ là một chương trình trị liệu từ tâm thức vô cùng đặc biệt mà mọi người có thể có được). Chúc các bạn luôn có thật nhiều niềm vui ❗️ \n",
      "\n",
      "\n",
      "Index: 184, Thực tế: 0, Dự đoán: 1\n",
      "Nội dung bài báo:\n",
      "Ông Lưu Bình Nhưỡng bị khởi tố thêm tội danh vì nhận hàng trăm ngàn USD Ông Lưu Bình Nhưỡng bị khởi tố thêm tội danh vì nhận hàng trăm ngàn USD Ông Lưu Bình Nhưỡng bị Cơ quan điều tra Công an tỉnh Thái Bình khởi tố thêm tội danh lợi dụng chức vụ, quyền hạn gây ảnh hưởng đối với người khác để trục lợi. \n",
      "\n",
      "\n",
      "Index: 187, Thực tế: 0, Dự đoán: 1\n",
      "Nội dung bài báo:\n",
      "Microsoft bị tố \"cậy quyền\", liên tục làm phiền để người dùng Edge chuyển sang Bing  \n",
      "\n",
      "\n",
      "Index: 189, Thực tế: 1, Dự đoán: 0\n",
      "Nội dung bài báo:\n",
      " Tờ Tagesspiegel của Đức ngày 3/4 dẫn các nguồn tin an ninh cho biết 200.000 khẩu trang loại FFP2 (N95) và FFP3 được chính phủ Đức đặt hàng cho lực lượng cảnh sát sử dụng đã bị \"chặn và chuyển sang Mỹ\". \n",
      "\n",
      "\n",
      "Index: 196, Thực tế: 0, Dự đoán: 1\n",
      "Nội dung bài báo:\n",
      "Vệ tinh viễn thám, UAV tham gia cứu hộ động đất Trung Quốc Vệ tinh viễn thám, UAV tham gia cứu hộ động đất Trung Quốc Video: CCTV \n",
      "\n",
      "\n",
      "Index: 197, Thực tế: 1, Dự đoán: 0\n",
      "Nội dung bài báo:\n",
      " HÀ NỘI: Học sinh từ cấp 2 trở lên dự kiến đi học trở lại từ 4/5, sau kì nghỉ lễ 30/4\n",
      "\n",
      "Phương án chính thức sẽ được đưa ra vào cuộc họp ngày 27/4. \n",
      "\n",
      "\n",
      "Index: 200, Thực tế: 1, Dự đoán: 0\n",
      "Nội dung bài báo:\n",
      " Đã nhiều ngày gần đây Kim Jong-un không hề xuất hiện trước truyền thông, tham gia sự kiện, thậm chí ông còn không tham sự buổi sinh hoạt Đảng - điều chưa từng có tiền lê trước đây. Một số ý kiến cho rằng vấn đề về tim mạch của ông Kim đã trở nên tồi tệ hơn. Nhưng dù là lý do gì, chúng ta cũng có thể mơ hồ hiểu với nhau rằng ông đang trong tình trạng nguy kịch hoặc Triều Tiên đang cố gắng che dấu một sự kiện gì đó quan trọng hơn. \n",
      "\n",
      "\n",
      "Index: 232, Thực tế: 1, Dự đoán: 0\n",
      "Nội dung bài báo:\n",
      " \"Thảo nào tôi đã không bị rụng tóc\" - Tổng thống Trump viết trên Twitter khi đề cập tới một nghiên cứu trước đây cho rằng một loại hóa chất được tìm thấy trong khoai tây chiên của McDonald's có thể giúp chữa tình trạng hói đầu. \n",
      "\n",
      "\n",
      "Index: 288, Thực tế: 0, Dự đoán: 1\n",
      "Nội dung bài báo:\n",
      "Cải thiện IELTS hay SAT để giành học bổng du học Mỹ? Em học lớp 12 và muốn du học Mỹ vào năm tới. Điểm trung bình GPA của em lớp 10 là 8,5; lớp 11 được 8,8 và năm nay cũng khoảng 8,8. Em đã có IELTS 6.5 và mới nhận điểm SAT 1.060/1.600. Mọi người cho em hỏi bây giờ em nên cải thiện điểm IELTS hay SAT để có học bổng cao? Em cảm ơn mọi người. Nguyen Nam \n",
      "\n",
      "\n",
      "Index: 293, Thực tế: 1, Dự đoán: 0\n",
      "Nội dung bài báo:\n",
      " Đảo Phú Quốc trở thành đô thị loại một, trực thuộc Trung Ương\n",
      "\n",
      "(TTXVN) Từ một huyện đảo trực thuộc tỉnh Kiên Giang, \"đảo Ngọc\" nay đã có bước chuyển mình trở thành thành phố đô thị loại I trực thuộc Trung Ương.\n",
      "\n",
      "Tối 31/03, Thủ tướng Nguyễn Xuân Phúc đã trao quyết định của Thủ Tướng cho lãnh đạo huyện đảo Phúc Quốc, tỉnh Kiên Giang, công nhận hòn đảo này trở thành đô thị loại một, thành phố trực thuộc Trung Ương.\n",
      "\n",
      "\"Đây là điều kiện thuận lợi để Phú Quốc phát triển toàn diện những mục tiêu đề ra, đồng thời là điều kiện để Phú Quốc tập trung phát triển nguồn lực xây dựng phát triển cơ sở hạ tầng đạt tiêu chuẩn, phát triển kinh thế biển gắn với nhiệm vụ bảo vệ quốc phòng - an ninh biển, từng bước xây dựng thành phố Phú Quốc trở thành trung tâm du lịch xanh, sạch, đẹp mang tầm cỡ khu vực và quốc tế\", ông Phúc nói. \n",
      "\n",
      "\n",
      "Index: 298, Thực tế: 0, Dự đoán: 1\n",
      "Nội dung bài báo:\n",
      "Chủ tịch Vạn Thịnh Phát 'rửa tiền' thông qua đầu tư bất động sản, chuyển tiền ra nước ngoài Chủ tịch Vạn Thịnh Phát 'rửa tiền' thông qua đầu tư bất động sản, chuyển tiền ra nước ngoài Lãnh đạo C03, Bộ Công an cho biết kết quả điều tra ban đầu xác định số tiền chủ tịch Vạn Thịnh Phát Trương Mỹ Lan tham ô hơn 304.000 tỉ đã sử dụng đầu tư nhiều dự án bất động sản, chuyển tiền ra nước ngoài nên phạm vào tội \"rửa tiền\". \n",
      "\n",
      "\n",
      "Index: 301, Thực tế: 0, Dự đoán: 1\n",
      "Nội dung bài báo:\n",
      "Bắt cục phó Cục Quản lý giá Bộ Tài chính trong vụ án liên quan thứ trưởng Đỗ Thắng Hải Bắt cục phó Cục Quản lý giá Bộ Tài chính trong vụ án liên quan thứ trưởng Đỗ Thắng Hải Ông Đặng Công Khôi - cục phó Cục Quản lý giá Bộ Tài chính - bị cơ quan điều tra Bộ Công an khởi tố, bắt tạm giam để điều tra sai phạm trong vụ án Công ty xăng dầu lớn phía Nam Xuyên Việt Oil. \n",
      "\n",
      "\n",
      "Index: 313, Thực tế: 0, Dự đoán: 1\n",
      "Nội dung bài báo:\n",
      "Cục Đường bộ nói gì về phần mềm mô phỏng lái xe đánh đố thí sinh? Cục Đường bộ nói gì về phần mềm mô phỏng lái xe đánh đố thí sinh? Cục Đường bộ Việt Nam cho biết sẽ tiếp thu ý kiến về phần mềm mô phỏng lái xe, và sẽ có điều chỉnh phù hợp. \n",
      "\n",
      "\n",
      "Index: 325, Thực tế: 0, Dự đoán: 1\n",
      "Nội dung bài báo:\n",
      "\"Phép màu\" từ Huawei đang giúp các hãng xe vô danh \"chiến\" ngang tay Tesla, BYD  \n",
      "\n"
     ]
    }
   ],
   "source": [
    "# Giả sử 'content' là tên của cột chứa nội dung bài báo trong DataFrame của bạn\n",
    "# có bao nhiêu bài báo chưa phân biệt được\n",
    "print(f'Số lượng bài báo chưa thể phân biệt được: {len(data[data[\"label\"] == 2])}')\n",
    "#Số lượng bài báo đã phân biệt được\n",
    "print(f'Số lượng bài báo đã phân biệt được: {len(data[data[\"label\"] != 2])}')\n",
    "\n",
    "print('\\nDanh sách bài báo chưa thể phân biệt được cùng với nội dung:')\n",
    "for i in range(len(y_test)):\n",
    "    if y_test.values[i] != y_pred[i]:\n",
    "        index = i\n",
    "        content_of_article = data['text'].iloc[index]\n",
    "        actual_label = y_test.values[index]\n",
    "        predicted_label = y_pred[index]\n",
    "\n",
    "        print(f'\\nIndex: {index}, Thực tế: {actual_label}, Dự đoán: {predicted_label}')\n",
    "        print(f'Nội dung bài báo:\\n{content_of_article}\\n')\n"
   ]
  }
 ],
 "metadata": {
  "kernelspec": {
   "display_name": "Python 3",
   "language": "python",
   "name": "python3"
  },
  "language_info": {
   "codemirror_mode": {
    "name": "ipython",
    "version": 3
   },
   "file_extension": ".py",
   "mimetype": "text/x-python",
   "name": "python",
   "nbconvert_exporter": "python",
   "pygments_lexer": "ipython3",
   "version": "3.11.0"
  }
 },
 "nbformat": 4,
 "nbformat_minor": 2
}
