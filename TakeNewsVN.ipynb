{
 "cells": [
  {
   "cell_type": "markdown",
   "metadata": {},
   "source": [
    "Lấy những bài báo random gần đây nhất (Vietnam News API)"
   ]
  },
  {
   "cell_type": "code",
   "execution_count": 1,
   "metadata": {
    "ExecuteTime": {
     "end_time": "2023-12-26T16:26:56.360147900Z",
     "start_time": "2023-12-26T16:26:55.976729300Z"
    }
   },
   "outputs": [],
   "source": [
    "import requests\n",
    "from urllib.parse import urlparse, parse_qs\n",
    "import pandas as pd"
   ]
  },
  {
   "cell_type": "code",
   "execution_count": 2,
   "metadata": {
    "ExecuteTime": {
     "end_time": "2023-12-26T16:27:05.346905900Z",
     "start_time": "2023-12-26T16:26:56.362195Z"
    }
   },
   "outputs": [
    {
     "name": "stdout",
     "output_type": "stream",
     "text": [
      "Đã lấy dữ liệu thành công từ https://newsdata.io/api/1/news?country=vi&category=top&apikey=pub_349954ee9077f2ddc34d6b922c7de34859a0a\n",
      "Đã lấy dữ liệu thành công từ https://newsdata.io/api/1/news?country=vi&category=sports&apikey=pub_349954ee9077f2ddc34d6b922c7de34859a0a\n",
      "Đã lấy dữ liệu thành công từ https://newsdata.io/api/1/news?country=vi&category=technology&apikey=pub_349954ee9077f2ddc34d6b922c7de34859a0a\n",
      "Đã lấy dữ liệu thành công từ https://newsdata.io/api/1/news?country=vi&category=science&apikey=pub_349954ee9077f2ddc34d6b922c7de34859a0a\n",
      "Đã lấy dữ liệu thành công từ https://newsdata.io/api/1/news?country=vi&category=entertainment&apikey=pub_349954ee9077f2ddc34d6b922c7de34859a0a\n",
      "Đã lấy dữ liệu thành công từ https://newsdata.io/api/1/news?country=vi&category=health&apikey=pub_349954ee9077f2ddc34d6b922c7de34859a0a\n",
      "Đã lấy dữ liệu thành công từ https://newsdata.io/api/1/news?country=vi&category=world&apikey=pub_349954ee9077f2ddc34d6b922c7de34859a0a\n",
      "Đã lấy dữ liệu thành công từ https://newsdata.io/api/1/news?country=vi&category=politics&apikey=pub_349954ee9077f2ddc34d6b922c7de34859a0a\n",
      "Đã lấy dữ liệu thành công từ https://newsdata.io/api/1/news?country=vi&category=environment&apikey=pub_349954ee9077f2ddc34d6b922c7de34859a0ahttps://newsdata.io/api/1/news?country=vi&category=food&apikey=pub_349954ee9077f2ddc34d6b922c7de34859a0a\n",
      "                          article_id   \n",
      "0   de327a8da5ed046a22ac33421826675a  \\\n",
      "1   61d1382bfbe1756763515c4c84712057   \n",
      "2   01459492cd920568683b7d09323504f3   \n",
      "3   2518255b0358be43b55141b07e2a2e0a   \n",
      "4   41e6e48049f68a35dc128a1047d92ccd   \n",
      "..                               ...   \n",
      "73  721d9e8f357049c60f32d5314d080af9   \n",
      "74  88899c19005d151861c7241acf36bec3   \n",
      "75  4e9a6c9d275b02b5fd4b840b560a0976   \n",
      "76  c7af0b57b2a564d2cc6cd40945d25851   \n",
      "77  1c6c99a61ba666c5ceb835e0f6a91c0a   \n",
      "\n",
      "                                                title   \n",
      "0   Người dân, du khách về Bà Rịa - Vũng Tàu xem c...  \\\n",
      "1        Thu ngân sách TP.HCM năm 2023 mới đạt 95,07%   \n",
      "2   Ô tô tồn kho từ 2022 miệt mài xả hàng, vừa bán...   \n",
      "3   Vì sao Lưu Bang phải đút lót, gả con gái cho T...   \n",
      "4   Khởi tố, khám nhà cựu Bí thư Tỉnh ủy Thanh Hóa...   \n",
      "..                                                ...   \n",
      "73  Bộ Công an: 'Bà Trương Mỹ Lan rửa tiền vào bất...   \n",
      "74  Ông Đinh Trường Chinh bị cáo buộc chiếm đoạt n...   \n",
      "75  Cục phó quản lý giá Bộ Tài chính bị bắt trong ...   \n",
      "76         Giám đốc EVN Bình Thuận và 16 người bị bắt   \n",
      "77  Thêm 4 đăng kiểm viên đường thủy ở Cần Thơ bị bắt   \n",
      "\n",
      "                                                 link creator   \n",
      "0   https://danviet.vn/xem-ca-nhac-ngam-dieu-khong...    None  \\\n",
      "1   https://tuoitre.vn/thu-ngan-sach-tp-hcm-nam-20...    None   \n",
      "2   https://danviet.vn/o-to-ton-kho-tu-2022-miet-m...    None   \n",
      "3   https://danviet.vn/vi-sao-luu-bang-phai-dut-lo...    None   \n",
      "4   https://docnhanh.vn/phap-luat/khoi-to-kham-nha...    None   \n",
      "..                                                ...     ...   \n",
      "73  https://vnexpress.net/bo-cong-an-ba-truong-my-...    None   \n",
      "74  https://vnexpress.net/ong-dinh-truong-chinh-bi...    None   \n",
      "75  https://vnexpress.net/cuc-pho-quan-ly-gia-bo-t...    None   \n",
      "76  https://vnexpress.net/giam-doc-evn-binh-thuan-...    None   \n",
      "77  https://vnexpress.net/them-4-dang-kiem-vien-du...    None   \n",
      "\n",
      "                                          description   \n",
      "0   Tại sân khấu chính của sự kiện, những con diều...  \\\n",
      "1   Tính đến hết ngày 29-12, thu ngân sách của TP....   \n",
      "2   Vào những ngày cuối cùng của năm 2023, tại các...   \n",
      "3   Lưu Bang tin rằng ông vẫn chưa đủ mạnh để đánh...   \n",
      "4   Tối 29/12, Cơ quan CSĐT Công an tỉnh Thanh Hóa...   \n",
      "..                                                ...   \n",
      "73  Chủ tịch Tập đoàn Vạn Thịnh Phát Trương Mỹ Lan...   \n",
      "74  Đinh Trường Chinh, cựu chủ tịch HĐQT Công ty C...   \n",
      "75  Ông Đặng Công Khôi, Cục phó quản lý giá (Bộ Tà...   \n",
      "76  Ông Nguyễn Thành Ngôn, Giám đốc EVN Bình Thuận...   \n",
      "77  Ông Lương Duy Long cùng 3 đồng nghiệp tại Chi ...   \n",
      "\n",
      "                                              content  source_id    category  \n",
      "0   Tối 29/12, người dân và du khách tại quảng trư...    danviet       [top]  \n",
      "1   Thu ngân sách TP.HCM năm 2023 mới đạt 95,07% T...    tuoitre       [top]  \n",
      "2   Những ngày cuối năm thị trường ô tô nhộn nhịp ...    danviet       [top]  \n",
      "3   Năm 202 TCN, Lưu Bang đã đánh bại kẻ thù nguy ...    danviet       [top]  \n",
      "4   Theo đó, ông Chiến bị khởi tố về tội \"Vi phạm ...     docbao       [top]  \n",
      "..                                                ...        ...         ...  \n",
      "73  Ngày 27/12, tại họp báo kết quả công tác năm 2...  vnexpress  [politics]  \n",
      "74  Ông Đinh Trường Chinh bị khởi tố thêm tội Cảnh...  vnexpress  [politics]  \n",
      "75  Ngày 27/12, tại cuộc họp báo của Bộ Công an, đ...  vnexpress  [politics]  \n",
      "76  Ngày 27/12, trung tướng Tô Ân Xô, người phát n...  vnexpress  [politics]  \n",
      "77  4 cán bộ Chị cục Đăng kiểm số 8 vừa bị bắt. Ản...  vnexpress  [politics]  \n",
      "\n",
      "[78 rows x 8 columns]\n"
     ]
    }
   ],
   "source": [
    "# Danh sách các địa chỉ API\n",
    "api_urls = [\n",
    "    \n",
    "    \"https://newsdata.io/api/1/news?country=vi&category=top&apikey=pub_349954ee9077f2ddc34d6b922c7de34859a0a\",\n",
    "    \"https://newsdata.io/api/1/news?country=vi&category=sports&apikey=pub_349954ee9077f2ddc34d6b922c7de34859a0a\",\n",
    "    \"https://newsdata.io/api/1/news?country=vi&category=technology&apikey=pub_349954ee9077f2ddc34d6b922c7de34859a0a\",\n",
    "    \"https://newsdata.io/api/1/news?country=vi&category=science&apikey=pub_349954ee9077f2ddc34d6b922c7de34859a0a\",\n",
    "    \"https://newsdata.io/api/1/news?country=vi&category=entertainment&apikey=pub_349954ee9077f2ddc34d6b922c7de34859a0a\",\n",
    "    \"https://newsdata.io/api/1/news?country=vi&category=health&apikey=pub_349954ee9077f2ddc34d6b922c7de34859a0a\",\n",
    "    \"https://newsdata.io/api/1/news?country=vi&category=world&apikey=pub_349954ee9077f2ddc34d6b922c7de34859a0a\",\n",
    "    \"https://newsdata.io/api/1/news?country=vi&category=politics&apikey=pub_349954ee9077f2ddc34d6b922c7de34859a0a\",\n",
    "    \"https://newsdata.io/api/1/news?country=vi&category=environment&apikey=pub_349954ee9077f2ddc34d6b922c7de34859a0a\"\n",
    "    \"https://newsdata.io/api/1/news?country=vi&category=food&apikey=pub_349954ee9077f2ddc34d6b922c7de34859a0a\"\n",
    "]\n",
    "\n",
    "    # TopHot: \"https://newsdata.io/api/1/news?country=vi&category=top&apikey=pub_349954ee9077f2ddc34d6b922c7de34859a0a\",\n",
    "    # Thể thao: \"https://newsdata.io/api/1/news?country=vi&category=sports&apikey=pub_349954ee9077f2ddc34d6b922c7de34859a0a\",\n",
    "    # Công Nghệ: \"https://newsdata.io/api/1/news?country=vi&category=technology&apikey=pub_349954ee9077f2ddc34d6b922c7de34859a0a\",\n",
    "    # Khoa học: \"https://newsdata.io/api/1/news?country=vi&category=science&apikey=pub_349954ee9077f2ddc34d6b922c7de34859a0a\",\n",
    "    # Giải trí: \"https://newsdata.io/api/1/news?country=vi&category=entertainment&apikey=pub_349954ee9077f2ddc34d6b922c7de34859a0a\",\n",
    "    # Sức khỏe: \"https://newsdata.io/api/1/news?country=vi&category=health&apikey=pub_349954ee9077f2ddc34d6b922c7de34859a0a\",\n",
    "    # Thế giới: \"https://newsdata.io/api/1/news?country=vi&category=world&apikey=pub_349954ee9077f2ddc34d6b922c7de34859a0a\",\n",
    "    # Chính trị: \"https://newsdata.io/api/1/news?country=vi&category=politics&apikey=pub_349954ee9077f2ddc34d6b922c7de34859a0a\",\n",
    "    # Môi trường: \"https://newsdata.io/api/1/news?country=vi&category=environment&apikey=pub_349954ee9077f2ddc34d6b922c7de34859a0a\"\n",
    "    # Food: \"https://newsdata.io/api/1/news?country=vi&category=food&apikey=pub_349954ee9077f2ddc34d6b922c7de34859a0a\"\n",
    "\n",
    "\n",
    "# Khởi tạo DataFrame trống\n",
    "df = pd.DataFrame(columns=[\"article_id\", \"title\", \"link\", \"creator\", \"description\", \"content\", \"source_id\", \"category\"])\n",
    "\n",
    "# Lặp qua từng địa chỉ API trong danh sách\n",
    "for api_url in api_urls:\n",
    "    try:\n",
    "        # Gửi yêu cầu GET đến API và nhận dữ liệu JSON\n",
    "        response = requests.get(api_url)\n",
    "        data = response.json()\n",
    "        \n",
    "        # Lấy danh sách bài báo từ trường \"results\"\n",
    "        results = data.get(\"results\", []) \n",
    "\n",
    "        # Nối kết quả từ mỗi API vào DataFrame\n",
    "        df = pd.concat([df, pd.DataFrame(results, columns=df.columns)], ignore_index=True)\n",
    "\n",
    "        print(f\"Đã lấy dữ liệu thành công từ {api_url}\")\n",
    "\n",
    "    except Exception as e:\n",
    "        print(f\"Lấy dữ liệu không thành công. Hãy kiểm tra lại {api_url}. Error: {str(e)}\")\n",
    "\n",
    "# In ra DataFrame tổng cộng sau khi lấy từ tất cả các API\n",
    "print(df)\n",
    "\n"
   ]
  },
  {
   "cell_type": "code",
   "execution_count": 3,
   "metadata": {
    "ExecuteTime": {
     "end_time": "2023-12-26T16:27:05.357166100Z",
     "start_time": "2023-12-26T16:27:05.346905900Z"
    }
   },
   "outputs": [],
   "source": [
    "df.to_csv('data/RealNewsfrom_NewsData_io_UPDATED.csv', index=False, encoding='utf-8', mode='a', header=False)"
   ]
  },
  {
   "cell_type": "code",
   "execution_count": 4,
   "metadata": {
    "ExecuteTime": {
     "end_time": "2023-12-26T16:27:05.432870200Z",
     "start_time": "2023-12-26T16:27:05.358162700Z"
    }
   },
   "outputs": [],
   "source": [
    "df = pd.read_csv('data/RealNewsfrom_NewsData_io_UPDATED.csv')\n",
    "duplicate_rows = df[df.duplicated('article_id')]\n",
    "df = df.drop_duplicates('article_id', keep='first')\n",
    "df.to_csv('data/RealNewsfrom_NewsData_io_UPDATED.csv', index=False)"
   ]
  }
 ],
 "metadata": {
  "kernelspec": {
   "display_name": "Python 3",
   "language": "python",
   "name": "python3"
  },
  "language_info": {
   "codemirror_mode": {
    "name": "ipython",
    "version": 3
   },
   "file_extension": ".py",
   "mimetype": "text/x-python",
   "name": "python",
   "nbconvert_exporter": "python",
   "pygments_lexer": "ipython3",
   "version": "3.11.0"
  }
 },
 "nbformat": 4,
 "nbformat_minor": 2
}
