{
 "cells": [
  {
   "cell_type": "markdown",
   "metadata": {},
   "source": [
    "Lấy những bài báo random gần đây nhất (Vietnam News API)"
   ]
  },
  {
   "cell_type": "code",
   "execution_count": 1,
   "metadata": {
    "ExecuteTime": {
     "end_time": "2023-12-26T16:26:56.360147900Z",
     "start_time": "2023-12-26T16:26:55.976729300Z"
    }
   },
   "outputs": [],
   "source": [
    "import requests\n",
    "from urllib.parse import urlparse, parse_qs\n",
    "import pandas as pd"
   ]
  },
  {
   "cell_type": "code",
   "execution_count": 2,
   "metadata": {
    "ExecuteTime": {
     "end_time": "2023-12-26T16:27:05.346905900Z",
     "start_time": "2023-12-26T16:26:56.362195Z"
    }
   },
   "outputs": [
    {
     "name": "stdout",
     "output_type": "stream",
     "text": [
      "Đã lấy dữ liệu thành công từ https://newsdata.io/api/1/news?country=vi&category=top&apikey=pub_349954ee9077f2ddc34d6b922c7de34859a0a\n",
      "Đã lấy dữ liệu thành công từ https://newsdata.io/api/1/news?country=vi&category=sports&apikey=pub_349954ee9077f2ddc34d6b922c7de34859a0a\n",
      "Đã lấy dữ liệu thành công từ https://newsdata.io/api/1/news?country=vi&category=technology&apikey=pub_349954ee9077f2ddc34d6b922c7de34859a0a\n",
      "Đã lấy dữ liệu thành công từ https://newsdata.io/api/1/news?country=vi&category=science&apikey=pub_349954ee9077f2ddc34d6b922c7de34859a0a\n",
      "Đã lấy dữ liệu thành công từ https://newsdata.io/api/1/news?country=vi&category=entertainment&apikey=pub_349954ee9077f2ddc34d6b922c7de34859a0a\n",
      "Đã lấy dữ liệu thành công từ https://newsdata.io/api/1/news?country=vi&category=health&apikey=pub_349954ee9077f2ddc34d6b922c7de34859a0a\n",
      "Đã lấy dữ liệu thành công từ https://newsdata.io/api/1/news?country=vi&category=world&apikey=pub_349954ee9077f2ddc34d6b922c7de34859a0a\n",
      "Đã lấy dữ liệu thành công từ https://newsdata.io/api/1/news?country=vi&category=politics&apikey=pub_349954ee9077f2ddc34d6b922c7de34859a0a\n",
      "Đã lấy dữ liệu thành công từ https://newsdata.io/api/1/news?country=vi&category=environment&apikey=pub_349954ee9077f2ddc34d6b922c7de34859a0ahttps://newsdata.io/api/1/news?country=vi&category=food&apikey=pub_349954ee9077f2ddc34d6b922c7de34859a0a\n",
      "                          article_id   \n",
      "0   e9329c1920b0123b65ffe6eae9d70ec0  \\\n",
      "1   cd746284b461f25ef87c33f760c3c2da   \n",
      "2   df79208c84e2b68388d24670b3e13b93   \n",
      "3   e335247a9174b7674f583e73672b5087   \n",
      "4   eed8390d93181025cb3bd243cc9ee05f   \n",
      "..                               ...   \n",
      "72  721d9e8f357049c60f32d5314d080af9   \n",
      "73  88899c19005d151861c7241acf36bec3   \n",
      "74  4e9a6c9d275b02b5fd4b840b560a0976   \n",
      "75  c7af0b57b2a564d2cc6cd40945d25851   \n",
      "76  1c6c99a61ba666c5ceb835e0f6a91c0a   \n",
      "\n",
      "                                                title   \n",
      "0   Cưới xong vài ngày mẹ chồng mới trao cho cả tú...  \\\n",
      "1   Việt Nam đón 12,6 triệu lượt du khách quốc tế,...   \n",
      "2   Apple Music chọn top ca khúc Kpop hay nhất 202...   \n",
      "3   Tuyển Hàn Quốc triệu tập 'đội hình mạnh nhất l...   \n",
      "4   Haaland nhận giải thưởng \"hiếm có\" mà Ronaldo ...   \n",
      "..                                                ...   \n",
      "72  Bộ Công an: 'Bà Trương Mỹ Lan rửa tiền vào bất...   \n",
      "73  Ông Đinh Trường Chinh bị cáo buộc chiếm đoạt n...   \n",
      "74  Cục phó quản lý giá Bộ Tài chính bị bắt trong ...   \n",
      "75         Giám đốc EVN Bình Thuận và 16 người bị bắt   \n",
      "76  Thêm 4 đăng kiểm viên đường thủy ở Cần Thơ bị bắt   \n",
      "\n",
      "                                                 link creator   \n",
      "0   https://danviet.vn/sau-dam-cuoi-me-chong-cho-5...    None  \\\n",
      "1   https://kenh14.vn/viet-nam-don-126-trieu-luot-...    None   \n",
      "2   https://kenh14.vn/apple-music-chon-top-ca-khuc...    None   \n",
      "3   https://kenh14.vn/tuyen-han-quoc-trieu-tap-doi...    None   \n",
      "4   https://kenh14.vn/haaland-nhan-giai-thuong-hie...    None   \n",
      "..                                                ...     ...   \n",
      "72  https://vnexpress.net/bo-cong-an-ba-truong-my-...    None   \n",
      "73  https://vnexpress.net/ong-dinh-truong-chinh-bi...    None   \n",
      "74  https://vnexpress.net/cuc-pho-quan-ly-gia-bo-t...    None   \n",
      "75  https://vnexpress.net/giam-doc-evn-binh-thuan-...    None   \n",
      "76  https://vnexpress.net/them-4-dang-kiem-vien-du...    None   \n",
      "\n",
      "                                          description   \n",
      "0   Thế nhưng ngay tối hôm ấy, khi tôi lên phòng n...  \\\n",
      "1   Tính chung năm 2023, khách quốc tế đến nước ta...   \n",
      "2   A-List Kpop 2023 của Apple Music gây khó hiểu ...   \n",
      "3   Tuyển Hàn Quốc tham dự Asian Cup 2023 được đán...   \n",
      "4   Tiền đạo Erling Haaland vừa nhận được một giải...   \n",
      "..                                                ...   \n",
      "72  Chủ tịch Tập đoàn Vạn Thịnh Phát Trương Mỹ Lan...   \n",
      "73  Đinh Trường Chinh, cựu chủ tịch HĐQT Công ty C...   \n",
      "74  Ông Đặng Công Khôi, Cục phó quản lý giá (Bộ Tà...   \n",
      "75  Ông Nguyễn Thành Ngôn, Giám đốc EVN Bình Thuận...   \n",
      "76  Ông Lương Duy Long cùng 3 đồng nghiệp tại Chi ...   \n",
      "\n",
      "                                              content  source_id    category  \n",
      "0   Ngày đến nhà bạn trai chơi, tôi choáng ngợp bở...    danviet       [top]  \n",
      "1   Theo Tổng cục Thống kê, khách quốc tế đến Việt...     kenh14       [top]  \n",
      "2   Trong làn sóng tổng kết âm nhạc cuối năm, danh...     kenh14       [top]  \n",
      "3   HLV Jurgen Klinsmann tại lễ công bố danh sách ...     kenh14       [top]  \n",
      "4   Mới đây, Erling Haaland đã nhận được danh hiệu...     kenh14       [top]  \n",
      "..                                                ...        ...         ...  \n",
      "72  Ngày 27/12, tại họp báo kết quả công tác năm 2...  vnexpress  [politics]  \n",
      "73  Ông Đinh Trường Chinh bị khởi tố thêm tội Cảnh...  vnexpress  [politics]  \n",
      "74  Ngày 27/12, tại cuộc họp báo của Bộ Công an, đ...  vnexpress  [politics]  \n",
      "75  Ngày 27/12, trung tướng Tô Ân Xô, người phát n...  vnexpress  [politics]  \n",
      "76  4 cán bộ Chị cục Đăng kiểm số 8 vừa bị bắt. Ản...  vnexpress  [politics]  \n",
      "\n",
      "[77 rows x 8 columns]\n"
     ]
    }
   ],
   "source": [
    "# Danh sách các địa chỉ API\n",
    "api_urls = [\n",
    "    \n",
    "    \"https://newsdata.io/api/1/news?country=vi&category=top&apikey=pub_349954ee9077f2ddc34d6b922c7de34859a0a\",\n",
    "    \"https://newsdata.io/api/1/news?country=vi&category=sports&apikey=pub_349954ee9077f2ddc34d6b922c7de34859a0a\",\n",
    "    \"https://newsdata.io/api/1/news?country=vi&category=technology&apikey=pub_349954ee9077f2ddc34d6b922c7de34859a0a\",\n",
    "    \"https://newsdata.io/api/1/news?country=vi&category=science&apikey=pub_349954ee9077f2ddc34d6b922c7de34859a0a\",\n",
    "    \"https://newsdata.io/api/1/news?country=vi&category=entertainment&apikey=pub_349954ee9077f2ddc34d6b922c7de34859a0a\",\n",
    "    \"https://newsdata.io/api/1/news?country=vi&category=health&apikey=pub_349954ee9077f2ddc34d6b922c7de34859a0a\",\n",
    "    \"https://newsdata.io/api/1/news?country=vi&category=world&apikey=pub_349954ee9077f2ddc34d6b922c7de34859a0a\",\n",
    "    \"https://newsdata.io/api/1/news?country=vi&category=politics&apikey=pub_349954ee9077f2ddc34d6b922c7de34859a0a\",\n",
    "    \"https://newsdata.io/api/1/news?country=vi&category=environment&apikey=pub_349954ee9077f2ddc34d6b922c7de34859a0a\"\n",
    "    \"https://newsdata.io/api/1/news?country=vi&category=food&apikey=pub_349954ee9077f2ddc34d6b922c7de34859a0a\"\n",
    "]\n",
    "\n",
    "    # TopHot: \"https://newsdata.io/api/1/news?country=vi&category=top&apikey=pub_349954ee9077f2ddc34d6b922c7de34859a0a\",\n",
    "    # Thể thao: \"https://newsdata.io/api/1/news?country=vi&category=sports&apikey=pub_349954ee9077f2ddc34d6b922c7de34859a0a\",\n",
    "    # Công Nghệ: \"https://newsdata.io/api/1/news?country=vi&category=technology&apikey=pub_349954ee9077f2ddc34d6b922c7de34859a0a\",\n",
    "    # Khoa học: \"https://newsdata.io/api/1/news?country=vi&category=science&apikey=pub_349954ee9077f2ddc34d6b922c7de34859a0a\",\n",
    "    # Giải trí: \"https://newsdata.io/api/1/news?country=vi&category=entertainment&apikey=pub_349954ee9077f2ddc34d6b922c7de34859a0a\",\n",
    "    # Sức khỏe: \"https://newsdata.io/api/1/news?country=vi&category=health&apikey=pub_349954ee9077f2ddc34d6b922c7de34859a0a\",\n",
    "    # Thế giới: \"https://newsdata.io/api/1/news?country=vi&category=world&apikey=pub_349954ee9077f2ddc34d6b922c7de34859a0a\",\n",
    "    # Chính trị: \"https://newsdata.io/api/1/news?country=vi&category=politics&apikey=pub_349954ee9077f2ddc34d6b922c7de34859a0a\",\n",
    "    # Môi trường: \"https://newsdata.io/api/1/news?country=vi&category=environment&apikey=pub_349954ee9077f2ddc34d6b922c7de34859a0a\"\n",
    "    # Food: \"https://newsdata.io/api/1/news?country=vi&category=food&apikey=pub_349954ee9077f2ddc34d6b922c7de34859a0a\"\n",
    "\n",
    "\n",
    "# Khởi tạo DataFrame trống\n",
    "df = pd.DataFrame(columns=[\"article_id\", \"title\", \"link\", \"creator\", \"description\", \"content\", \"source_id\", \"category\"])\n",
    "\n",
    "# Lặp qua từng địa chỉ API trong danh sách\n",
    "for api_url in api_urls:\n",
    "    try:\n",
    "        # Gửi yêu cầu GET đến API và nhận dữ liệu JSON\n",
    "        response = requests.get(api_url)\n",
    "        data = response.json()\n",
    "        \n",
    "        # Lấy danh sách bài báo từ trường \"results\"\n",
    "        results = data.get(\"results\", []) \n",
    "\n",
    "        # Nối kết quả từ mỗi API vào DataFrame\n",
    "        df = pd.concat([df, pd.DataFrame(results, columns=df.columns)], ignore_index=True)\n",
    "\n",
    "        print(f\"Đã lấy dữ liệu thành công từ {api_url}\")\n",
    "\n",
    "    except Exception as e:\n",
    "        print(f\"Lấy dữ liệu không thành công. Hãy kiểm tra lại {api_url}. Error: {str(e)}\")\n",
    "\n",
    "# In ra DataFrame tổng cộng sau khi lấy từ tất cả các API\n",
    "print(df)\n",
    "\n"
   ]
  },
  {
   "cell_type": "code",
   "execution_count": 3,
   "metadata": {
    "ExecuteTime": {
     "end_time": "2023-12-26T16:27:05.357166100Z",
     "start_time": "2023-12-26T16:27:05.346905900Z"
    }
   },
   "outputs": [],
   "source": [
    "df.to_csv('data/RealNewsfrom_NewsData_io_UPDATED.csv', index=False, encoding='utf-8', mode='a', header=False)"
   ]
  },
  {
   "cell_type": "code",
   "execution_count": 4,
   "metadata": {
    "ExecuteTime": {
     "end_time": "2023-12-26T16:27:05.432870200Z",
     "start_time": "2023-12-26T16:27:05.358162700Z"
    }
   },
   "outputs": [],
   "source": [
    "df = pd.read_csv('data/RealNewsfrom_NewsData_io_UPDATED.csv')\n",
    "duplicate_rows = df[df.duplicated('article_id')]\n",
    "df = df.drop_duplicates('article_id', keep='first')\n",
    "df.to_csv('data/RealNewsfrom_NewsData_io_UPDATED.csv', index=False)"
   ]
  }
 ],
 "metadata": {
  "kernelspec": {
   "display_name": "Python 3",
   "language": "python",
   "name": "python3"
  },
  "language_info": {
   "codemirror_mode": {
    "name": "ipython",
    "version": 3
   },
   "file_extension": ".py",
   "mimetype": "text/x-python",
   "name": "python",
   "nbconvert_exporter": "python",
   "pygments_lexer": "ipython3",
   "version": "3.11.0"
  }
 },
 "nbformat": 4,
 "nbformat_minor": 2
}
