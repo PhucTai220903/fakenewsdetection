{
 "cells": [
  {
   "cell_type": "markdown",
   "metadata": {},
   "source": [
    "Lấy những bài báo random gần đây nhất (Vietnam News API)"
   ]
  },
  {
   "cell_type": "code",
   "execution_count": 1,
   "metadata": {
    "ExecuteTime": {
     "end_time": "2023-12-26T16:26:56.360147900Z",
     "start_time": "2023-12-26T16:26:55.976729300Z"
    }
   },
   "outputs": [],
   "source": [
    "import requests\n",
    "from urllib.parse import urlparse, parse_qs\n",
    "import pandas as pd"
   ]
  },
  {
   "cell_type": "code",
   "execution_count": 2,
   "metadata": {
    "ExecuteTime": {
     "end_time": "2023-12-26T16:27:05.346905900Z",
     "start_time": "2023-12-26T16:26:56.362195Z"
    }
   },
   "outputs": [
    {
     "name": "stdout",
     "output_type": "stream",
     "text": [
      "Đã lấy dữ liệu thành công từ https://newsdata.io/api/1/news?country=vi&category=top&apikey=pub_349954ee9077f2ddc34d6b922c7de34859a0a\n",
      "Đã lấy dữ liệu thành công từ https://newsdata.io/api/1/news?country=vi&category=sports&apikey=pub_349954ee9077f2ddc34d6b922c7de34859a0a\n",
      "Đã lấy dữ liệu thành công từ https://newsdata.io/api/1/news?country=vi&category=technology&apikey=pub_349954ee9077f2ddc34d6b922c7de34859a0a\n",
      "Đã lấy dữ liệu thành công từ https://newsdata.io/api/1/news?country=vi&category=science&apikey=pub_349954ee9077f2ddc34d6b922c7de34859a0a\n",
      "Đã lấy dữ liệu thành công từ https://newsdata.io/api/1/news?country=vi&category=entertainment&apikey=pub_349954ee9077f2ddc34d6b922c7de34859a0a\n",
      "Đã lấy dữ liệu thành công từ https://newsdata.io/api/1/news?country=vi&category=health&apikey=pub_349954ee9077f2ddc34d6b922c7de34859a0a\n",
      "Đã lấy dữ liệu thành công từ https://newsdata.io/api/1/news?country=vi&category=world&apikey=pub_349954ee9077f2ddc34d6b922c7de34859a0a\n",
      "Đã lấy dữ liệu thành công từ https://newsdata.io/api/1/news?country=vi&category=politics&apikey=pub_349954ee9077f2ddc34d6b922c7de34859a0a\n",
      "Đã lấy dữ liệu thành công từ https://newsdata.io/api/1/news?country=vi&category=environment&apikey=pub_349954ee9077f2ddc34d6b922c7de34859a0ahttps://newsdata.io/api/1/news?country=vi&category=food&apikey=pub_349954ee9077f2ddc34d6b922c7de34859a0a\n",
      "                          article_id   \n",
      "0   6dc2c441eb9e6a19f23a017dabd58f72  \\\n",
      "1   cf3bfdd14406466aab042b59b34053a5   \n",
      "2   6f278d3398a789fb2cd2e74269aa5ff5   \n",
      "3   0320538a412b4d9393976a8413f42276   \n",
      "4   e89b751769f4f076b78660ff51874941   \n",
      "..                               ...   \n",
      "74  cf0fc0fa48e8fc0b89ac7d998ab5a899   \n",
      "75  a48a155e81686b1b1eef977a2161a723   \n",
      "76  5b90f673067a8ac6ee8c4a41e3a4d9c8   \n",
      "77  070b34da81815a4c153d36865e7db748   \n",
      "78  c276c6388bfa5bbe4c316c26a3cd20c8   \n",
      "\n",
      "                                                title   \n",
      "0   Thành phố Belgorod của Nga bị tấn công, 5 ngườ...  \\\n",
      "1   Cảnh sát Đà Nẵng dùng xe đặc chủng chở em bé b...   \n",
      "2   Thủ tướng yêu cầu cung ứng đủ xăng dầu trong m...   \n",
      "3   Tại sao Hoàng đế không bắt thái y phải \"tịnh t...   \n",
      "4   Đăng đàn chỉ trích công chúng để tưởng nhớ Lee...   \n",
      "..                                                ...   \n",
      "74  Cựu bí thư Tỉnh uỷ Thanh Hóa Trịnh Văn Chiến b...   \n",
      "75   Cựu chi cục trưởng Kiểm lâm Quảng Trị bị khởi tố   \n",
      "76              Ông Diệp Dũng bị tuyên phạt 10 năm tù   \n",
      "77  Giám đốc vướng lao lý trong vụ hở điện làm chế...   \n",
      "78  Giám đốc Trung tâm dạy nghề lái xe Sài Gòn bị ...   \n",
      "\n",
      "                                                 link creator   \n",
      "0   https://tuoitre.vn/thanh-pho-belgorod-cua-nga-...    None  \\\n",
      "1   https://tuoitre.vn/canh-sat-da-nang-dung-xe-da...    None   \n",
      "2   https://danviet.vn/thu-tuong-yeu-cau-cung-ung-...    None   \n",
      "3   https://danviet.vn/tai-sao-hoang-de-khong-bat-...    None   \n",
      "4   https://docnhanh.vn/sao-360/dang-dan-chi-trich...    None   \n",
      "..                                                ...     ...   \n",
      "74  https://vnexpress.net/cuu-bi-thu-tinh-uy-thanh...    None   \n",
      "75  https://vnexpress.net/cuu-chi-cuc-truong-kiem-...    None   \n",
      "76  https://vnexpress.net/ong-diep-dung-bi-tuyen-p...    None   \n",
      "77  https://vnexpress.net/giam-doc-vuong-lao-ly-tr...    None   \n",
      "78  https://vnexpress.net/giam-doc-trung-tam-day-n...    None   \n",
      "\n",
      "                                          description   \n",
      "0   Chính quyền Nga tố Ukraine tấn công vào một tò...  \\\n",
      "1   Đang làm nhiệm vụ, khi thấy người dân cần giúp...   \n",
      "2   Thủ tướng Phạm Minh Chính yêu cầu Bộ Công Thươ...   \n",
      "3   Thái giám và thái y được ra vào hậu cung để th...   \n",
      "4   Nhiều người cho rằng những ngôi sao này chỉ đa...   \n",
      "..                                                ...   \n",
      "74  Ông Trịnh Văn Chiến, cựu bí thư Tỉnh ủy Thanh ...   \n",
      "75  Ông Trần Văn Tý, cựu chi cục trưởng kiểm lâm t...   \n",
      "76  Tòa cho rằng ông Diệp Dũng chủ mưu việc sử dụn...   \n",
      "77  Đặng Văn Hải, giám đốc công ty được thuê lắp h...   \n",
      "78  Ông Hồ Đình Thái Hòa, Giám đốc Trung tâm dạy n...   \n",
      "\n",
      "                                              content  source_id    category  \n",
      "0   Thành phố Belgorod của Nga bị tấn công, 5 ngườ...    tuoitre       [top]  \n",
      "1   Cảnh sát Đà Nẵng dùng xe đặc chủng chở em bé b...    tuoitre       [top]  \n",
      "2   Bộ trưởng Bộ Công Thương phải khẩn trương phân...    danviet       [top]  \n",
      "3   Thái giám là nhóm người phục vụ trong triều đì...    danviet       [top]  \n",
      "4   Tại showbiz Hàn Quốc đang diễn ra làn sóng tưở...     docbao       [top]  \n",
      "..                                                ...        ...         ...  \n",
      "74  Quyết định khởi tố, cấm đi khỏi nơi cư trú với...  vnexpress  [politics]  \n",
      "75  Ngày 29/12, Công an tỉnh Quảng Trị khởi tố bị ...  vnexpress  [politics]  \n",
      "76  Tối 29/12, ông Diệp Dũng, cựu chủ tịch HĐQT Li...  vnexpress  [politics]  \n",
      "77  Hải, 33 tuổi, bị Cơ quan cảnh sát điều tra, Cô...  vnexpress  [politics]  \n",
      "78  Ngày 29/12, các quyết định tố tụng với ông Hòa...  vnexpress  [politics]  \n",
      "\n",
      "[79 rows x 8 columns]\n"
     ]
    }
   ],
   "source": [
    "# Danh sách các địa chỉ API\n",
    "api_urls = [\n",
    "    \n",
    "    \"https://newsdata.io/api/1/news?country=vi&category=top&apikey=pub_349954ee9077f2ddc34d6b922c7de34859a0a\",\n",
    "    \"https://newsdata.io/api/1/news?country=vi&category=sports&apikey=pub_349954ee9077f2ddc34d6b922c7de34859a0a\",\n",
    "    \"https://newsdata.io/api/1/news?country=vi&category=technology&apikey=pub_349954ee9077f2ddc34d6b922c7de34859a0a\",\n",
    "    \"https://newsdata.io/api/1/news?country=vi&category=science&apikey=pub_349954ee9077f2ddc34d6b922c7de34859a0a\",\n",
    "    \"https://newsdata.io/api/1/news?country=vi&category=entertainment&apikey=pub_349954ee9077f2ddc34d6b922c7de34859a0a\",\n",
    "    \"https://newsdata.io/api/1/news?country=vi&category=health&apikey=pub_349954ee9077f2ddc34d6b922c7de34859a0a\",\n",
    "    \"https://newsdata.io/api/1/news?country=vi&category=world&apikey=pub_349954ee9077f2ddc34d6b922c7de34859a0a\",\n",
    "    \"https://newsdata.io/api/1/news?country=vi&category=politics&apikey=pub_349954ee9077f2ddc34d6b922c7de34859a0a\",\n",
    "    \"https://newsdata.io/api/1/news?country=vi&category=environment&apikey=pub_349954ee9077f2ddc34d6b922c7de34859a0a\"\n",
    "    \"https://newsdata.io/api/1/news?country=vi&category=food&apikey=pub_349954ee9077f2ddc34d6b922c7de34859a0a\"\n",
    "]\n",
    "\n",
    "    # TopHot: \"https://newsdata.io/api/1/news?country=vi&category=top&apikey=pub_349954ee9077f2ddc34d6b922c7de34859a0a\",\n",
    "    # Thể thao: \"https://newsdata.io/api/1/news?country=vi&category=sports&apikey=pub_349954ee9077f2ddc34d6b922c7de34859a0a\",\n",
    "    # Công Nghệ: \"https://newsdata.io/api/1/news?country=vi&category=technology&apikey=pub_349954ee9077f2ddc34d6b922c7de34859a0a\",\n",
    "    # Khoa học: \"https://newsdata.io/api/1/news?country=vi&category=science&apikey=pub_349954ee9077f2ddc34d6b922c7de34859a0a\",\n",
    "    # Giải trí: \"https://newsdata.io/api/1/news?country=vi&category=entertainment&apikey=pub_349954ee9077f2ddc34d6b922c7de34859a0a\",\n",
    "    # Sức khỏe: \"https://newsdata.io/api/1/news?country=vi&category=health&apikey=pub_349954ee9077f2ddc34d6b922c7de34859a0a\",\n",
    "    # Thế giới: \"https://newsdata.io/api/1/news?country=vi&category=world&apikey=pub_349954ee9077f2ddc34d6b922c7de34859a0a\",\n",
    "    # Chính trị: \"https://newsdata.io/api/1/news?country=vi&category=politics&apikey=pub_349954ee9077f2ddc34d6b922c7de34859a0a\",\n",
    "    # Môi trường: \"https://newsdata.io/api/1/news?country=vi&category=environment&apikey=pub_349954ee9077f2ddc34d6b922c7de34859a0a\"\n",
    "    # Food: \"https://newsdata.io/api/1/news?country=vi&category=food&apikey=pub_349954ee9077f2ddc34d6b922c7de34859a0a\"\n",
    "\n",
    "\n",
    "# Khởi tạo DataFrame trống\n",
    "df = pd.DataFrame(columns=[\"article_id\", \"title\", \"link\", \"creator\", \"description\", \"content\", \"source_id\", \"category\"])\n",
    "\n",
    "# Lặp qua từng địa chỉ API trong danh sách\n",
    "for api_url in api_urls:\n",
    "    try:\n",
    "        # Gửi yêu cầu GET đến API và nhận dữ liệu JSON\n",
    "        response = requests.get(api_url)\n",
    "        data = response.json()\n",
    "        \n",
    "        # Lấy danh sách bài báo từ trường \"results\"\n",
    "        results = data.get(\"results\", []) \n",
    "\n",
    "        # Nối kết quả từ mỗi API vào DataFrame\n",
    "        df = pd.concat([df, pd.DataFrame(results, columns=df.columns)], ignore_index=True)\n",
    "\n",
    "        print(f\"Đã lấy dữ liệu thành công từ {api_url}\")\n",
    "\n",
    "    except Exception as e:\n",
    "        print(f\"Lấy dữ liệu không thành công. Hãy kiểm tra lại {api_url}. Error: {str(e)}\")\n",
    "\n",
    "# In ra DataFrame tổng cộng sau khi lấy từ tất cả các API\n",
    "print(df)\n",
    "\n"
   ]
  },
  {
   "cell_type": "code",
   "execution_count": 3,
   "metadata": {
    "ExecuteTime": {
     "end_time": "2023-12-26T16:27:05.357166100Z",
     "start_time": "2023-12-26T16:27:05.346905900Z"
    }
   },
   "outputs": [],
   "source": [
    "df.to_csv('data/RealNewsfrom_NewsData_io_UPDATED.csv', index=False, encoding='utf-8', mode='a', header=False)"
   ]
  },
  {
   "cell_type": "code",
   "execution_count": 4,
   "metadata": {
    "ExecuteTime": {
     "end_time": "2023-12-26T16:27:05.432870200Z",
     "start_time": "2023-12-26T16:27:05.358162700Z"
    }
   },
   "outputs": [],
   "source": [
    "df = pd.read_csv('data/RealNewsfrom_NewsData_io_UPDATED.csv')\n",
    "duplicate_rows = df[df.duplicated('article_id')]\n",
    "df = df.drop_duplicates('article_id', keep='first')\n",
    "df.to_csv('data/RealNewsfrom_NewsData_io_UPDATED.csv', index=False)"
   ]
  }
 ],
 "metadata": {
  "kernelspec": {
   "display_name": "Python 3",
   "language": "python",
   "name": "python3"
  },
  "language_info": {
   "codemirror_mode": {
    "name": "ipython",
    "version": 3
   },
   "file_extension": ".py",
   "mimetype": "text/x-python",
   "name": "python",
   "nbconvert_exporter": "python",
   "pygments_lexer": "ipython3",
   "version": "3.11.0"
  }
 },
 "nbformat": 4,
 "nbformat_minor": 2
}
