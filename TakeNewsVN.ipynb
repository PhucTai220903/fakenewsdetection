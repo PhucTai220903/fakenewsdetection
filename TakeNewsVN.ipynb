{
 "cells": [
  {
   "cell_type": "markdown",
   "metadata": {},
   "source": [
    "Lấy những bài báo random gần đây nhất (Vietnam News API)"
   ]
  },
  {
   "cell_type": "code",
   "execution_count": 1,
   "metadata": {
    "ExecuteTime": {
     "end_time": "2023-12-26T16:26:56.360147900Z",
     "start_time": "2023-12-26T16:26:55.976729300Z"
    }
   },
   "outputs": [],
   "source": [
    "import requests\n",
    "from urllib.parse import urlparse, parse_qs\n",
    "import pandas as pd"
   ]
  },
  {
   "cell_type": "code",
   "execution_count": 2,
   "metadata": {
    "ExecuteTime": {
     "end_time": "2023-12-26T16:27:05.346905900Z",
     "start_time": "2023-12-26T16:26:56.362195Z"
    }
   },
   "outputs": [
    {
     "name": "stdout",
     "output_type": "stream",
     "text": [
      "Đã lấy dữ liệu thành công từ https://newsdata.io/api/1/news?country=vi&category=top&apikey=pub_349954ee9077f2ddc34d6b922c7de34859a0a\n",
      "Đã lấy dữ liệu thành công từ https://newsdata.io/api/1/news?country=vi&category=sports&apikey=pub_349954ee9077f2ddc34d6b922c7de34859a0a\n",
      "Đã lấy dữ liệu thành công từ https://newsdata.io/api/1/news?country=vi&category=technology&apikey=pub_349954ee9077f2ddc34d6b922c7de34859a0a\n",
      "Đã lấy dữ liệu thành công từ https://newsdata.io/api/1/news?country=vi&category=science&apikey=pub_349954ee9077f2ddc34d6b922c7de34859a0a\n",
      "Đã lấy dữ liệu thành công từ https://newsdata.io/api/1/news?country=vi&category=entertainment&apikey=pub_349954ee9077f2ddc34d6b922c7de34859a0a\n",
      "Đã lấy dữ liệu thành công từ https://newsdata.io/api/1/news?country=vi&category=health&apikey=pub_349954ee9077f2ddc34d6b922c7de34859a0a\n",
      "Đã lấy dữ liệu thành công từ https://newsdata.io/api/1/news?country=vi&category=world&apikey=pub_349954ee9077f2ddc34d6b922c7de34859a0a\n",
      "Đã lấy dữ liệu thành công từ https://newsdata.io/api/1/news?country=vi&category=politics&apikey=pub_349954ee9077f2ddc34d6b922c7de34859a0a\n",
      "Đã lấy dữ liệu thành công từ https://newsdata.io/api/1/news?country=vi&category=environment&apikey=pub_349954ee9077f2ddc34d6b922c7de34859a0ahttps://newsdata.io/api/1/news?country=vi&category=food&apikey=pub_349954ee9077f2ddc34d6b922c7de34859a0a\n",
      "                          article_id   \n",
      "0   04528e4b37d303177f2ec348a68f6e9b  \\\n",
      "1   5c90ef882745912049ea304a5763ab7a   \n",
      "2   972aa58c45325e565e8b11dcd2afa3ea   \n",
      "3   2e516bcccc6c34c1bf38ebab0dc1055c   \n",
      "4   687e1c2a3043e0390e9f3b468fd66cb3   \n",
      "..                               ...   \n",
      "70  853ee5d737304ea818cdf4b8feadbb64   \n",
      "71  c6a1a0ac96da7f9131032e082109bde5   \n",
      "72  c1fba4d6059b108f45bb82b6596ed055   \n",
      "73  cc894bcb927beafc5bcee42ca5382a69   \n",
      "74  4b048e9c46d20573cc684a92043186c1   \n",
      "\n",
      "                                                title   \n",
      "0   Truy tìm đối tượng bỏ trốn sau khi gây ra tai ...  \\\n",
      "1   Chùa Ba Vàng gỡ thông tin, hình ảnh liên quan ...   \n",
      "2   Ảnh cưới full HD của Quang Hải - Chu Thanh Huy...   \n",
      "3   Dự tiệc cuối năm, nhiều lái xe ở TP.HCM vi phạ...   \n",
      "4   Thu Phương, Anh Tú hăng say tổng duyệt Chung k...   \n",
      "..                                                ...   \n",
      "70   Bi kịch gia đình sau câu thách thức của người vợ   \n",
      "71  Lập 280 công ty để bán hóa đơn VAT hơn 25.000 ...   \n",
      "72  Chủ nhà hàng ở Sài Gòn tuyển 200 nhân viên phụ...   \n",
      "73  Vụ phó Kế hoạch Tài chính Bộ Thông tin và Truy...   \n",
      "74            Cựu phó chủ tịch huyện ở Cần Thơ bị bắt   \n",
      "\n",
      "                                                 link creator   \n",
      "0   https://danviet.vn/truy-tim-doi-tuong-bo-tron-...    None  \\\n",
      "1   https://docnhanh.vn/xa-hoi/chua-ba-vang-go-tho...    None   \n",
      "2   https://docnhanh.vn/gioi-tre/anh-cuoi-full-hd-...    None   \n",
      "3   https://cafef.vn/du-tiec-cuoi-nam-nhieu-lai-xe...    None   \n",
      "4   https://kenh14.vn/thu-phuong-anh-tu-hang-say-t...    None   \n",
      "..                                                ...     ...   \n",
      "70  https://vnexpress.net/bi-kich-gia-dinh-sau-cau...    None   \n",
      "71  https://vnexpress.net/lap-280-cong-ty-de-ban-h...    None   \n",
      "72  https://vnexpress.net/chu-nha-hang-nguoi-trung...    None   \n",
      "73  https://vnexpress.net/vu-pho-ke-hoach-tai-chin...    None   \n",
      "74  https://vnexpress.net/cuu-pho-chu-tich-huyen-o...    None   \n",
      "\n",
      "                                          description   \n",
      "0   Công an huyện Ea H’Leo (Đắk Lắk) thông báo về ...  \\\n",
      "1   Trước yêu cầu của Giáo hội Phật giáo Việt Nam,...   \n",
      "2   Cặp đôi dâu xinh rể xịn đang được quan tâm nhấ...   \n",
      "3   Dự tiệc cuối năm, nhiều lái xe ở TP.HCM vi phạ...   \n",
      "4   Thu Phương, Hương Giang, Anh Tú, Vũ Thảo My hă...   \n",
      "..                                                ...   \n",
      "70  Chị Phan Thị Thủy gục đầu khóc, nói hối hận vì...   \n",
      "71  16 người móc nối lập 280 công ty để bán hơn 18...   \n",
      "72  Zhang Lei, 38 tuổi, bị cáo buộc tuyển 200 nhân...   \n",
      "73  Ông Nguyễn Trọng Đường, Vụ phó Kế hoạch Tài ch...   \n",
      "74  Ông Trần Ngọc Hải bị cáo buộc khi đương chức P...   \n",
      "\n",
      "                                              content  source_id    category  \n",
      "0   Theo thông báo của Công an huyện Ea H’Leo (Đắk...    danviet       [top]  \n",
      "1   Trưa 31/12, theo ghi nhận của PV, trang web ch...     docbao       [top]  \n",
      "2   “Mở bát” đường cưới xin năm nay chính là cầu t...     docbao       [top]  \n",
      "3   Tối 30/12, Đội CSGT Tân Sơn Nhất (Phòng Cảnh s...      cafef       [top]  \n",
      "4   Tối nay (31/12), Chung kết Hoa hậu Hoàn vũ Việ...     kenh14       [top]  \n",
      "..                                                ...        ...         ...  \n",
      "70  Suốt phiên xử mở tại TAND tỉnh Nghệ An vào cuố...  vnexpress  [politics]  \n",
      "71  Ngày 30/12, Phòng Cảnh sát Kinh tế (Công an Đà...  vnexpress  [politics]  \n",
      "72  Ngày 30/12, Zhang Lei cùng 7 người bị Phòng Cả...  vnexpress  [politics]  \n",
      "73  Ông Đường và ông Ngô Quang Huy (Phó Chánh văn ...  vnexpress  [politics]  \n",
      "74  Ông Hải, 66 tuổi, nguyên phó chủ tịch UBND, ch...  vnexpress  [politics]  \n",
      "\n",
      "[75 rows x 8 columns]\n"
     ]
    }
   ],
   "source": [
    "# Danh sách các địa chỉ API\n",
    "api_urls = [\n",
    "    \n",
    "    \"https://newsdata.io/api/1/news?country=vi&category=top&apikey=pub_349954ee9077f2ddc34d6b922c7de34859a0a\",\n",
    "    \"https://newsdata.io/api/1/news?country=vi&category=sports&apikey=pub_349954ee9077f2ddc34d6b922c7de34859a0a\",\n",
    "    \"https://newsdata.io/api/1/news?country=vi&category=technology&apikey=pub_349954ee9077f2ddc34d6b922c7de34859a0a\",\n",
    "    \"https://newsdata.io/api/1/news?country=vi&category=science&apikey=pub_349954ee9077f2ddc34d6b922c7de34859a0a\",\n",
    "    \"https://newsdata.io/api/1/news?country=vi&category=entertainment&apikey=pub_349954ee9077f2ddc34d6b922c7de34859a0a\",\n",
    "    \"https://newsdata.io/api/1/news?country=vi&category=health&apikey=pub_349954ee9077f2ddc34d6b922c7de34859a0a\",\n",
    "    \"https://newsdata.io/api/1/news?country=vi&category=world&apikey=pub_349954ee9077f2ddc34d6b922c7de34859a0a\",\n",
    "    \"https://newsdata.io/api/1/news?country=vi&category=politics&apikey=pub_349954ee9077f2ddc34d6b922c7de34859a0a\",\n",
    "    \"https://newsdata.io/api/1/news?country=vi&category=environment&apikey=pub_349954ee9077f2ddc34d6b922c7de34859a0a\"\n",
    "    \"https://newsdata.io/api/1/news?country=vi&category=food&apikey=pub_349954ee9077f2ddc34d6b922c7de34859a0a\"\n",
    "]\n",
    "\n",
    "    # TopHot: \"https://newsdata.io/api/1/news?country=vi&category=top&apikey=pub_349954ee9077f2ddc34d6b922c7de34859a0a\",\n",
    "    # Thể thao: \"https://newsdata.io/api/1/news?country=vi&category=sports&apikey=pub_349954ee9077f2ddc34d6b922c7de34859a0a\",\n",
    "    # Công Nghệ: \"https://newsdata.io/api/1/news?country=vi&category=technology&apikey=pub_349954ee9077f2ddc34d6b922c7de34859a0a\",\n",
    "    # Khoa học: \"https://newsdata.io/api/1/news?country=vi&category=science&apikey=pub_349954ee9077f2ddc34d6b922c7de34859a0a\",\n",
    "    # Giải trí: \"https://newsdata.io/api/1/news?country=vi&category=entertainment&apikey=pub_349954ee9077f2ddc34d6b922c7de34859a0a\",\n",
    "    # Sức khỏe: \"https://newsdata.io/api/1/news?country=vi&category=health&apikey=pub_349954ee9077f2ddc34d6b922c7de34859a0a\",\n",
    "    # Thế giới: \"https://newsdata.io/api/1/news?country=vi&category=world&apikey=pub_349954ee9077f2ddc34d6b922c7de34859a0a\",\n",
    "    # Chính trị: \"https://newsdata.io/api/1/news?country=vi&category=politics&apikey=pub_349954ee9077f2ddc34d6b922c7de34859a0a\",\n",
    "    # Môi trường: \"https://newsdata.io/api/1/news?country=vi&category=environment&apikey=pub_349954ee9077f2ddc34d6b922c7de34859a0a\"\n",
    "    # Food: \"https://newsdata.io/api/1/news?country=vi&category=food&apikey=pub_349954ee9077f2ddc34d6b922c7de34859a0a\"\n",
    "\n",
    "\n",
    "# Khởi tạo DataFrame trống\n",
    "df = pd.DataFrame(columns=[\"article_id\", \"title\", \"link\", \"creator\", \"description\", \"content\", \"source_id\", \"category\"])\n",
    "\n",
    "# Lặp qua từng địa chỉ API trong danh sách\n",
    "for api_url in api_urls:\n",
    "    try:\n",
    "        # Gửi yêu cầu GET đến API và nhận dữ liệu JSON\n",
    "        response = requests.get(api_url)\n",
    "        data = response.json()\n",
    "        \n",
    "        # Lấy danh sách bài báo từ trường \"results\"\n",
    "        results = data.get(\"results\", []) \n",
    "\n",
    "        # Nối kết quả từ mỗi API vào DataFrame\n",
    "        df = pd.concat([df, pd.DataFrame(results, columns=df.columns)], ignore_index=True)\n",
    "\n",
    "        print(f\"Đã lấy dữ liệu thành công từ {api_url}\")\n",
    "\n",
    "    except Exception as e:\n",
    "        print(f\"Lấy dữ liệu không thành công. Hãy kiểm tra lại {api_url}. Error: {str(e)}\")\n",
    "\n",
    "# In ra DataFrame tổng cộng sau khi lấy từ tất cả các API\n",
    "print(df)\n",
    "\n"
   ]
  },
  {
   "cell_type": "code",
   "execution_count": 3,
   "metadata": {
    "ExecuteTime": {
     "end_time": "2023-12-26T16:27:05.357166100Z",
     "start_time": "2023-12-26T16:27:05.346905900Z"
    }
   },
   "outputs": [],
   "source": [
    "df.to_csv('data/RealNewsfrom_NewsData_io_UPDATED.csv', index=False, encoding='utf-8', mode='a', header=False)"
   ]
  },
  {
   "cell_type": "code",
   "execution_count": 4,
   "metadata": {
    "ExecuteTime": {
     "end_time": "2023-12-26T16:27:05.432870200Z",
     "start_time": "2023-12-26T16:27:05.358162700Z"
    }
   },
   "outputs": [],
   "source": [
    "df = pd.read_csv('data/RealNewsfrom_NewsData_io_UPDATED.csv')\n",
    "duplicate_rows = df[df.duplicated('article_id')]\n",
    "df = df.drop_duplicates('article_id', keep='first')\n",
    "df.to_csv('data/RealNewsfrom_NewsData_io_UPDATED.csv', index=False)"
   ]
  }
 ],
 "metadata": {
  "kernelspec": {
   "display_name": "Python 3",
   "language": "python",
   "name": "python3"
  },
  "language_info": {
   "codemirror_mode": {
    "name": "ipython",
    "version": 3
   },
   "file_extension": ".py",
   "mimetype": "text/x-python",
   "name": "python",
   "nbconvert_exporter": "python",
   "pygments_lexer": "ipython3",
   "version": "3.11.0"
  }
 },
 "nbformat": 4,
 "nbformat_minor": 2
}
